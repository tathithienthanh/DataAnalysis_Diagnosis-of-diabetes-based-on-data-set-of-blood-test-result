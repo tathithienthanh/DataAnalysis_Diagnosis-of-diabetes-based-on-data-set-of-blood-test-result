{
  "cells": [
    {
      "cell_type": "markdown",
      "metadata": {
        "id": "view-in-github",
        "colab_type": "text"
      },
      "source": [
        "<a href=\"https://colab.research.google.com/github/tathithienthanh/DataAnalysis_Diagnosis-of-diabetes-based-on-data-set-of-blood-test-result/blob/main/PTDL_BTL.ipynb\" target=\"_parent\"><img src=\"https://colab.research.google.com/assets/colab-badge.svg\" alt=\"Open In Colab\"/></a>"
      ]
    },
    {
      "cell_type": "markdown",
      "metadata": {
        "id": "bNCqDFRi-0I7"
      },
      "source": [
        "# Load data"
      ]
    },
    {
      "cell_type": "code",
      "execution_count": 1,
      "metadata": {
        "colab": {
          "base_uri": "https://localhost:8080/"
        },
        "id": "Mi4RatBH9pbA",
        "outputId": "46483bfe-45c2-4ab6-c489-65a1ef2f026d"
      },
      "outputs": [
        {
          "output_type": "stream",
          "name": "stdout",
          "text": [
            "Mounted at /content/drive\n"
          ]
        }
      ],
      "source": [
        "from google.colab import drive\n",
        "drive.mount('/content/drive')"
      ]
    },
    {
      "cell_type": "code",
      "execution_count": 81,
      "metadata": {
        "id": "w89Xrxop9Wsh"
      },
      "outputs": [],
      "source": [
        "import pandas as pd\n",
        "import numpy as np\n",
        "import matplotlib.pyplot as plt\n",
        "import seaborn as sns"
      ]
    },
    {
      "cell_type": "code",
      "execution_count": 3,
      "metadata": {
        "id": "nUhqWJCR80tN"
      },
      "outputs": [],
      "source": [
        "df = pd.read_csv('/content/drive/MyDrive/PTDL/Diabetes_Classification.csv')\n",
        "df = df.drop(df.columns[0], axis = 1)"
      ]
    },
    {
      "cell_type": "code",
      "execution_count": 4,
      "metadata": {
        "colab": {
          "base_uri": "https://localhost:8080/",
          "height": 0
        },
        "id": "WqgBwcfO9lmJ",
        "outputId": "2ed13cb3-4097-4efa-f392-8fb9d37a42ac"
      },
      "outputs": [
        {
          "output_type": "execute_result",
          "data": {
            "text/plain": [
              "       Age Gender   BMI  Chol    TG   HDL   LDL     Cr   BUN  Diagnosis\n",
              "0     50.0      F  24.0  4.20  0.90  2.40  1.40   46.0   4.7        0.0\n",
              "1     26.0      M  23.0  3.70  1.40  1.10  2.10   62.0   4.5        0.0\n",
              "2     33.0      M  21.0  4.90  1.00  0.80  2.00   46.0   7.1        0.0\n",
              "3     45.0      F  21.0  2.90  1.00  1.00  1.50   24.0   2.3        0.0\n",
              "4     50.0      F  24.0  3.60  1.30  0.90  2.10   50.0   2.0        0.0\n",
              "...    ...    ...   ...   ...   ...   ...   ...    ...   ...        ...\n",
              "5327  56.0      M  33.0  5.00  1.70  1.45  1.90   84.0   5.0        1.0\n",
              "5328  61.0      F  39.0  3.80  3.00  0.90  1.70  111.0  10.5        1.0\n",
              "5329  60.0      M  24.0  3.40  5.30  1.10  3.60   70.0   7.5        0.0\n",
              "5330  52.0      F  24.0  5.07  1.08  1.37  3.31   57.3   4.5        0.0\n",
              "5331  86.0      M  23.0  5.26  2.01  1.43  2.94   64.5   4.2        0.0\n",
              "\n",
              "[5332 rows x 10 columns]"
            ],
            "text/html": [
              "\n",
              "  <div id=\"df-12c73913-8cfc-4751-8a88-73cb30b11143\" class=\"colab-df-container\">\n",
              "    <div>\n",
              "<style scoped>\n",
              "    .dataframe tbody tr th:only-of-type {\n",
              "        vertical-align: middle;\n",
              "    }\n",
              "\n",
              "    .dataframe tbody tr th {\n",
              "        vertical-align: top;\n",
              "    }\n",
              "\n",
              "    .dataframe thead th {\n",
              "        text-align: right;\n",
              "    }\n",
              "</style>\n",
              "<table border=\"1\" class=\"dataframe\">\n",
              "  <thead>\n",
              "    <tr style=\"text-align: right;\">\n",
              "      <th></th>\n",
              "      <th>Age</th>\n",
              "      <th>Gender</th>\n",
              "      <th>BMI</th>\n",
              "      <th>Chol</th>\n",
              "      <th>TG</th>\n",
              "      <th>HDL</th>\n",
              "      <th>LDL</th>\n",
              "      <th>Cr</th>\n",
              "      <th>BUN</th>\n",
              "      <th>Diagnosis</th>\n",
              "    </tr>\n",
              "  </thead>\n",
              "  <tbody>\n",
              "    <tr>\n",
              "      <th>0</th>\n",
              "      <td>50.0</td>\n",
              "      <td>F</td>\n",
              "      <td>24.0</td>\n",
              "      <td>4.20</td>\n",
              "      <td>0.90</td>\n",
              "      <td>2.40</td>\n",
              "      <td>1.40</td>\n",
              "      <td>46.0</td>\n",
              "      <td>4.7</td>\n",
              "      <td>0.0</td>\n",
              "    </tr>\n",
              "    <tr>\n",
              "      <th>1</th>\n",
              "      <td>26.0</td>\n",
              "      <td>M</td>\n",
              "      <td>23.0</td>\n",
              "      <td>3.70</td>\n",
              "      <td>1.40</td>\n",
              "      <td>1.10</td>\n",
              "      <td>2.10</td>\n",
              "      <td>62.0</td>\n",
              "      <td>4.5</td>\n",
              "      <td>0.0</td>\n",
              "    </tr>\n",
              "    <tr>\n",
              "      <th>2</th>\n",
              "      <td>33.0</td>\n",
              "      <td>M</td>\n",
              "      <td>21.0</td>\n",
              "      <td>4.90</td>\n",
              "      <td>1.00</td>\n",
              "      <td>0.80</td>\n",
              "      <td>2.00</td>\n",
              "      <td>46.0</td>\n",
              "      <td>7.1</td>\n",
              "      <td>0.0</td>\n",
              "    </tr>\n",
              "    <tr>\n",
              "      <th>3</th>\n",
              "      <td>45.0</td>\n",
              "      <td>F</td>\n",
              "      <td>21.0</td>\n",
              "      <td>2.90</td>\n",
              "      <td>1.00</td>\n",
              "      <td>1.00</td>\n",
              "      <td>1.50</td>\n",
              "      <td>24.0</td>\n",
              "      <td>2.3</td>\n",
              "      <td>0.0</td>\n",
              "    </tr>\n",
              "    <tr>\n",
              "      <th>4</th>\n",
              "      <td>50.0</td>\n",
              "      <td>F</td>\n",
              "      <td>24.0</td>\n",
              "      <td>3.60</td>\n",
              "      <td>1.30</td>\n",
              "      <td>0.90</td>\n",
              "      <td>2.10</td>\n",
              "      <td>50.0</td>\n",
              "      <td>2.0</td>\n",
              "      <td>0.0</td>\n",
              "    </tr>\n",
              "    <tr>\n",
              "      <th>...</th>\n",
              "      <td>...</td>\n",
              "      <td>...</td>\n",
              "      <td>...</td>\n",
              "      <td>...</td>\n",
              "      <td>...</td>\n",
              "      <td>...</td>\n",
              "      <td>...</td>\n",
              "      <td>...</td>\n",
              "      <td>...</td>\n",
              "      <td>...</td>\n",
              "    </tr>\n",
              "    <tr>\n",
              "      <th>5327</th>\n",
              "      <td>56.0</td>\n",
              "      <td>M</td>\n",
              "      <td>33.0</td>\n",
              "      <td>5.00</td>\n",
              "      <td>1.70</td>\n",
              "      <td>1.45</td>\n",
              "      <td>1.90</td>\n",
              "      <td>84.0</td>\n",
              "      <td>5.0</td>\n",
              "      <td>1.0</td>\n",
              "    </tr>\n",
              "    <tr>\n",
              "      <th>5328</th>\n",
              "      <td>61.0</td>\n",
              "      <td>F</td>\n",
              "      <td>39.0</td>\n",
              "      <td>3.80</td>\n",
              "      <td>3.00</td>\n",
              "      <td>0.90</td>\n",
              "      <td>1.70</td>\n",
              "      <td>111.0</td>\n",
              "      <td>10.5</td>\n",
              "      <td>1.0</td>\n",
              "    </tr>\n",
              "    <tr>\n",
              "      <th>5329</th>\n",
              "      <td>60.0</td>\n",
              "      <td>M</td>\n",
              "      <td>24.0</td>\n",
              "      <td>3.40</td>\n",
              "      <td>5.30</td>\n",
              "      <td>1.10</td>\n",
              "      <td>3.60</td>\n",
              "      <td>70.0</td>\n",
              "      <td>7.5</td>\n",
              "      <td>0.0</td>\n",
              "    </tr>\n",
              "    <tr>\n",
              "      <th>5330</th>\n",
              "      <td>52.0</td>\n",
              "      <td>F</td>\n",
              "      <td>24.0</td>\n",
              "      <td>5.07</td>\n",
              "      <td>1.08</td>\n",
              "      <td>1.37</td>\n",
              "      <td>3.31</td>\n",
              "      <td>57.3</td>\n",
              "      <td>4.5</td>\n",
              "      <td>0.0</td>\n",
              "    </tr>\n",
              "    <tr>\n",
              "      <th>5331</th>\n",
              "      <td>86.0</td>\n",
              "      <td>M</td>\n",
              "      <td>23.0</td>\n",
              "      <td>5.26</td>\n",
              "      <td>2.01</td>\n",
              "      <td>1.43</td>\n",
              "      <td>2.94</td>\n",
              "      <td>64.5</td>\n",
              "      <td>4.2</td>\n",
              "      <td>0.0</td>\n",
              "    </tr>\n",
              "  </tbody>\n",
              "</table>\n",
              "<p>5332 rows × 10 columns</p>\n",
              "</div>\n",
              "    <div class=\"colab-df-buttons\">\n",
              "\n",
              "  <div class=\"colab-df-container\">\n",
              "    <button class=\"colab-df-convert\" onclick=\"convertToInteractive('df-12c73913-8cfc-4751-8a88-73cb30b11143')\"\n",
              "            title=\"Convert this dataframe to an interactive table.\"\n",
              "            style=\"display:none;\">\n",
              "\n",
              "  <svg xmlns=\"http://www.w3.org/2000/svg\" height=\"24px\" viewBox=\"0 -960 960 960\">\n",
              "    <path d=\"M120-120v-720h720v720H120Zm60-500h600v-160H180v160Zm220 220h160v-160H400v160Zm0 220h160v-160H400v160ZM180-400h160v-160H180v160Zm440 0h160v-160H620v160ZM180-180h160v-160H180v160Zm440 0h160v-160H620v160Z\"/>\n",
              "  </svg>\n",
              "    </button>\n",
              "\n",
              "  <style>\n",
              "    .colab-df-container {\n",
              "      display:flex;\n",
              "      gap: 12px;\n",
              "    }\n",
              "\n",
              "    .colab-df-convert {\n",
              "      background-color: #E8F0FE;\n",
              "      border: none;\n",
              "      border-radius: 50%;\n",
              "      cursor: pointer;\n",
              "      display: none;\n",
              "      fill: #1967D2;\n",
              "      height: 32px;\n",
              "      padding: 0 0 0 0;\n",
              "      width: 32px;\n",
              "    }\n",
              "\n",
              "    .colab-df-convert:hover {\n",
              "      background-color: #E2EBFA;\n",
              "      box-shadow: 0px 1px 2px rgba(60, 64, 67, 0.3), 0px 1px 3px 1px rgba(60, 64, 67, 0.15);\n",
              "      fill: #174EA6;\n",
              "    }\n",
              "\n",
              "    .colab-df-buttons div {\n",
              "      margin-bottom: 4px;\n",
              "    }\n",
              "\n",
              "    [theme=dark] .colab-df-convert {\n",
              "      background-color: #3B4455;\n",
              "      fill: #D2E3FC;\n",
              "    }\n",
              "\n",
              "    [theme=dark] .colab-df-convert:hover {\n",
              "      background-color: #434B5C;\n",
              "      box-shadow: 0px 1px 3px 1px rgba(0, 0, 0, 0.15);\n",
              "      filter: drop-shadow(0px 1px 2px rgba(0, 0, 0, 0.3));\n",
              "      fill: #FFFFFF;\n",
              "    }\n",
              "  </style>\n",
              "\n",
              "    <script>\n",
              "      const buttonEl =\n",
              "        document.querySelector('#df-12c73913-8cfc-4751-8a88-73cb30b11143 button.colab-df-convert');\n",
              "      buttonEl.style.display =\n",
              "        google.colab.kernel.accessAllowed ? 'block' : 'none';\n",
              "\n",
              "      async function convertToInteractive(key) {\n",
              "        const element = document.querySelector('#df-12c73913-8cfc-4751-8a88-73cb30b11143');\n",
              "        const dataTable =\n",
              "          await google.colab.kernel.invokeFunction('convertToInteractive',\n",
              "                                                    [key], {});\n",
              "        if (!dataTable) return;\n",
              "\n",
              "        const docLinkHtml = 'Like what you see? Visit the ' +\n",
              "          '<a target=\"_blank\" href=https://colab.research.google.com/notebooks/data_table.ipynb>data table notebook</a>'\n",
              "          + ' to learn more about interactive tables.';\n",
              "        element.innerHTML = '';\n",
              "        dataTable['output_type'] = 'display_data';\n",
              "        await google.colab.output.renderOutput(dataTable, element);\n",
              "        const docLink = document.createElement('div');\n",
              "        docLink.innerHTML = docLinkHtml;\n",
              "        element.appendChild(docLink);\n",
              "      }\n",
              "    </script>\n",
              "  </div>\n",
              "\n",
              "\n",
              "<div id=\"df-2bd8db6c-465a-4c4a-b5f0-dd7efe410898\">\n",
              "  <button class=\"colab-df-quickchart\" onclick=\"quickchart('df-2bd8db6c-465a-4c4a-b5f0-dd7efe410898')\"\n",
              "            title=\"Suggest charts\"\n",
              "            style=\"display:none;\">\n",
              "\n",
              "<svg xmlns=\"http://www.w3.org/2000/svg\" height=\"24px\"viewBox=\"0 0 24 24\"\n",
              "     width=\"24px\">\n",
              "    <g>\n",
              "        <path d=\"M19 3H5c-1.1 0-2 .9-2 2v14c0 1.1.9 2 2 2h14c1.1 0 2-.9 2-2V5c0-1.1-.9-2-2-2zM9 17H7v-7h2v7zm4 0h-2V7h2v10zm4 0h-2v-4h2v4z\"/>\n",
              "    </g>\n",
              "</svg>\n",
              "  </button>\n",
              "\n",
              "<style>\n",
              "  .colab-df-quickchart {\n",
              "      --bg-color: #E8F0FE;\n",
              "      --fill-color: #1967D2;\n",
              "      --hover-bg-color: #E2EBFA;\n",
              "      --hover-fill-color: #174EA6;\n",
              "      --disabled-fill-color: #AAA;\n",
              "      --disabled-bg-color: #DDD;\n",
              "  }\n",
              "\n",
              "  [theme=dark] .colab-df-quickchart {\n",
              "      --bg-color: #3B4455;\n",
              "      --fill-color: #D2E3FC;\n",
              "      --hover-bg-color: #434B5C;\n",
              "      --hover-fill-color: #FFFFFF;\n",
              "      --disabled-bg-color: #3B4455;\n",
              "      --disabled-fill-color: #666;\n",
              "  }\n",
              "\n",
              "  .colab-df-quickchart {\n",
              "    background-color: var(--bg-color);\n",
              "    border: none;\n",
              "    border-radius: 50%;\n",
              "    cursor: pointer;\n",
              "    display: none;\n",
              "    fill: var(--fill-color);\n",
              "    height: 32px;\n",
              "    padding: 0;\n",
              "    width: 32px;\n",
              "  }\n",
              "\n",
              "  .colab-df-quickchart:hover {\n",
              "    background-color: var(--hover-bg-color);\n",
              "    box-shadow: 0 1px 2px rgba(60, 64, 67, 0.3), 0 1px 3px 1px rgba(60, 64, 67, 0.15);\n",
              "    fill: var(--button-hover-fill-color);\n",
              "  }\n",
              "\n",
              "  .colab-df-quickchart-complete:disabled,\n",
              "  .colab-df-quickchart-complete:disabled:hover {\n",
              "    background-color: var(--disabled-bg-color);\n",
              "    fill: var(--disabled-fill-color);\n",
              "    box-shadow: none;\n",
              "  }\n",
              "\n",
              "  .colab-df-spinner {\n",
              "    border: 2px solid var(--fill-color);\n",
              "    border-color: transparent;\n",
              "    border-bottom-color: var(--fill-color);\n",
              "    animation:\n",
              "      spin 1s steps(1) infinite;\n",
              "  }\n",
              "\n",
              "  @keyframes spin {\n",
              "    0% {\n",
              "      border-color: transparent;\n",
              "      border-bottom-color: var(--fill-color);\n",
              "      border-left-color: var(--fill-color);\n",
              "    }\n",
              "    20% {\n",
              "      border-color: transparent;\n",
              "      border-left-color: var(--fill-color);\n",
              "      border-top-color: var(--fill-color);\n",
              "    }\n",
              "    30% {\n",
              "      border-color: transparent;\n",
              "      border-left-color: var(--fill-color);\n",
              "      border-top-color: var(--fill-color);\n",
              "      border-right-color: var(--fill-color);\n",
              "    }\n",
              "    40% {\n",
              "      border-color: transparent;\n",
              "      border-right-color: var(--fill-color);\n",
              "      border-top-color: var(--fill-color);\n",
              "    }\n",
              "    60% {\n",
              "      border-color: transparent;\n",
              "      border-right-color: var(--fill-color);\n",
              "    }\n",
              "    80% {\n",
              "      border-color: transparent;\n",
              "      border-right-color: var(--fill-color);\n",
              "      border-bottom-color: var(--fill-color);\n",
              "    }\n",
              "    90% {\n",
              "      border-color: transparent;\n",
              "      border-bottom-color: var(--fill-color);\n",
              "    }\n",
              "  }\n",
              "</style>\n",
              "\n",
              "  <script>\n",
              "    async function quickchart(key) {\n",
              "      const quickchartButtonEl =\n",
              "        document.querySelector('#' + key + ' button');\n",
              "      quickchartButtonEl.disabled = true;  // To prevent multiple clicks.\n",
              "      quickchartButtonEl.classList.add('colab-df-spinner');\n",
              "      try {\n",
              "        const charts = await google.colab.kernel.invokeFunction(\n",
              "            'suggestCharts', [key], {});\n",
              "      } catch (error) {\n",
              "        console.error('Error during call to suggestCharts:', error);\n",
              "      }\n",
              "      quickchartButtonEl.classList.remove('colab-df-spinner');\n",
              "      quickchartButtonEl.classList.add('colab-df-quickchart-complete');\n",
              "    }\n",
              "    (() => {\n",
              "      let quickchartButtonEl =\n",
              "        document.querySelector('#df-2bd8db6c-465a-4c4a-b5f0-dd7efe410898 button');\n",
              "      quickchartButtonEl.style.display =\n",
              "        google.colab.kernel.accessAllowed ? 'block' : 'none';\n",
              "    })();\n",
              "  </script>\n",
              "</div>\n",
              "    </div>\n",
              "  </div>\n"
            ],
            "application/vnd.google.colaboratory.intrinsic+json": {
              "type": "dataframe",
              "variable_name": "df",
              "summary": "{\n  \"name\": \"df\",\n  \"rows\": 5332,\n  \"fields\": [\n    {\n      \"column\": \"Age\",\n      \"properties\": {\n        \"dtype\": \"number\",\n        \"std\": 15.253447384002078,\n        \"min\": -94.0,\n        \"max\": 93.0,\n        \"num_unique_values\": 87,\n        \"samples\": [\n          -43.0,\n          50.0,\n          77.0\n        ],\n        \"semantic_type\": \"\",\n        \"description\": \"\"\n      }\n    },\n    {\n      \"column\": \"Gender\",\n      \"properties\": {\n        \"dtype\": \"category\",\n        \"num_unique_values\": 3,\n        \"samples\": [\n          \"F\",\n          \"M\",\n          \"f\"\n        ],\n        \"semantic_type\": \"\",\n        \"description\": \"\"\n      }\n    },\n    {\n      \"column\": \"BMI\",\n      \"properties\": {\n        \"dtype\": \"number\",\n        \"std\": 7.718846779448174,\n        \"min\": -99.0,\n        \"max\": 47.0,\n        \"num_unique_values\": 54,\n        \"samples\": [\n          39.0,\n          -21.0,\n          -58.0\n        ],\n        \"semantic_type\": \"\",\n        \"description\": \"\"\n      }\n    },\n    {\n      \"column\": \"Chol\",\n      \"properties\": {\n        \"dtype\": \"number\",\n        \"std\": 3.4483959161028443,\n        \"min\": -82.0,\n        \"max\": 11.65,\n        \"num_unique_values\": 530,\n        \"samples\": [\n          4.26,\n          6.96,\n          4.0\n        ],\n        \"semantic_type\": \"\",\n        \"description\": \"\"\n      }\n    },\n    {\n      \"column\": \"TG\",\n      \"properties\": {\n        \"dtype\": \"number\",\n        \"std\": 3.983594938339374,\n        \"min\": -94.0,\n        \"max\": 32.64,\n        \"num_unique_values\": 511,\n        \"samples\": [\n          0.0,\n          3.47,\n          6.98\n        ],\n        \"semantic_type\": \"\",\n        \"description\": \"\"\n      }\n    },\n    {\n      \"column\": \"HDL\",\n      \"properties\": {\n        \"dtype\": \"number\",\n        \"std\": 4.349107363170002,\n        \"min\": -95.0,\n        \"max\": 9.9,\n        \"num_unique_values\": 228,\n        \"samples\": [\n          4.860753,\n          1.79,\n          1.6\n        ],\n        \"semantic_type\": \"\",\n        \"description\": \"\"\n      }\n    },\n    {\n      \"column\": \"LDL\",\n      \"properties\": {\n        \"dtype\": \"number\",\n        \"std\": 3.910821389299005,\n        \"min\": -98.0,\n        \"max\": 9.9,\n        \"num_unique_values\": 428,\n        \"samples\": [\n          4.63,\n          2.82,\n          3.02\n        ],\n        \"semantic_type\": \"\",\n        \"description\": \"\"\n      }\n    },\n    {\n      \"column\": \"Cr\",\n      \"properties\": {\n        \"dtype\": \"number\",\n        \"std\": 29.763910643514325,\n        \"min\": -93.0,\n        \"max\": 800.0,\n        \"num_unique_values\": 760,\n        \"samples\": [\n          48.5,\n          54.7,\n          98.0\n        ],\n        \"semantic_type\": \"\",\n        \"description\": \"\"\n      }\n    },\n    {\n      \"column\": \"BUN\",\n      \"properties\": {\n        \"dtype\": \"number\",\n        \"std\": 4.919203924703584,\n        \"min\": -98.0,\n        \"max\": 38.9,\n        \"num_unique_values\": 640,\n        \"samples\": [\n          2.48,\n          3.01,\n          5.01\n        ],\n        \"semantic_type\": \"\",\n        \"description\": \"\"\n      }\n    },\n    {\n      \"column\": \"Diagnosis\",\n      \"properties\": {\n        \"dtype\": \"number\",\n        \"std\": 3.3669825950498975,\n        \"min\": -83.0,\n        \"max\": 1.0,\n        \"num_unique_values\": 18,\n        \"samples\": [\n          0.0,\n          1.0,\n          -77.0\n        ],\n        \"semantic_type\": \"\",\n        \"description\": \"\"\n      }\n    }\n  ]\n}"
            }
          },
          "metadata": {},
          "execution_count": 4
        }
      ],
      "source": [
        "df"
      ]
    },
    {
      "cell_type": "markdown",
      "metadata": {
        "id": "7DO0y6tiwIMl"
      },
      "source": [
        "# General observation about the dataset"
      ]
    },
    {
      "cell_type": "code",
      "execution_count": 5,
      "metadata": {
        "colab": {
          "base_uri": "https://localhost:8080/"
        },
        "id": "jlD_yDI0-ud9",
        "outputId": "19c18cd8-3732-4276-896d-f40cdfa2854e"
      },
      "outputs": [
        {
          "output_type": "stream",
          "name": "stdout",
          "text": [
            "<class 'pandas.core.frame.DataFrame'>\n",
            "RangeIndex: 5332 entries, 0 to 5331\n",
            "Data columns (total 10 columns):\n",
            " #   Column     Non-Null Count  Dtype  \n",
            "---  ------     --------------  -----  \n",
            " 0   Age        5310 non-null   float64\n",
            " 1   Gender     5332 non-null   object \n",
            " 2   BMI        5309 non-null   float64\n",
            " 3   Chol       5306 non-null   float64\n",
            " 4   TG         5300 non-null   float64\n",
            " 5   HDL        5310 non-null   float64\n",
            " 6   LDL        5314 non-null   float64\n",
            " 7   Cr         5311 non-null   float64\n",
            " 8   BUN        5311 non-null   float64\n",
            " 9   Diagnosis  5313 non-null   float64\n",
            "dtypes: float64(9), object(1)\n",
            "memory usage: 416.7+ KB\n"
          ]
        }
      ],
      "source": [
        "df.info()"
      ]
    },
    {
      "cell_type": "code",
      "execution_count": 6,
      "metadata": {
        "colab": {
          "base_uri": "https://localhost:8080/",
          "height": 0
        },
        "id": "3IZ3IaQwCSlM",
        "outputId": "19ff540d-157b-49a6-f65c-e9dfdbd5db96"
      },
      "outputs": [
        {
          "output_type": "execute_result",
          "data": {
            "text/plain": [
              "            Age       BMI      Chol        TG       HDL       LDL        Cr  \\\n",
              "count  5310.000  5309.000  5306.000  5300.000  5310.000  5314.000  5311.000   \n",
              "mean     48.638    24.130     4.690     1.504     1.346     2.705    70.626   \n",
              "std      15.253     7.719     3.448     3.984     4.349     3.911    29.764   \n",
              "min     -94.000   -99.000   -82.000   -94.000   -95.000   -98.000   -93.000   \n",
              "25%      36.000    22.000     4.180     0.900     1.090     2.270    57.750   \n",
              "50%      49.000    24.000     4.800     1.370     1.300     2.780    70.000   \n",
              "75%      59.000    27.000     5.460     2.100     1.590     3.390    81.400   \n",
              "max      93.000    47.000    11.650    32.640     9.900     9.900   800.000   \n",
              "\n",
              "            BUN  Diagnosis  \n",
              "count  5311.000   5313.000  \n",
              "mean      4.596      0.203  \n",
              "std       4.919      3.367  \n",
              "min     -98.000    -83.000  \n",
              "25%       3.900      0.000  \n",
              "50%       4.710      0.000  \n",
              "75%       5.600      1.000  \n",
              "max      38.900      1.000  "
            ],
            "text/html": [
              "\n",
              "  <div id=\"df-778c810c-c794-4f75-945e-1f1cb024c7ef\" class=\"colab-df-container\">\n",
              "    <div>\n",
              "<style scoped>\n",
              "    .dataframe tbody tr th:only-of-type {\n",
              "        vertical-align: middle;\n",
              "    }\n",
              "\n",
              "    .dataframe tbody tr th {\n",
              "        vertical-align: top;\n",
              "    }\n",
              "\n",
              "    .dataframe thead th {\n",
              "        text-align: right;\n",
              "    }\n",
              "</style>\n",
              "<table border=\"1\" class=\"dataframe\">\n",
              "  <thead>\n",
              "    <tr style=\"text-align: right;\">\n",
              "      <th></th>\n",
              "      <th>Age</th>\n",
              "      <th>BMI</th>\n",
              "      <th>Chol</th>\n",
              "      <th>TG</th>\n",
              "      <th>HDL</th>\n",
              "      <th>LDL</th>\n",
              "      <th>Cr</th>\n",
              "      <th>BUN</th>\n",
              "      <th>Diagnosis</th>\n",
              "    </tr>\n",
              "  </thead>\n",
              "  <tbody>\n",
              "    <tr>\n",
              "      <th>count</th>\n",
              "      <td>5310.000</td>\n",
              "      <td>5309.000</td>\n",
              "      <td>5306.000</td>\n",
              "      <td>5300.000</td>\n",
              "      <td>5310.000</td>\n",
              "      <td>5314.000</td>\n",
              "      <td>5311.000</td>\n",
              "      <td>5311.000</td>\n",
              "      <td>5313.000</td>\n",
              "    </tr>\n",
              "    <tr>\n",
              "      <th>mean</th>\n",
              "      <td>48.638</td>\n",
              "      <td>24.130</td>\n",
              "      <td>4.690</td>\n",
              "      <td>1.504</td>\n",
              "      <td>1.346</td>\n",
              "      <td>2.705</td>\n",
              "      <td>70.626</td>\n",
              "      <td>4.596</td>\n",
              "      <td>0.203</td>\n",
              "    </tr>\n",
              "    <tr>\n",
              "      <th>std</th>\n",
              "      <td>15.253</td>\n",
              "      <td>7.719</td>\n",
              "      <td>3.448</td>\n",
              "      <td>3.984</td>\n",
              "      <td>4.349</td>\n",
              "      <td>3.911</td>\n",
              "      <td>29.764</td>\n",
              "      <td>4.919</td>\n",
              "      <td>3.367</td>\n",
              "    </tr>\n",
              "    <tr>\n",
              "      <th>min</th>\n",
              "      <td>-94.000</td>\n",
              "      <td>-99.000</td>\n",
              "      <td>-82.000</td>\n",
              "      <td>-94.000</td>\n",
              "      <td>-95.000</td>\n",
              "      <td>-98.000</td>\n",
              "      <td>-93.000</td>\n",
              "      <td>-98.000</td>\n",
              "      <td>-83.000</td>\n",
              "    </tr>\n",
              "    <tr>\n",
              "      <th>25%</th>\n",
              "      <td>36.000</td>\n",
              "      <td>22.000</td>\n",
              "      <td>4.180</td>\n",
              "      <td>0.900</td>\n",
              "      <td>1.090</td>\n",
              "      <td>2.270</td>\n",
              "      <td>57.750</td>\n",
              "      <td>3.900</td>\n",
              "      <td>0.000</td>\n",
              "    </tr>\n",
              "    <tr>\n",
              "      <th>50%</th>\n",
              "      <td>49.000</td>\n",
              "      <td>24.000</td>\n",
              "      <td>4.800</td>\n",
              "      <td>1.370</td>\n",
              "      <td>1.300</td>\n",
              "      <td>2.780</td>\n",
              "      <td>70.000</td>\n",
              "      <td>4.710</td>\n",
              "      <td>0.000</td>\n",
              "    </tr>\n",
              "    <tr>\n",
              "      <th>75%</th>\n",
              "      <td>59.000</td>\n",
              "      <td>27.000</td>\n",
              "      <td>5.460</td>\n",
              "      <td>2.100</td>\n",
              "      <td>1.590</td>\n",
              "      <td>3.390</td>\n",
              "      <td>81.400</td>\n",
              "      <td>5.600</td>\n",
              "      <td>1.000</td>\n",
              "    </tr>\n",
              "    <tr>\n",
              "      <th>max</th>\n",
              "      <td>93.000</td>\n",
              "      <td>47.000</td>\n",
              "      <td>11.650</td>\n",
              "      <td>32.640</td>\n",
              "      <td>9.900</td>\n",
              "      <td>9.900</td>\n",
              "      <td>800.000</td>\n",
              "      <td>38.900</td>\n",
              "      <td>1.000</td>\n",
              "    </tr>\n",
              "  </tbody>\n",
              "</table>\n",
              "</div>\n",
              "    <div class=\"colab-df-buttons\">\n",
              "\n",
              "  <div class=\"colab-df-container\">\n",
              "    <button class=\"colab-df-convert\" onclick=\"convertToInteractive('df-778c810c-c794-4f75-945e-1f1cb024c7ef')\"\n",
              "            title=\"Convert this dataframe to an interactive table.\"\n",
              "            style=\"display:none;\">\n",
              "\n",
              "  <svg xmlns=\"http://www.w3.org/2000/svg\" height=\"24px\" viewBox=\"0 -960 960 960\">\n",
              "    <path d=\"M120-120v-720h720v720H120Zm60-500h600v-160H180v160Zm220 220h160v-160H400v160Zm0 220h160v-160H400v160ZM180-400h160v-160H180v160Zm440 0h160v-160H620v160ZM180-180h160v-160H180v160Zm440 0h160v-160H620v160Z\"/>\n",
              "  </svg>\n",
              "    </button>\n",
              "\n",
              "  <style>\n",
              "    .colab-df-container {\n",
              "      display:flex;\n",
              "      gap: 12px;\n",
              "    }\n",
              "\n",
              "    .colab-df-convert {\n",
              "      background-color: #E8F0FE;\n",
              "      border: none;\n",
              "      border-radius: 50%;\n",
              "      cursor: pointer;\n",
              "      display: none;\n",
              "      fill: #1967D2;\n",
              "      height: 32px;\n",
              "      padding: 0 0 0 0;\n",
              "      width: 32px;\n",
              "    }\n",
              "\n",
              "    .colab-df-convert:hover {\n",
              "      background-color: #E2EBFA;\n",
              "      box-shadow: 0px 1px 2px rgba(60, 64, 67, 0.3), 0px 1px 3px 1px rgba(60, 64, 67, 0.15);\n",
              "      fill: #174EA6;\n",
              "    }\n",
              "\n",
              "    .colab-df-buttons div {\n",
              "      margin-bottom: 4px;\n",
              "    }\n",
              "\n",
              "    [theme=dark] .colab-df-convert {\n",
              "      background-color: #3B4455;\n",
              "      fill: #D2E3FC;\n",
              "    }\n",
              "\n",
              "    [theme=dark] .colab-df-convert:hover {\n",
              "      background-color: #434B5C;\n",
              "      box-shadow: 0px 1px 3px 1px rgba(0, 0, 0, 0.15);\n",
              "      filter: drop-shadow(0px 1px 2px rgba(0, 0, 0, 0.3));\n",
              "      fill: #FFFFFF;\n",
              "    }\n",
              "  </style>\n",
              "\n",
              "    <script>\n",
              "      const buttonEl =\n",
              "        document.querySelector('#df-778c810c-c794-4f75-945e-1f1cb024c7ef button.colab-df-convert');\n",
              "      buttonEl.style.display =\n",
              "        google.colab.kernel.accessAllowed ? 'block' : 'none';\n",
              "\n",
              "      async function convertToInteractive(key) {\n",
              "        const element = document.querySelector('#df-778c810c-c794-4f75-945e-1f1cb024c7ef');\n",
              "        const dataTable =\n",
              "          await google.colab.kernel.invokeFunction('convertToInteractive',\n",
              "                                                    [key], {});\n",
              "        if (!dataTable) return;\n",
              "\n",
              "        const docLinkHtml = 'Like what you see? Visit the ' +\n",
              "          '<a target=\"_blank\" href=https://colab.research.google.com/notebooks/data_table.ipynb>data table notebook</a>'\n",
              "          + ' to learn more about interactive tables.';\n",
              "        element.innerHTML = '';\n",
              "        dataTable['output_type'] = 'display_data';\n",
              "        await google.colab.output.renderOutput(dataTable, element);\n",
              "        const docLink = document.createElement('div');\n",
              "        docLink.innerHTML = docLinkHtml;\n",
              "        element.appendChild(docLink);\n",
              "      }\n",
              "    </script>\n",
              "  </div>\n",
              "\n",
              "\n",
              "<div id=\"df-358e8b59-6eae-4893-9779-3eed7946c373\">\n",
              "  <button class=\"colab-df-quickchart\" onclick=\"quickchart('df-358e8b59-6eae-4893-9779-3eed7946c373')\"\n",
              "            title=\"Suggest charts\"\n",
              "            style=\"display:none;\">\n",
              "\n",
              "<svg xmlns=\"http://www.w3.org/2000/svg\" height=\"24px\"viewBox=\"0 0 24 24\"\n",
              "     width=\"24px\">\n",
              "    <g>\n",
              "        <path d=\"M19 3H5c-1.1 0-2 .9-2 2v14c0 1.1.9 2 2 2h14c1.1 0 2-.9 2-2V5c0-1.1-.9-2-2-2zM9 17H7v-7h2v7zm4 0h-2V7h2v10zm4 0h-2v-4h2v4z\"/>\n",
              "    </g>\n",
              "</svg>\n",
              "  </button>\n",
              "\n",
              "<style>\n",
              "  .colab-df-quickchart {\n",
              "      --bg-color: #E8F0FE;\n",
              "      --fill-color: #1967D2;\n",
              "      --hover-bg-color: #E2EBFA;\n",
              "      --hover-fill-color: #174EA6;\n",
              "      --disabled-fill-color: #AAA;\n",
              "      --disabled-bg-color: #DDD;\n",
              "  }\n",
              "\n",
              "  [theme=dark] .colab-df-quickchart {\n",
              "      --bg-color: #3B4455;\n",
              "      --fill-color: #D2E3FC;\n",
              "      --hover-bg-color: #434B5C;\n",
              "      --hover-fill-color: #FFFFFF;\n",
              "      --disabled-bg-color: #3B4455;\n",
              "      --disabled-fill-color: #666;\n",
              "  }\n",
              "\n",
              "  .colab-df-quickchart {\n",
              "    background-color: var(--bg-color);\n",
              "    border: none;\n",
              "    border-radius: 50%;\n",
              "    cursor: pointer;\n",
              "    display: none;\n",
              "    fill: var(--fill-color);\n",
              "    height: 32px;\n",
              "    padding: 0;\n",
              "    width: 32px;\n",
              "  }\n",
              "\n",
              "  .colab-df-quickchart:hover {\n",
              "    background-color: var(--hover-bg-color);\n",
              "    box-shadow: 0 1px 2px rgba(60, 64, 67, 0.3), 0 1px 3px 1px rgba(60, 64, 67, 0.15);\n",
              "    fill: var(--button-hover-fill-color);\n",
              "  }\n",
              "\n",
              "  .colab-df-quickchart-complete:disabled,\n",
              "  .colab-df-quickchart-complete:disabled:hover {\n",
              "    background-color: var(--disabled-bg-color);\n",
              "    fill: var(--disabled-fill-color);\n",
              "    box-shadow: none;\n",
              "  }\n",
              "\n",
              "  .colab-df-spinner {\n",
              "    border: 2px solid var(--fill-color);\n",
              "    border-color: transparent;\n",
              "    border-bottom-color: var(--fill-color);\n",
              "    animation:\n",
              "      spin 1s steps(1) infinite;\n",
              "  }\n",
              "\n",
              "  @keyframes spin {\n",
              "    0% {\n",
              "      border-color: transparent;\n",
              "      border-bottom-color: var(--fill-color);\n",
              "      border-left-color: var(--fill-color);\n",
              "    }\n",
              "    20% {\n",
              "      border-color: transparent;\n",
              "      border-left-color: var(--fill-color);\n",
              "      border-top-color: var(--fill-color);\n",
              "    }\n",
              "    30% {\n",
              "      border-color: transparent;\n",
              "      border-left-color: var(--fill-color);\n",
              "      border-top-color: var(--fill-color);\n",
              "      border-right-color: var(--fill-color);\n",
              "    }\n",
              "    40% {\n",
              "      border-color: transparent;\n",
              "      border-right-color: var(--fill-color);\n",
              "      border-top-color: var(--fill-color);\n",
              "    }\n",
              "    60% {\n",
              "      border-color: transparent;\n",
              "      border-right-color: var(--fill-color);\n",
              "    }\n",
              "    80% {\n",
              "      border-color: transparent;\n",
              "      border-right-color: var(--fill-color);\n",
              "      border-bottom-color: var(--fill-color);\n",
              "    }\n",
              "    90% {\n",
              "      border-color: transparent;\n",
              "      border-bottom-color: var(--fill-color);\n",
              "    }\n",
              "  }\n",
              "</style>\n",
              "\n",
              "  <script>\n",
              "    async function quickchart(key) {\n",
              "      const quickchartButtonEl =\n",
              "        document.querySelector('#' + key + ' button');\n",
              "      quickchartButtonEl.disabled = true;  // To prevent multiple clicks.\n",
              "      quickchartButtonEl.classList.add('colab-df-spinner');\n",
              "      try {\n",
              "        const charts = await google.colab.kernel.invokeFunction(\n",
              "            'suggestCharts', [key], {});\n",
              "      } catch (error) {\n",
              "        console.error('Error during call to suggestCharts:', error);\n",
              "      }\n",
              "      quickchartButtonEl.classList.remove('colab-df-spinner');\n",
              "      quickchartButtonEl.classList.add('colab-df-quickchart-complete');\n",
              "    }\n",
              "    (() => {\n",
              "      let quickchartButtonEl =\n",
              "        document.querySelector('#df-358e8b59-6eae-4893-9779-3eed7946c373 button');\n",
              "      quickchartButtonEl.style.display =\n",
              "        google.colab.kernel.accessAllowed ? 'block' : 'none';\n",
              "    })();\n",
              "  </script>\n",
              "</div>\n",
              "    </div>\n",
              "  </div>\n"
            ],
            "application/vnd.google.colaboratory.intrinsic+json": {
              "type": "dataframe",
              "summary": "{\n  \"name\": \"df\",\n  \"rows\": 8,\n  \"fields\": [\n    {\n      \"column\": \"Age\",\n      \"properties\": {\n        \"dtype\": \"number\",\n        \"std\": 1867.7278220500157,\n        \"min\": -94.0,\n        \"max\": 5310.0,\n        \"num_unique_values\": 8,\n        \"samples\": [\n          48.638,\n          49.0,\n          5310.0\n        ],\n        \"semantic_type\": \"\",\n        \"description\": \"\"\n      }\n    },\n    {\n      \"column\": \"BMI\",\n      \"properties\": {\n        \"dtype\": \"number\",\n        \"std\": 1874.8807105867097,\n        \"min\": -99.0,\n        \"max\": 5309.0,\n        \"num_unique_values\": 8,\n        \"samples\": [\n          24.13,\n          24.0,\n          5309.0\n        ],\n        \"semantic_type\": \"\",\n        \"description\": \"\"\n      }\n    },\n    {\n      \"column\": \"Chol\",\n      \"properties\": {\n        \"dtype\": \"number\",\n        \"std\": 1878.6195432819432,\n        \"min\": -82.0,\n        \"max\": 5306.0,\n        \"num_unique_values\": 8,\n        \"samples\": [\n          4.69,\n          4.8,\n          5306.0\n        ],\n        \"semantic_type\": \"\",\n        \"description\": \"\"\n      }\n    },\n    {\n      \"column\": \"TG\",\n      \"properties\": {\n        \"dtype\": \"number\",\n        \"std\": 1876.79762185376,\n        \"min\": -94.0,\n        \"max\": 5300.0,\n        \"num_unique_values\": 8,\n        \"samples\": [\n          1.504,\n          1.37,\n          5300.0\n        ],\n        \"semantic_type\": \"\",\n        \"description\": \"\"\n      }\n    },\n    {\n      \"column\": \"HDL\",\n      \"properties\": {\n        \"dtype\": \"number\",\n        \"std\": 1881.4945508022104,\n        \"min\": -95.0,\n        \"max\": 5310.0,\n        \"num_unique_values\": 8,\n        \"samples\": [\n          1.346,\n          1.3,\n          5310.0\n        ],\n        \"semantic_type\": \"\",\n        \"description\": \"\"\n      }\n    },\n    {\n      \"column\": \"LDL\",\n      \"properties\": {\n        \"dtype\": \"number\",\n        \"std\": 1882.8129609748435,\n        \"min\": -98.0,\n        \"max\": 5314.0,\n        \"num_unique_values\": 8,\n        \"samples\": [\n          2.705,\n          2.78,\n          5314.0\n        ],\n        \"semantic_type\": \"\",\n        \"description\": \"\"\n      }\n    },\n    {\n      \"column\": \"Cr\",\n      \"properties\": {\n        \"dtype\": \"number\",\n        \"std\": 1846.6720895252936,\n        \"min\": -93.0,\n        \"max\": 5311.0,\n        \"num_unique_values\": 8,\n        \"samples\": [\n          70.626,\n          70.0,\n          5311.0\n        ],\n        \"semantic_type\": \"\",\n        \"description\": \"\"\n      }\n    },\n    {\n      \"column\": \"BUN\",\n      \"properties\": {\n        \"dtype\": \"number\",\n        \"std\": 1879.928755918269,\n        \"min\": -98.0,\n        \"max\": 5311.0,\n        \"num_unique_values\": 8,\n        \"samples\": [\n          4.596,\n          4.71,\n          5311.0\n        ],\n        \"semantic_type\": \"\",\n        \"description\": \"\"\n      }\n    },\n    {\n      \"column\": \"Diagnosis\",\n      \"properties\": {\n        \"dtype\": \"number\",\n        \"std\": 1882.5693773892222,\n        \"min\": -83.0,\n        \"max\": 5313.0,\n        \"num_unique_values\": 6,\n        \"samples\": [\n          5313.0,\n          0.203,\n          1.0\n        ],\n        \"semantic_type\": \"\",\n        \"description\": \"\"\n      }\n    }\n  ]\n}"
            }
          },
          "metadata": {},
          "execution_count": 6
        }
      ],
      "source": [
        "df.describe().round(3)"
      ]
    },
    {
      "cell_type": "code",
      "execution_count": 7,
      "metadata": {
        "colab": {
          "base_uri": "https://localhost:8080/"
        },
        "id": "jykq6EoAHnM_",
        "outputId": "7e749e77-f2dd-4946-ef27-cdf883d44cf2"
      },
      "outputs": [
        {
          "output_type": "execute_result",
          "data": {
            "text/plain": [
              "count    5310.000000\n",
              "mean       48.637853\n",
              "std        15.253447\n",
              "min       -94.000000\n",
              "25%        36.000000\n",
              "50%        49.000000\n",
              "75%        59.000000\n",
              "max        93.000000\n",
              "Name: Age, dtype: float64"
            ]
          },
          "metadata": {},
          "execution_count": 7
        }
      ],
      "source": [
        "df['Age'].describe()"
      ]
    },
    {
      "cell_type": "code",
      "execution_count": 8,
      "metadata": {
        "colab": {
          "base_uri": "https://localhost:8080/"
        },
        "id": "gw2AyNXVrLvd",
        "outputId": "fc7dbf06-59ee-48e3-f0bf-e8f2e656dbb4"
      },
      "outputs": [
        {
          "output_type": "execute_result",
          "data": {
            "text/plain": [
              "count    5309.000000\n",
              "mean       24.130345\n",
              "std         7.718847\n",
              "min       -99.000000\n",
              "25%        22.000000\n",
              "50%        24.000000\n",
              "75%        27.000000\n",
              "max        47.000000\n",
              "Name: BMI, dtype: float64"
            ]
          },
          "metadata": {},
          "execution_count": 8
        }
      ],
      "source": [
        "df['BMI'].describe()"
      ]
    },
    {
      "cell_type": "code",
      "execution_count": 9,
      "metadata": {
        "colab": {
          "base_uri": "https://localhost:8080/"
        },
        "id": "mtlOFll8Js-9",
        "outputId": "793d766d-47dd-42a4-e140-15ed5dee7fea"
      },
      "outputs": [
        {
          "output_type": "execute_result",
          "data": {
            "text/plain": [
              "count    5306.000000\n",
              "mean        4.689629\n",
              "std         3.448396\n",
              "min       -82.000000\n",
              "25%         4.180000\n",
              "50%         4.800000\n",
              "75%         5.460000\n",
              "max        11.650000\n",
              "Name: Chol, dtype: float64"
            ]
          },
          "metadata": {},
          "execution_count": 9
        }
      ],
      "source": [
        "df['Chol'].describe()"
      ]
    },
    {
      "cell_type": "code",
      "execution_count": 10,
      "metadata": {
        "colab": {
          "base_uri": "https://localhost:8080/"
        },
        "id": "rfbB0EVN_wBb",
        "outputId": "9ee5ffc2-a6b5-4094-8cc6-a7d18771856f"
      },
      "outputs": [
        {
          "output_type": "execute_result",
          "data": {
            "text/plain": [
              "count    5300.000000\n",
              "mean        1.503966\n",
              "std         3.983595\n",
              "min       -94.000000\n",
              "25%         0.900000\n",
              "50%         1.370000\n",
              "75%         2.100000\n",
              "max        32.640000\n",
              "Name: TG, dtype: float64"
            ]
          },
          "metadata": {},
          "execution_count": 10
        }
      ],
      "source": [
        "df['TG'].describe()"
      ]
    },
    {
      "cell_type": "code",
      "execution_count": 11,
      "metadata": {
        "colab": {
          "base_uri": "https://localhost:8080/"
        },
        "id": "2u6NVnVw_w6R",
        "outputId": "f8339df5-033e-4f38-ad4e-10996f3734a8"
      },
      "outputs": [
        {
          "output_type": "execute_result",
          "data": {
            "text/plain": [
              "count    5310.000000\n",
              "mean        1.346343\n",
              "std         4.349107\n",
              "min       -95.000000\n",
              "25%         1.090000\n",
              "50%         1.300000\n",
              "75%         1.590000\n",
              "max         9.900000\n",
              "Name: HDL, dtype: float64"
            ]
          },
          "metadata": {},
          "execution_count": 11
        }
      ],
      "source": [
        "df['HDL'].describe()"
      ]
    },
    {
      "cell_type": "code",
      "execution_count": 12,
      "metadata": {
        "colab": {
          "base_uri": "https://localhost:8080/"
        },
        "id": "Hr-oWBnq_wib",
        "outputId": "f2b2e3fd-6fdb-4e65-de62-5e2ff1c87229"
      },
      "outputs": [
        {
          "output_type": "execute_result",
          "data": {
            "text/plain": [
              "count    5314.000000\n",
              "mean        2.705066\n",
              "std         3.910821\n",
              "min       -98.000000\n",
              "25%         2.270000\n",
              "50%         2.780000\n",
              "75%         3.390000\n",
              "max         9.900000\n",
              "Name: LDL, dtype: float64"
            ]
          },
          "metadata": {},
          "execution_count": 12
        }
      ],
      "source": [
        "df['LDL'].describe()"
      ]
    },
    {
      "cell_type": "code",
      "execution_count": 13,
      "metadata": {
        "colab": {
          "base_uri": "https://localhost:8080/"
        },
        "id": "LVGF9KgW_3HG",
        "outputId": "a8be4e56-b8eb-4fb1-dd4b-22d09f0958c6"
      },
      "outputs": [
        {
          "output_type": "execute_result",
          "data": {
            "text/plain": [
              "count    5311.000000\n",
              "mean       70.626207\n",
              "std        29.763911\n",
              "min       -93.000000\n",
              "25%        57.750000\n",
              "50%        70.000000\n",
              "75%        81.400000\n",
              "max       800.000000\n",
              "Name: Cr, dtype: float64"
            ]
          },
          "metadata": {},
          "execution_count": 13
        }
      ],
      "source": [
        "df['Cr'].describe()"
      ]
    },
    {
      "cell_type": "code",
      "execution_count": 14,
      "metadata": {
        "colab": {
          "base_uri": "https://localhost:8080/"
        },
        "id": "c5LWMfD1_6I3",
        "outputId": "8c31abb1-4a9f-400d-ac51-9ecfb373ccc9"
      },
      "outputs": [
        {
          "output_type": "execute_result",
          "data": {
            "text/plain": [
              "count    5311.000000\n",
              "mean        4.596416\n",
              "std         4.919204\n",
              "min       -98.000000\n",
              "25%         3.900000\n",
              "50%         4.710000\n",
              "75%         5.600000\n",
              "max        38.900000\n",
              "Name: BUN, dtype: float64"
            ]
          },
          "metadata": {},
          "execution_count": 14
        }
      ],
      "source": [
        "df['BUN'].describe()"
      ]
    },
    {
      "cell_type": "code",
      "execution_count": 15,
      "metadata": {
        "colab": {
          "base_uri": "https://localhost:8080/"
        },
        "id": "Bg2CVpBF_8Gz",
        "outputId": "264d66a4-cf81-4bf6-b25c-392554507b86"
      },
      "outputs": [
        {
          "output_type": "execute_result",
          "data": {
            "text/plain": [
              "count    5313.000000\n",
              "mean        0.203087\n",
              "std         3.366983\n",
              "min       -83.000000\n",
              "25%         0.000000\n",
              "50%         0.000000\n",
              "75%         1.000000\n",
              "max         1.000000\n",
              "Name: Diagnosis, dtype: float64"
            ]
          },
          "metadata": {},
          "execution_count": 15
        }
      ],
      "source": [
        "df['Diagnosis'].describe()"
      ]
    },
    {
      "cell_type": "markdown",
      "metadata": {
        "id": "Emh02rqTVcBu"
      },
      "source": [
        "Số dòng dữ liệu có giá trị NaN đối với từng thuộc tính"
      ]
    },
    {
      "cell_type": "code",
      "execution_count": 16,
      "metadata": {
        "colab": {
          "base_uri": "https://localhost:8080/"
        },
        "id": "OReH7N-_Vcjx",
        "outputId": "d44dcb27-bd3d-4db0-a414-2ebe796f4837"
      },
      "outputs": [
        {
          "output_type": "stream",
          "name": "stdout",
          "text": [
            "Age          22\n",
            "Gender        0\n",
            "BMI          23\n",
            "Chol         26\n",
            "TG           32\n",
            "HDL          22\n",
            "LDL          18\n",
            "Cr           21\n",
            "BUN          21\n",
            "Diagnosis    19\n",
            "dtype: int64\n"
          ]
        }
      ],
      "source": [
        "print(df.isna().sum())"
      ]
    },
    {
      "cell_type": "markdown",
      "metadata": {
        "id": "Y7ZzPwjITCWH"
      },
      "source": [
        "Số dòng dữ liệu trùng"
      ]
    },
    {
      "cell_type": "code",
      "execution_count": 17,
      "metadata": {
        "colab": {
          "base_uri": "https://localhost:8080/"
        },
        "id": "jEidrwgjTCFv",
        "outputId": "f2d7dcd0-0d20-4fb5-806a-f83db44879de"
      },
      "outputs": [
        {
          "output_type": "stream",
          "name": "stdout",
          "text": [
            "200\n"
          ]
        }
      ],
      "source": [
        "duplicated_rows = df[df.duplicated()]\n",
        "print(len(duplicated_rows))"
      ]
    },
    {
      "cell_type": "code",
      "execution_count": 18,
      "metadata": {
        "colab": {
          "base_uri": "https://localhost:8080/",
          "height": 0
        },
        "id": "3uk1u0Bq0K--",
        "outputId": "d5f12f01-d232-4eb0-ae4d-2ccfbde445b5"
      },
      "outputs": [
        {
          "output_type": "display_data",
          "data": {
            "text/plain": [
              "<Figure size 640x480 with 1 Axes>"
            ],
            "image/png": "[encoded data removed]"
          },
          "metadata": {}
        }
      ],
      "source": [
        "from matplotlib import pyplot as plt\n",
        "df['Age'].plot(kind='hist', bins=20, title='Age')\n",
        "plt.gca().spines[['top', 'right',]].set_visible(False)"
      ]
    },
    {
      "cell_type": "code",
      "execution_count": 19,
      "metadata": {
        "colab": {
          "base_uri": "https://localhost:8080/",
          "height": 0
        },
        "id": "uBJRgrzK0b62",
        "outputId": "35a21d8f-117d-4620-d391-3f9cf7c7e3de"
      },
      "outputs": [
        {
          "output_type": "display_data",
          "data": {
            "text/plain": [
              "<Figure size 640x480 with 1 Axes>"
            ],
            "image/png": "[encoded data removed]"
          },
          "metadata": {}
        }
      ],
      "source": [
        "from matplotlib import pyplot as plt\n",
        "df['TG'].plot(kind='hist', bins=20, title='TG')\n",
        "plt.gca().spines[['top', 'right',]].set_visible(False)"
      ]
    },
    {
      "cell_type": "code",
      "execution_count": 20,
      "metadata": {
        "colab": {
          "base_uri": "https://localhost:8080/",
          "height": 0
        },
        "id": "q5bFqcfyDACv",
        "outputId": "eab69e99-019b-4cf9-df6e-d0f34706aeeb"
      },
      "outputs": [
        {
          "output_type": "display_data",
          "data": {
            "text/plain": [
              "<Figure size 640x480 with 1 Axes>"
            ],
            "image/png": "[encoded data removed]"
          },
          "metadata": {}
        }
      ],
      "source": [
        "from matplotlib import pyplot as plt\n",
        "df['HDL'].plot(kind='hist', bins=20, title='HDL')\n",
        "plt.gca().spines[['top', 'right',]].set_visible(False)"
      ]
    },
    {
      "cell_type": "code",
      "execution_count": 21,
      "metadata": {
        "colab": {
          "base_uri": "https://localhost:8080/",
          "height": 0
        },
        "id": "iwYTkmMmDMcA",
        "outputId": "a22afbc4-3cbb-4b8f-cbc3-3952a03bb415"
      },
      "outputs": [
        {
          "output_type": "display_data",
          "data": {
            "text/plain": [
              "<Figure size 640x480 with 1 Axes>"
            ],
            "image/png": "[encoded data removed]"
          },
          "metadata": {}
        }
      ],
      "source": [
        "from matplotlib import pyplot as plt\n",
        "df['LDL'].plot(kind='hist', bins=20, title='LDL')\n",
        "plt.gca().spines[['top', 'right',]].set_visible(False)"
      ]
    },
    {
      "cell_type": "code",
      "execution_count": 22,
      "metadata": {
        "colab": {
          "base_uri": "https://localhost:8080/",
          "height": 0
        },
        "id": "tlkY4Uu00a2k",
        "outputId": "a77e516f-d002-4c5e-c57c-bb59e5bd852d"
      },
      "outputs": [
        {
          "output_type": "display_data",
          "data": {
            "text/plain": [
              "<Figure size 640x480 with 1 Axes>"
            ],
            "image/png": "[encoded data removed]"
          },
          "metadata": {}
        }
      ],
      "source": [
        "from matplotlib import pyplot as plt\n",
        "df['Chol'].plot(kind='hist', bins=20, title='Chol')\n",
        "plt.gca().spines[['top', 'right',]].set_visible(False)"
      ]
    },
    {
      "cell_type": "code",
      "execution_count": 23,
      "metadata": {
        "colab": {
          "base_uri": "https://localhost:8080/",
          "height": 0
        },
        "id": "-SIcVRzEbSHe",
        "outputId": "99115c4a-4abf-453a-b665-3d46602918da"
      },
      "outputs": [
        {
          "output_type": "display_data",
          "data": {
            "text/plain": [
              "<Figure size 640x480 with 1 Axes>"
            ],
            "image/png": "[encoded data removed]"
          },
          "metadata": {}
        }
      ],
      "source": [
        "from matplotlib import pyplot as plt\n",
        "df['Cr'].plot(kind='hist', bins=20, title='Cr')\n",
        "plt.gca().spines[['top', 'right',]].set_visible(False)"
      ]
    },
    {
      "cell_type": "code",
      "execution_count": 24,
      "metadata": {
        "colab": {
          "base_uri": "https://localhost:8080/",
          "height": 0
        },
        "id": "CD5-PWo4bW5J",
        "outputId": "3550c314-de35-401c-af9d-3343f415dcf8"
      },
      "outputs": [
        {
          "output_type": "display_data",
          "data": {
            "text/plain": [
              "<Figure size 640x480 with 1 Axes>"
            ],
            "image/png": "[encoded data removed]"
          },
          "metadata": {}
        }
      ],
      "source": [
        "from matplotlib import pyplot as plt\n",
        "df['BUN'].plot(kind='hist', bins=20, title='BUN')\n",
        "plt.gca().spines[['top', 'right',]].set_visible(False)"
      ]
    },
    {
      "cell_type": "code",
      "execution_count": 25,
      "metadata": {
        "colab": {
          "base_uri": "https://localhost:8080/",
          "height": 0
        },
        "id": "5jdW69FZbf40",
        "outputId": "32fcd234-0e19-484a-86b5-79e768af922c"
      },
      "outputs": [
        {
          "output_type": "display_data",
          "data": {
            "text/plain": [
              "<Figure size 640x480 with 1 Axes>"
            ],
            "image/png": "[encoded data removed]"
          },
          "metadata": {}
        }
      ],
      "source": [
        "from matplotlib import pyplot as plt\n",
        "df['Diagnosis'].plot(kind='hist', bins=20, title='Diagnosis')\n",
        "plt.gca().spines[['top', 'right',]].set_visible(False)"
      ]
    },
    {
      "cell_type": "code",
      "execution_count": 26,
      "metadata": {
        "colab": {
          "base_uri": "https://localhost:8080/",
          "height": 0
        },
        "id": "Yp0idTq-0YLg",
        "outputId": "12fd2ddb-8370-4ccd-adf6-31c9b20a13bd"
      },
      "outputs": [
        {
          "output_type": "display_data",
          "data": {
            "text/plain": [
              "<Figure size 640x480 with 1 Axes>"
            ],
            "image/png": "[encoded data removed]"
          },
          "metadata": {}
        }
      ],
      "source": [
        "from matplotlib import pyplot as plt\n",
        "df['BMI'].plot(kind='hist', bins=20, title='BMI')\n",
        "plt.gca().spines[['top', 'right',]].set_visible(False)"
      ]
    },
    {
      "cell_type": "code",
      "execution_count": 27,
      "metadata": {
        "colab": {
          "base_uri": "https://localhost:8080/",
          "height": 0
        },
        "id": "dgdxFdSq0ozK",
        "outputId": "e65a7e0b-5a1e-4799-a0a3-5bfd0b0c8af3"
      },
      "outputs": [
        {
          "output_type": "display_data",
          "data": {
            "text/plain": [
              "<Figure size 640x480 with 1 Axes>"
            ],
            "image/png": "[encoded data removed]"
          },
          "metadata": {}
        }
      ],
      "source": [
        "from matplotlib import pyplot as plt\n",
        "import seaborn as sns\n",
        "df.groupby('Gender').size().plot(kind='barh', color=sns.palettes.mpl_palette('Dark2'))\n",
        "plt.gca().spines[['top', 'right',]].set_visible(False)"
      ]
    },
    {
      "cell_type": "code",
      "execution_count": 28,
      "metadata": {
        "colab": {
          "base_uri": "https://localhost:8080/"
        },
        "id": "MPVgOTSq0hnP",
        "outputId": "c33fc785-a6ac-4880-9225-61436fa741ef"
      },
      "outputs": [
        {
          "output_type": "execute_result",
          "data": {
            "text/plain": [
              "Gender\n",
              "M    3365\n",
              "F    1966\n",
              "f       1\n",
              "Name: count, dtype: int64"
            ]
          },
          "metadata": {},
          "execution_count": 28
        }
      ],
      "source": [
        "df['Gender'].value_counts()"
      ]
    },
    {
      "cell_type": "code",
      "execution_count": 29,
      "metadata": {
        "colab": {
          "base_uri": "https://localhost:8080/",
          "height": 0
        },
        "id": "wegPO8YQxejb",
        "outputId": "3bda36c3-59c9-44d2-bad2-e015bbc76276"
      },
      "outputs": [
        {
          "output_type": "display_data",
          "data": {
            "text/plain": [
              "<Figure size 640x480 with 1 Axes>"
            ],
            "image/png": "[encoded data removed]"
          },
          "metadata": {}
        }
      ],
      "source": [
        "plt.pie(df['Gender'].value_counts())\n",
        "plt.show()"
      ]
    },
    {
      "cell_type": "markdown",
      "metadata": {
        "id": "1-7ZilBmFBuI"
      },
      "source": [
        "# Pre-processing data"
      ]
    },
    {
      "cell_type": "markdown",
      "metadata": {
        "id": "GO2YctS4rMxs"
      },
      "source": [
        "Chuẩn hóa các gái trị của thuộc tính `Gender`"
      ]
    },
    {
      "cell_type": "code",
      "execution_count": 30,
      "metadata": {
        "id": "H2IgkrElrMTQ"
      },
      "outputs": [],
      "source": [
        "df['Gender'] = df['Gender'].replace('f', 'F')"
      ]
    },
    {
      "cell_type": "code",
      "execution_count": 31,
      "metadata": {
        "colab": {
          "base_uri": "https://localhost:8080/"
        },
        "id": "V6Hu7t-ojmEt",
        "outputId": "e565ddf7-0547-4669-db94-3fb2642d6be8"
      },
      "outputs": [
        {
          "output_type": "execute_result",
          "data": {
            "text/plain": [
              "Gender\n",
              "M    3365\n",
              "F    1967\n",
              "Name: count, dtype: int64"
            ]
          },
          "metadata": {},
          "execution_count": 31
        }
      ],
      "source": [
        "df['Gender'].value_counts()"
      ]
    },
    {
      "cell_type": "markdown",
      "metadata": {
        "id": "tB9pd7-KSzX-"
      },
      "source": [
        "Xóa các dòng dữ liệu trùng lặp"
      ]
    },
    {
      "cell_type": "code",
      "execution_count": 32,
      "metadata": {
        "id": "d6FPuon4qNum"
      },
      "outputs": [],
      "source": [
        "df =  df.drop_duplicates()\n",
        "df = df.reset_index()\n",
        "df = df.drop(df.columns[0], axis = 1)"
      ]
    },
    {
      "cell_type": "code",
      "execution_count": 33,
      "metadata": {
        "colab": {
          "base_uri": "https://localhost:8080/"
        },
        "id": "oKY0cCvvjQAz",
        "outputId": "91a4e6d1-fba2-4973-f7ae-5d5b01462175"
      },
      "outputs": [
        {
          "output_type": "stream",
          "name": "stdout",
          "text": [
            "0\n"
          ]
        }
      ],
      "source": [
        "duplicated_rows = df[df.duplicated()]\n",
        "print(len(duplicated_rows))"
      ]
    },
    {
      "cell_type": "code",
      "execution_count": 34,
      "metadata": {
        "colab": {
          "base_uri": "https://localhost:8080/"
        },
        "id": "DCHLOFGOsdlO",
        "outputId": "372a21c9-c348-428b-910a-4ec5222b6de8"
      },
      "outputs": [
        {
          "output_type": "stream",
          "name": "stdout",
          "text": [
            "<class 'pandas.core.frame.DataFrame'>\n",
            "RangeIndex: 5131 entries, 0 to 5130\n",
            "Data columns (total 10 columns):\n",
            " #   Column     Non-Null Count  Dtype  \n",
            "---  ------     --------------  -----  \n",
            " 0   Age        5109 non-null   float64\n",
            " 1   Gender     5131 non-null   object \n",
            " 2   BMI        5108 non-null   float64\n",
            " 3   Chol       5106 non-null   float64\n",
            " 4   TG         5100 non-null   float64\n",
            " 5   HDL        5109 non-null   float64\n",
            " 6   LDL        5113 non-null   float64\n",
            " 7   Cr         5110 non-null   float64\n",
            " 8   BUN        5111 non-null   float64\n",
            " 9   Diagnosis  5113 non-null   float64\n",
            "dtypes: float64(9), object(1)\n",
            "memory usage: 401.0+ KB\n"
          ]
        }
      ],
      "source": [
        "df.info()"
      ]
    },
    {
      "cell_type": "markdown",
      "metadata": {
        "id": "BvFCmSk9qmeN"
      },
      "source": [
        "Xóa các dòng dữ liệu chứa giá trị NaN"
      ]
    },
    {
      "cell_type": "code",
      "execution_count": 35,
      "metadata": {
        "id": "QXGrvKonqX9X"
      },
      "outputs": [],
      "source": [
        "df = df.dropna()\n",
        "df = df.reset_index()\n",
        "df = df.drop(df.columns[0], axis = 1)"
      ]
    },
    {
      "cell_type": "code",
      "execution_count": 36,
      "metadata": {
        "colab": {
          "base_uri": "https://localhost:8080/"
        },
        "id": "Bg0UH8fYjKLL",
        "outputId": "c76a74ef-9c52-4a42-d71e-5c0a5903ef60"
      },
      "outputs": [
        {
          "output_type": "stream",
          "name": "stdout",
          "text": [
            "Age          0\n",
            "Gender       0\n",
            "BMI          0\n",
            "Chol         0\n",
            "TG           0\n",
            "HDL          0\n",
            "LDL          0\n",
            "Cr           0\n",
            "BUN          0\n",
            "Diagnosis    0\n",
            "dtype: int64\n"
          ]
        }
      ],
      "source": [
        "print(df.isna().sum())"
      ]
    },
    {
      "cell_type": "code",
      "execution_count": 37,
      "metadata": {
        "colab": {
          "base_uri": "https://localhost:8080/"
        },
        "id": "eF8jcRtIskUe",
        "outputId": "db17bfb5-e28e-47c4-b834-c559f2d454c7"
      },
      "outputs": [
        {
          "output_type": "stream",
          "name": "stdout",
          "text": [
            "<class 'pandas.core.frame.DataFrame'>\n",
            "RangeIndex: 4932 entries, 0 to 4931\n",
            "Data columns (total 10 columns):\n",
            " #   Column     Non-Null Count  Dtype  \n",
            "---  ------     --------------  -----  \n",
            " 0   Age        4932 non-null   float64\n",
            " 1   Gender     4932 non-null   object \n",
            " 2   BMI        4932 non-null   float64\n",
            " 3   Chol       4932 non-null   float64\n",
            " 4   TG         4932 non-null   float64\n",
            " 5   HDL        4932 non-null   float64\n",
            " 6   LDL        4932 non-null   float64\n",
            " 7   Cr         4932 non-null   float64\n",
            " 8   BUN        4932 non-null   float64\n",
            " 9   Diagnosis  4932 non-null   float64\n",
            "dtypes: float64(9), object(1)\n",
            "memory usage: 385.4+ KB\n"
          ]
        }
      ],
      "source": [
        "df.info()"
      ]
    },
    {
      "cell_type": "markdown",
      "metadata": {
        "id": "Bm-9QFeVBDoB"
      },
      "source": [
        "Xóa dòng chứa dữ liệu không hợp lệ"
      ]
    },
    {
      "cell_type": "code",
      "execution_count": 38,
      "metadata": {
        "id": "LDQQ97aqqhTF"
      },
      "outputs": [],
      "source": [
        "df = df.drop(df[(df['Age'].astype(float) < 0) |\n",
        "                (df['BMI'].astype(float) < 0) |\n",
        "                (df['Chol'].astype(float) < 0) |\n",
        "                (df['TG'].astype(float) < 0) |\n",
        "                (df['HDL'].astype(float) < 0) |\n",
        "                (df['LDL'].astype(float) < 0) |\n",
        "                (df['Cr'].astype(float) < 0) |\n",
        "                (df['BUN'].astype(float) < 0) |\n",
        "                (df['Diagnosis'].astype(float) < 0)].index)\n",
        "df = df.reset_index()\n",
        "df = df.drop(df.columns[0], axis = 1)"
      ]
    },
    {
      "cell_type": "code",
      "execution_count": 39,
      "metadata": {
        "colab": {
          "base_uri": "https://localhost:8080/"
        },
        "id": "uEPf2tGc2qbh",
        "outputId": "949a9d88-1a53-4486-eff8-6f7c2f584b2f"
      },
      "outputs": [
        {
          "output_type": "stream",
          "name": "stdout",
          "text": [
            "<class 'pandas.core.frame.DataFrame'>\n",
            "RangeIndex: 4743 entries, 0 to 4742\n",
            "Data columns (total 10 columns):\n",
            " #   Column     Non-Null Count  Dtype  \n",
            "---  ------     --------------  -----  \n",
            " 0   Age        4743 non-null   float64\n",
            " 1   Gender     4743 non-null   object \n",
            " 2   BMI        4743 non-null   float64\n",
            " 3   Chol       4743 non-null   float64\n",
            " 4   TG         4743 non-null   float64\n",
            " 5   HDL        4743 non-null   float64\n",
            " 6   LDL        4743 non-null   float64\n",
            " 7   Cr         4743 non-null   float64\n",
            " 8   BUN        4743 non-null   float64\n",
            " 9   Diagnosis  4743 non-null   float64\n",
            "dtypes: float64(9), object(1)\n",
            "memory usage: 370.7+ KB\n"
          ]
        }
      ],
      "source": [
        "df.info()"
      ]
    },
    {
      "cell_type": "code",
      "execution_count": 40,
      "metadata": {
        "colab": {
          "base_uri": "https://localhost:8080/",
          "height": 0
        },
        "id": "xD2mmO6mEStH",
        "outputId": "4cef9543-7534-43d5-ad7c-4e51f7a87107"
      },
      "outputs": [
        {
          "output_type": "execute_result",
          "data": {
            "text/plain": [
              "            Age       BMI      Chol        TG       HDL       LDL        Cr  \\\n",
              "count  4743.000  4743.000  4743.000  4743.000  4743.000  4743.000  4743.000   \n",
              "mean     48.980    24.613     4.875     1.723     1.595     2.917    71.201   \n",
              "std      14.035     4.284     1.006     1.337     1.040     0.950    29.124   \n",
              "min      20.000    15.000     0.000     0.000     0.000     0.300     4.861   \n",
              "25%      36.000    22.000     4.200     0.910     1.100     2.290    58.000   \n",
              "50%      49.000    24.000     4.800     1.380     1.300     2.800    70.200   \n",
              "75%      59.000    27.000     5.470     2.100     1.590     3.400    81.700   \n",
              "max      93.000    47.000    11.650    32.640     9.900     9.900   800.000   \n",
              "\n",
              "            BUN  Diagnosis  \n",
              "count  4743.000   4743.000  \n",
              "mean      4.892      0.390  \n",
              "std       1.697      0.488  \n",
              "min       0.500      0.000  \n",
              "25%       3.910      0.000  \n",
              "50%       4.730      0.000  \n",
              "75%       5.580      1.000  \n",
              "max      38.900      1.000  "
            ],
            "text/html": [
              "\n",
              "  <div id=\"df-5baac1cf-f11e-4125-b60e-55d5c4701cd3\" class=\"colab-df-container\">\n",
              "    <div>\n",
              "<style scoped>\n",
              "    .dataframe tbody tr th:only-of-type {\n",
              "        vertical-align: middle;\n",
              "    }\n",
              "\n",
              "    .dataframe tbody tr th {\n",
              "        vertical-align: top;\n",
              "    }\n",
              "\n",
              "    .dataframe thead th {\n",
              "        text-align: right;\n",
              "    }\n",
              "</style>\n",
              "<table border=\"1\" class=\"dataframe\">\n",
              "  <thead>\n",
              "    <tr style=\"text-align: right;\">\n",
              "      <th></th>\n",
              "      <th>Age</th>\n",
              "      <th>BMI</th>\n",
              "      <th>Chol</th>\n",
              "      <th>TG</th>\n",
              "      <th>HDL</th>\n",
              "      <th>LDL</th>\n",
              "      <th>Cr</th>\n",
              "      <th>BUN</th>\n",
              "      <th>Diagnosis</th>\n",
              "    </tr>\n",
              "  </thead>\n",
              "  <tbody>\n",
              "    <tr>\n",
              "      <th>count</th>\n",
              "      <td>4743.000</td>\n",
              "      <td>4743.000</td>\n",
              "      <td>4743.000</td>\n",
              "      <td>4743.000</td>\n",
              "      <td>4743.000</td>\n",
              "      <td>4743.000</td>\n",
              "      <td>4743.000</td>\n",
              "      <td>4743.000</td>\n",
              "      <td>4743.000</td>\n",
              "    </tr>\n",
              "    <tr>\n",
              "      <th>mean</th>\n",
              "      <td>48.980</td>\n",
              "      <td>24.613</td>\n",
              "      <td>4.875</td>\n",
              "      <td>1.723</td>\n",
              "      <td>1.595</td>\n",
              "      <td>2.917</td>\n",
              "      <td>71.201</td>\n",
              "      <td>4.892</td>\n",
              "      <td>0.390</td>\n",
              "    </tr>\n",
              "    <tr>\n",
              "      <th>std</th>\n",
              "      <td>14.035</td>\n",
              "      <td>4.284</td>\n",
              "      <td>1.006</td>\n",
              "      <td>1.337</td>\n",
              "      <td>1.040</td>\n",
              "      <td>0.950</td>\n",
              "      <td>29.124</td>\n",
              "      <td>1.697</td>\n",
              "      <td>0.488</td>\n",
              "    </tr>\n",
              "    <tr>\n",
              "      <th>min</th>\n",
              "      <td>20.000</td>\n",
              "      <td>15.000</td>\n",
              "      <td>0.000</td>\n",
              "      <td>0.000</td>\n",
              "      <td>0.000</td>\n",
              "      <td>0.300</td>\n",
              "      <td>4.861</td>\n",
              "      <td>0.500</td>\n",
              "      <td>0.000</td>\n",
              "    </tr>\n",
              "    <tr>\n",
              "      <th>25%</th>\n",
              "      <td>36.000</td>\n",
              "      <td>22.000</td>\n",
              "      <td>4.200</td>\n",
              "      <td>0.910</td>\n",
              "      <td>1.100</td>\n",
              "      <td>2.290</td>\n",
              "      <td>58.000</td>\n",
              "      <td>3.910</td>\n",
              "      <td>0.000</td>\n",
              "    </tr>\n",
              "    <tr>\n",
              "      <th>50%</th>\n",
              "      <td>49.000</td>\n",
              "      <td>24.000</td>\n",
              "      <td>4.800</td>\n",
              "      <td>1.380</td>\n",
              "      <td>1.300</td>\n",
              "      <td>2.800</td>\n",
              "      <td>70.200</td>\n",
              "      <td>4.730</td>\n",
              "      <td>0.000</td>\n",
              "    </tr>\n",
              "    <tr>\n",
              "      <th>75%</th>\n",
              "      <td>59.000</td>\n",
              "      <td>27.000</td>\n",
              "      <td>5.470</td>\n",
              "      <td>2.100</td>\n",
              "      <td>1.590</td>\n",
              "      <td>3.400</td>\n",
              "      <td>81.700</td>\n",
              "      <td>5.580</td>\n",
              "      <td>1.000</td>\n",
              "    </tr>\n",
              "    <tr>\n",
              "      <th>max</th>\n",
              "      <td>93.000</td>\n",
              "      <td>47.000</td>\n",
              "      <td>11.650</td>\n",
              "      <td>32.640</td>\n",
              "      <td>9.900</td>\n",
              "      <td>9.900</td>\n",
              "      <td>800.000</td>\n",
              "      <td>38.900</td>\n",
              "      <td>1.000</td>\n",
              "    </tr>\n",
              "  </tbody>\n",
              "</table>\n",
              "</div>\n",
              "    <div class=\"colab-df-buttons\">\n",
              "\n",
              "  <div class=\"colab-df-container\">\n",
              "    <button class=\"colab-df-convert\" onclick=\"convertToInteractive('df-5baac1cf-f11e-4125-b60e-55d5c4701cd3')\"\n",
              "            title=\"Convert this dataframe to an interactive table.\"\n",
              "            style=\"display:none;\">\n",
              "\n",
              "  <svg xmlns=\"http://www.w3.org/2000/svg\" height=\"24px\" viewBox=\"0 -960 960 960\">\n",
              "    <path d=\"M120-120v-720h720v720H120Zm60-500h600v-160H180v160Zm220 220h160v-160H400v160Zm0 220h160v-160H400v160ZM180-400h160v-160H180v160Zm440 0h160v-160H620v160ZM180-180h160v-160H180v160Zm440 0h160v-160H620v160Z\"/>\n",
              "  </svg>\n",
              "    </button>\n",
              "\n",
              "  <style>\n",
              "    .colab-df-container {\n",
              "      display:flex;\n",
              "      gap: 12px;\n",
              "    }\n",
              "\n",
              "    .colab-df-convert {\n",
              "      background-color: #E8F0FE;\n",
              "      border: none;\n",
              "      border-radius: 50%;\n",
              "      cursor: pointer;\n",
              "      display: none;\n",
              "      fill: #1967D2;\n",
              "      height: 32px;\n",
              "      padding: 0 0 0 0;\n",
              "      width: 32px;\n",
              "    }\n",
              "\n",
              "    .colab-df-convert:hover {\n",
              "      background-color: #E2EBFA;\n",
              "      box-shadow: 0px 1px 2px rgba(60, 64, 67, 0.3), 0px 1px 3px 1px rgba(60, 64, 67, 0.15);\n",
              "      fill: #174EA6;\n",
              "    }\n",
              "\n",
              "    .colab-df-buttons div {\n",
              "      margin-bottom: 4px;\n",
              "    }\n",
              "\n",
              "    [theme=dark] .colab-df-convert {\n",
              "      background-color: #3B4455;\n",
              "      fill: #D2E3FC;\n",
              "    }\n",
              "\n",
              "    [theme=dark] .colab-df-convert:hover {\n",
              "      background-color: #434B5C;\n",
              "      box-shadow: 0px 1px 3px 1px rgba(0, 0, 0, 0.15);\n",
              "      filter: drop-shadow(0px 1px 2px rgba(0, 0, 0, 0.3));\n",
              "      fill: #FFFFFF;\n",
              "    }\n",
              "  </style>\n",
              "\n",
              "    <script>\n",
              "      const buttonEl =\n",
              "        document.querySelector('#df-5baac1cf-f11e-4125-b60e-55d5c4701cd3 button.colab-df-convert');\n",
              "      buttonEl.style.display =\n",
              "        google.colab.kernel.accessAllowed ? 'block' : 'none';\n",
              "\n",
              "      async function convertToInteractive(key) {\n",
              "        const element = document.querySelector('#df-5baac1cf-f11e-4125-b60e-55d5c4701cd3');\n",
              "        const dataTable =\n",
              "          await google.colab.kernel.invokeFunction('convertToInteractive',\n",
              "                                                    [key], {});\n",
              "        if (!dataTable) return;\n",
              "\n",
              "        const docLinkHtml = 'Like what you see? Visit the ' +\n",
              "          '<a target=\"_blank\" href=https://colab.research.google.com/notebooks/data_table.ipynb>data table notebook</a>'\n",
              "          + ' to learn more about interactive tables.';\n",
              "        element.innerHTML = '';\n",
              "        dataTable['output_type'] = 'display_data';\n",
              "        await google.colab.output.renderOutput(dataTable, element);\n",
              "        const docLink = document.createElement('div');\n",
              "        docLink.innerHTML = docLinkHtml;\n",
              "        element.appendChild(docLink);\n",
              "      }\n",
              "    </script>\n",
              "  </div>\n",
              "\n",
              "\n",
              "<div id=\"df-24bb2101-cf29-4582-b7dd-17f68c0e2501\">\n",
              "  <button class=\"colab-df-quickchart\" onclick=\"quickchart('df-24bb2101-cf29-4582-b7dd-17f68c0e2501')\"\n",
              "            title=\"Suggest charts\"\n",
              "            style=\"display:none;\">\n",
              "\n",
              "<svg xmlns=\"http://www.w3.org/2000/svg\" height=\"24px\"viewBox=\"0 0 24 24\"\n",
              "     width=\"24px\">\n",
              "    <g>\n",
              "        <path d=\"M19 3H5c-1.1 0-2 .9-2 2v14c0 1.1.9 2 2 2h14c1.1 0 2-.9 2-2V5c0-1.1-.9-2-2-2zM9 17H7v-7h2v7zm4 0h-2V7h2v10zm4 0h-2v-4h2v4z\"/>\n",
              "    </g>\n",
              "</svg>\n",
              "  </button>\n",
              "\n",
              "<style>\n",
              "  .colab-df-quickchart {\n",
              "      --bg-color: #E8F0FE;\n",
              "      --fill-color: #1967D2;\n",
              "      --hover-bg-color: #E2EBFA;\n",
              "      --hover-fill-color: #174EA6;\n",
              "      --disabled-fill-color: #AAA;\n",
              "      --disabled-bg-color: #DDD;\n",
              "  }\n",
              "\n",
              "  [theme=dark] .colab-df-quickchart {\n",
              "      --bg-color: #3B4455;\n",
              "      --fill-color: #D2E3FC;\n",
              "      --hover-bg-color: #434B5C;\n",
              "      --hover-fill-color: #FFFFFF;\n",
              "      --disabled-bg-color: #3B4455;\n",
              "      --disabled-fill-color: #666;\n",
              "  }\n",
              "\n",
              "  .colab-df-quickchart {\n",
              "    background-color: var(--bg-color);\n",
              "    border: none;\n",
              "    border-radius: 50%;\n",
              "    cursor: pointer;\n",
              "    display: none;\n",
              "    fill: var(--fill-color);\n",
              "    height: 32px;\n",
              "    padding: 0;\n",
              "    width: 32px;\n",
              "  }\n",
              "\n",
              "  .colab-df-quickchart:hover {\n",
              "    background-color: var(--hover-bg-color);\n",
              "    box-shadow: 0 1px 2px rgba(60, 64, 67, 0.3), 0 1px 3px 1px rgba(60, 64, 67, 0.15);\n",
              "    fill: var(--button-hover-fill-color);\n",
              "  }\n",
              "\n",
              "  .colab-df-quickchart-complete:disabled,\n",
              "  .colab-df-quickchart-complete:disabled:hover {\n",
              "    background-color: var(--disabled-bg-color);\n",
              "    fill: var(--disabled-fill-color);\n",
              "    box-shadow: none;\n",
              "  }\n",
              "\n",
              "  .colab-df-spinner {\n",
              "    border: 2px solid var(--fill-color);\n",
              "    border-color: transparent;\n",
              "    border-bottom-color: var(--fill-color);\n",
              "    animation:\n",
              "      spin 1s steps(1) infinite;\n",
              "  }\n",
              "\n",
              "  @keyframes spin {\n",
              "    0% {\n",
              "      border-color: transparent;\n",
              "      border-bottom-color: var(--fill-color);\n",
              "      border-left-color: var(--fill-color);\n",
              "    }\n",
              "    20% {\n",
              "      border-color: transparent;\n",
              "      border-left-color: var(--fill-color);\n",
              "      border-top-color: var(--fill-color);\n",
              "    }\n",
              "    30% {\n",
              "      border-color: transparent;\n",
              "      border-left-color: var(--fill-color);\n",
              "      border-top-color: var(--fill-color);\n",
              "      border-right-color: var(--fill-color);\n",
              "    }\n",
              "    40% {\n",
              "      border-color: transparent;\n",
              "      border-right-color: var(--fill-color);\n",
              "      border-top-color: var(--fill-color);\n",
              "    }\n",
              "    60% {\n",
              "      border-color: transparent;\n",
              "      border-right-color: var(--fill-color);\n",
              "    }\n",
              "    80% {\n",
              "      border-color: transparent;\n",
              "      border-right-color: var(--fill-color);\n",
              "      border-bottom-color: var(--fill-color);\n",
              "    }\n",
              "    90% {\n",
              "      border-color: transparent;\n",
              "      border-bottom-color: var(--fill-color);\n",
              "    }\n",
              "  }\n",
              "</style>\n",
              "\n",
              "  <script>\n",
              "    async function quickchart(key) {\n",
              "      const quickchartButtonEl =\n",
              "        document.querySelector('#' + key + ' button');\n",
              "      quickchartButtonEl.disabled = true;  // To prevent multiple clicks.\n",
              "      quickchartButtonEl.classList.add('colab-df-spinner');\n",
              "      try {\n",
              "        const charts = await google.colab.kernel.invokeFunction(\n",
              "            'suggestCharts', [key], {});\n",
              "      } catch (error) {\n",
              "        console.error('Error during call to suggestCharts:', error);\n",
              "      }\n",
              "      quickchartButtonEl.classList.remove('colab-df-spinner');\n",
              "      quickchartButtonEl.classList.add('colab-df-quickchart-complete');\n",
              "    }\n",
              "    (() => {\n",
              "      let quickchartButtonEl =\n",
              "        document.querySelector('#df-24bb2101-cf29-4582-b7dd-17f68c0e2501 button');\n",
              "      quickchartButtonEl.style.display =\n",
              "        google.colab.kernel.accessAllowed ? 'block' : 'none';\n",
              "    })();\n",
              "  </script>\n",
              "</div>\n",
              "    </div>\n",
              "  </div>\n"
            ],
            "application/vnd.google.colaboratory.intrinsic+json": {
              "type": "dataframe",
              "summary": "{\n  \"name\": \"df\",\n  \"rows\": 8,\n  \"fields\": [\n    {\n      \"column\": \"Age\",\n      \"properties\": {\n        \"dtype\": \"number\",\n        \"std\": 1660.9208680878066,\n        \"min\": 14.035,\n        \"max\": 4743.0,\n        \"num_unique_values\": 8,\n        \"samples\": [\n          48.98,\n          49.0,\n          4743.0\n        ],\n        \"semantic_type\": \"\",\n        \"description\": \"\"\n      }\n    },\n    {\n      \"column\": \"BMI\",\n      \"properties\": {\n        \"dtype\": \"number\",\n        \"std\": 1668.668904133252,\n        \"min\": 4.284,\n        \"max\": 4743.0,\n        \"num_unique_values\": 8,\n        \"samples\": [\n          24.613,\n          24.0,\n          4743.0\n        ],\n        \"semantic_type\": \"\",\n        \"description\": \"\"\n      }\n    },\n    {\n      \"column\": \"Chol\",\n      \"properties\": {\n        \"dtype\": \"number\",\n        \"std\": 1675.2910528498314,\n        \"min\": 0.0,\n        \"max\": 4743.0,\n        \"num_unique_values\": 8,\n        \"samples\": [\n          4.875,\n          4.8,\n          4743.0\n        ],\n        \"semantic_type\": \"\",\n        \"description\": \"\"\n      }\n    },\n    {\n      \"column\": \"TG\",\n      \"properties\": {\n        \"dtype\": \"number\",\n        \"std\": 1674.915030889009,\n        \"min\": 0.0,\n        \"max\": 4743.0,\n        \"num_unique_values\": 8,\n        \"samples\": [\n          1.723,\n          1.38,\n          4743.0\n        ],\n        \"semantic_type\": \"\",\n        \"description\": \"\"\n      }\n    },\n    {\n      \"column\": \"HDL\",\n      \"properties\": {\n        \"dtype\": \"number\",\n        \"std\": 1676.0719932339198,\n        \"min\": 0.0,\n        \"max\": 4743.0,\n        \"num_unique_values\": 8,\n        \"samples\": [\n          1.595,\n          1.3,\n          4743.0\n        ],\n        \"semantic_type\": \"\",\n        \"description\": \"\"\n      }\n    },\n    {\n      \"column\": \"LDL\",\n      \"properties\": {\n        \"dtype\": \"number\",\n        \"std\": 1675.7669657911385,\n        \"min\": 0.3,\n        \"max\": 4743.0,\n        \"num_unique_values\": 8,\n        \"samples\": [\n          2.917,\n          2.8,\n          4743.0\n        ],\n        \"semantic_type\": \"\",\n        \"description\": \"\"\n      }\n    },\n    {\n      \"column\": \"Cr\",\n      \"properties\": {\n        \"dtype\": \"number\",\n        \"std\": 1641.746060978698,\n        \"min\": 4.861,\n        \"max\": 4743.0,\n        \"num_unique_values\": 8,\n        \"samples\": [\n          71.201,\n          70.2,\n          4743.0\n        ],\n        \"semantic_type\": \"\",\n        \"description\": \"\"\n      }\n    },\n    {\n      \"column\": \"BUN\",\n      \"properties\": {\n        \"dtype\": \"number\",\n        \"std\": 1673.9092816203322,\n        \"min\": 0.5,\n        \"max\": 4743.0,\n        \"num_unique_values\": 8,\n        \"samples\": [\n          4.892,\n          4.73,\n          4743.0\n        ],\n        \"semantic_type\": \"\",\n        \"description\": \"\"\n      }\n    },\n    {\n      \"column\": \"Diagnosis\",\n      \"properties\": {\n        \"dtype\": \"number\",\n        \"std\": 1676.7584220489036,\n        \"min\": 0.0,\n        \"max\": 4743.0,\n        \"num_unique_values\": 5,\n        \"samples\": [\n          0.39,\n          1.0,\n          0.488\n        ],\n        \"semantic_type\": \"\",\n        \"description\": \"\"\n      }\n    }\n  ]\n}"
            }
          },
          "metadata": {},
          "execution_count": 40
        }
      ],
      "source": [
        "df.describe().round(3)"
      ]
    },
    {
      "cell_type": "markdown",
      "metadata": {
        "id": "QBcr2lm0XLV2"
      },
      "source": [
        "Chia dữ liệu thành 3 tập test, validation và train"
      ]
    },
    {
      "cell_type": "code",
      "execution_count": 41,
      "metadata": {
        "id": "RmgKRG8pXM-K"
      },
      "outputs": [],
      "source": [
        "label = df['Diagnosis']\n",
        "n = round(len(df) * 10 / 100)\n",
        "\n",
        "df_test = df.iloc[:n + 1]\n",
        "df_valid = df.iloc[n + 1: n * 2 + 1]\n",
        "df_train = df.iloc[n * 2 + 1:]\n",
        "\n",
        "df_valid = df_valid.reset_index()\n",
        "df_valid = df_valid.drop(df_valid.columns[0], axis = 1)\n",
        "\n",
        "df_train = df_train.reset_index()\n",
        "df_train = df_train.drop(df_train.columns[0], axis = 1)\n",
        "\n",
        "label_test = label.iloc[:n + 1]\n",
        "label_valid = label.iloc[n + 1 : n * 2 + 1]\n",
        "label_train = label.iloc[n * 2 + 1:]\n",
        "\n",
        "label_valid = label_valid.reset_index()\n",
        "label_valid = label_valid.drop(label_valid.columns[0], axis = 1)\n",
        "\n",
        "label_train = label_train.reset_index()\n",
        "label_train = label_train.drop(label_train.columns[0], axis = 1)"
      ]
    },
    {
      "cell_type": "code",
      "execution_count": 42,
      "metadata": {
        "colab": {
          "base_uri": "https://localhost:8080/"
        },
        "id": "2Qok2TPwSNqk",
        "outputId": "b4d773e3-f953-48f5-cf2c-6c8c70808c14"
      },
      "outputs": [
        {
          "output_type": "execute_result",
          "data": {
            "text/plain": [
              "Diagnosis\n",
              "0.0          2583\n",
              "1.0          1211\n",
              "Name: count, dtype: int64"
            ]
          },
          "metadata": {},
          "execution_count": 42
        }
      ],
      "source": [
        "label_train.value_counts()"
      ]
    },
    {
      "cell_type": "code",
      "execution_count": 43,
      "metadata": {
        "colab": {
          "base_uri": "https://localhost:8080/",
          "height": 0
        },
        "id": "_7OkCDaKWx0U",
        "outputId": "8c534399-ff84-43e9-8622-b81a644174ee"
      },
      "outputs": [
        {
          "output_type": "display_data",
          "data": {
            "text/plain": [
              "<Figure size 640x480 with 1 Axes>"
            ],
            "image/png": "[encoded data removed]"
          },
          "metadata": {}
        }
      ],
      "source": [
        "plt.pie(label_train.value_counts())\n",
        "plt.show()"
      ]
    },
    {
      "cell_type": "markdown",
      "metadata": {
        "id": "ahDVgCp6mg27"
      },
      "source": [
        "Cân bằng dữ liệu bằng phương pháp SMOTE"
      ]
    },
    {
      "cell_type": "code",
      "execution_count": 44,
      "metadata": {
        "colab": {
          "base_uri": "https://localhost:8080/"
        },
        "id": "SFINQ1oMt3Lj",
        "outputId": "5bc6e89a-0831-4d0c-b82b-47ab0ae5eb90"
      },
      "outputs": [
        {
          "output_type": "stream",
          "name": "stderr",
          "text": [
            "<ipython-input-44-6e8ffa5930d0>:1: SettingWithCopyWarning: \n",
            "A value is trying to be set on a copy of a slice from a DataFrame.\n",
            "Try using .loc[row_indexer,col_indexer] = value instead\n",
            "\n",
            "See the caveats in the documentation: https://pandas.pydata.org/pandas-docs/stable/user_guide/indexing.html#returning-a-view-versus-a-copy\n",
            "  df_test['Gender'] = df_test['Gender'].replace('F', 0)\n",
            "<ipython-input-44-6e8ffa5930d0>:2: SettingWithCopyWarning: \n",
            "A value is trying to be set on a copy of a slice from a DataFrame.\n",
            "Try using .loc[row_indexer,col_indexer] = value instead\n",
            "\n",
            "See the caveats in the documentation: https://pandas.pydata.org/pandas-docs/stable/user_guide/indexing.html#returning-a-view-versus-a-copy\n",
            "  df_test['Gender'] = df_test['Gender'].replace('M', 1)\n"
          ]
        }
      ],
      "source": [
        "df_test['Gender'] = df_test['Gender'].replace('F', 0)\n",
        "df_test['Gender'] = df_test['Gender'].replace('M', 1)\n",
        "\n",
        "df_valid['Gender'] = df_valid['Gender'].replace('F', 0)\n",
        "df_valid['Gender'] = df_valid['Gender'].replace('M', 1)\n",
        "\n",
        "df_train['Gender'] = df_train['Gender'].replace('F', 0)\n",
        "df_train['Gender'] = df_train['Gender'].replace('M', 1)"
      ]
    },
    {
      "cell_type": "code",
      "execution_count": 45,
      "metadata": {
        "id": "_Xgyxjk8kMmR"
      },
      "outputs": [],
      "source": [
        "from imblearn.over_sampling import SMOTE\n",
        "\n",
        "smote = SMOTE(k_neighbors=5)\n",
        "df_train, label_train = smote.fit_resample(df_train, label_train)"
      ]
    },
    {
      "cell_type": "code",
      "execution_count": 46,
      "metadata": {
        "colab": {
          "base_uri": "https://localhost:8080/",
          "height": 0
        },
        "id": "1BgvN8gYFE9Q",
        "outputId": "8c5f95fd-77df-4d5c-ee65-7b64753a61f8"
      },
      "outputs": [
        {
          "output_type": "execute_result",
          "data": {
            "text/plain": [
              "      Age  Gender        BMI      Chol        TG       HDL       LDL  \\\n",
              "0      35       1  24.000000  5.070000  3.110000  1.030000  3.180000   \n",
              "1      30       1  23.000000  4.820000  1.180000  1.450000  2.810000   \n",
              "2      40       0  20.000000  4.600000  0.500000  1.250000  2.620000   \n",
              "3      35       1  26.000000  4.900000  2.530000  1.390000  2.080000   \n",
              "4      50       1  21.000000  4.410000  0.870000  1.100000  2.650000   \n",
              "...   ...     ...        ...       ...       ...       ...       ...   \n",
              "5161   73       1  24.372123  5.310000  0.850230  1.492788  3.113248   \n",
              "5162   56       1  24.000000  4.864041  2.544863  1.279429  2.478493   \n",
              "5163   62       1  26.367078  4.172526  1.289102  1.126840  2.421259   \n",
              "5164   59       0  24.000000  5.311134  1.242901  4.765272  4.858932   \n",
              "5165   74       0  19.000000  6.024264  1.366722  4.860753  4.860753   \n",
              "\n",
              "              Cr       BUN  Diagnosis  \n",
              "0      81.200000  3.380000        0.0  \n",
              "1      97.100000  4.800000        0.0  \n",
              "2      79.000000  3.790000        0.0  \n",
              "3      86.000000  6.100000        0.0  \n",
              "4      81.300000  6.420000        0.0  \n",
              "...          ...       ...        ...  \n",
              "5161   77.460486  4.640026        1.0  \n",
              "5162   70.818493  3.281849        1.0  \n",
              "5163  102.531690  5.716972        1.0  \n",
              "5164   42.494854  4.461392        1.0  \n",
              "5165    4.860753  4.060160        1.0  \n",
              "\n",
              "[5166 rows x 10 columns]"
            ],
            "text/html": [
              "\n",
              "  <div id=\"df-1ba6381c-964d-4fc8-b43e-f2a5e81efd32\" class=\"colab-df-container\">\n",
              "    <div>\n",
              "<style scoped>\n",
              "    .dataframe tbody tr th:only-of-type {\n",
              "        vertical-align: middle;\n",
              "    }\n",
              "\n",
              "    .dataframe tbody tr th {\n",
              "        vertical-align: top;\n",
              "    }\n",
              "\n",
              "    .dataframe thead th {\n",
              "        text-align: right;\n",
              "    }\n",
              "</style>\n",
              "<table border=\"1\" class=\"dataframe\">\n",
              "  <thead>\n",
              "    <tr style=\"text-align: right;\">\n",
              "      <th></th>\n",
              "      <th>Age</th>\n",
              "      <th>Gender</th>\n",
              "      <th>BMI</th>\n",
              "      <th>Chol</th>\n",
              "      <th>TG</th>\n",
              "      <th>HDL</th>\n",
              "      <th>LDL</th>\n",
              "      <th>Cr</th>\n",
              "      <th>BUN</th>\n",
              "      <th>Diagnosis</th>\n",
              "    </tr>\n",
              "  </thead>\n",
              "  <tbody>\n",
              "    <tr>\n",
              "      <th>0</th>\n",
              "      <td>35</td>\n",
              "      <td>1</td>\n",
              "      <td>24.000000</td>\n",
              "      <td>5.070000</td>\n",
              "      <td>3.110000</td>\n",
              "      <td>1.030000</td>\n",
              "      <td>3.180000</td>\n",
              "      <td>81.200000</td>\n",
              "      <td>3.380000</td>\n",
              "      <td>0.0</td>\n",
              "    </tr>\n",
              "    <tr>\n",
              "      <th>1</th>\n",
              "      <td>30</td>\n",
              "      <td>1</td>\n",
              "      <td>23.000000</td>\n",
              "      <td>4.820000</td>\n",
              "      <td>1.180000</td>\n",
              "      <td>1.450000</td>\n",
              "      <td>2.810000</td>\n",
              "      <td>97.100000</td>\n",
              "      <td>4.800000</td>\n",
              "      <td>0.0</td>\n",
              "    </tr>\n",
              "    <tr>\n",
              "      <th>2</th>\n",
              "      <td>40</td>\n",
              "      <td>0</td>\n",
              "      <td>20.000000</td>\n",
              "      <td>4.600000</td>\n",
              "      <td>0.500000</td>\n",
              "      <td>1.250000</td>\n",
              "      <td>2.620000</td>\n",
              "      <td>79.000000</td>\n",
              "      <td>3.790000</td>\n",
              "      <td>0.0</td>\n",
              "    </tr>\n",
              "    <tr>\n",
              "      <th>3</th>\n",
              "      <td>35</td>\n",
              "      <td>1</td>\n",
              "      <td>26.000000</td>\n",
              "      <td>4.900000</td>\n",
              "      <td>2.530000</td>\n",
              "      <td>1.390000</td>\n",
              "      <td>2.080000</td>\n",
              "      <td>86.000000</td>\n",
              "      <td>6.100000</td>\n",
              "      <td>0.0</td>\n",
              "    </tr>\n",
              "    <tr>\n",
              "      <th>4</th>\n",
              "      <td>50</td>\n",
              "      <td>1</td>\n",
              "      <td>21.000000</td>\n",
              "      <td>4.410000</td>\n",
              "      <td>0.870000</td>\n",
              "      <td>1.100000</td>\n",
              "      <td>2.650000</td>\n",
              "      <td>81.300000</td>\n",
              "      <td>6.420000</td>\n",
              "      <td>0.0</td>\n",
              "    </tr>\n",
              "    <tr>\n",
              "      <th>...</th>\n",
              "      <td>...</td>\n",
              "      <td>...</td>\n",
              "      <td>...</td>\n",
              "      <td>...</td>\n",
              "      <td>...</td>\n",
              "      <td>...</td>\n",
              "      <td>...</td>\n",
              "      <td>...</td>\n",
              "      <td>...</td>\n",
              "      <td>...</td>\n",
              "    </tr>\n",
              "    <tr>\n",
              "      <th>5161</th>\n",
              "      <td>73</td>\n",
              "      <td>1</td>\n",
              "      <td>24.372123</td>\n",
              "      <td>5.310000</td>\n",
              "      <td>0.850230</td>\n",
              "      <td>1.492788</td>\n",
              "      <td>3.113248</td>\n",
              "      <td>77.460486</td>\n",
              "      <td>4.640026</td>\n",
              "      <td>1.0</td>\n",
              "    </tr>\n",
              "    <tr>\n",
              "      <th>5162</th>\n",
              "      <td>56</td>\n",
              "      <td>1</td>\n",
              "      <td>24.000000</td>\n",
              "      <td>4.864041</td>\n",
              "      <td>2.544863</td>\n",
              "      <td>1.279429</td>\n",
              "      <td>2.478493</td>\n",
              "      <td>70.818493</td>\n",
              "      <td>3.281849</td>\n",
              "      <td>1.0</td>\n",
              "    </tr>\n",
              "    <tr>\n",
              "      <th>5163</th>\n",
              "      <td>62</td>\n",
              "      <td>1</td>\n",
              "      <td>26.367078</td>\n",
              "      <td>4.172526</td>\n",
              "      <td>1.289102</td>\n",
              "      <td>1.126840</td>\n",
              "      <td>2.421259</td>\n",
              "      <td>102.531690</td>\n",
              "      <td>5.716972</td>\n",
              "      <td>1.0</td>\n",
              "    </tr>\n",
              "    <tr>\n",
              "      <th>5164</th>\n",
              "      <td>59</td>\n",
              "      <td>0</td>\n",
              "      <td>24.000000</td>\n",
              "      <td>5.311134</td>\n",
              "      <td>1.242901</td>\n",
              "      <td>4.765272</td>\n",
              "      <td>4.858932</td>\n",
              "      <td>42.494854</td>\n",
              "      <td>4.461392</td>\n",
              "      <td>1.0</td>\n",
              "    </tr>\n",
              "    <tr>\n",
              "      <th>5165</th>\n",
              "      <td>74</td>\n",
              "      <td>0</td>\n",
              "      <td>19.000000</td>\n",
              "      <td>6.024264</td>\n",
              "      <td>1.366722</td>\n",
              "      <td>4.860753</td>\n",
              "      <td>4.860753</td>\n",
              "      <td>4.860753</td>\n",
              "      <td>4.060160</td>\n",
              "      <td>1.0</td>\n",
              "    </tr>\n",
              "  </tbody>\n",
              "</table>\n",
              "<p>5166 rows × 10 columns</p>\n",
              "</div>\n",
              "    <div class=\"colab-df-buttons\">\n",
              "\n",
              "  <div class=\"colab-df-container\">\n",
              "    <button class=\"colab-df-convert\" onclick=\"convertToInteractive('df-1ba6381c-964d-4fc8-b43e-f2a5e81efd32')\"\n",
              "            title=\"Convert this dataframe to an interactive table.\"\n",
              "            style=\"display:none;\">\n",
              "\n",
              "  <svg xmlns=\"http://www.w3.org/2000/svg\" height=\"24px\" viewBox=\"0 -960 960 960\">\n",
              "    <path d=\"M120-120v-720h720v720H120Zm60-500h600v-160H180v160Zm220 220h160v-160H400v160Zm0 220h160v-160H400v160ZM180-400h160v-160H180v160Zm440 0h160v-160H620v160ZM180-180h160v-160H180v160Zm440 0h160v-160H620v160Z\"/>\n",
              "  </svg>\n",
              "    </button>\n",
              "\n",
              "  <style>\n",
              "    .colab-df-container {\n",
              "      display:flex;\n",
              "      gap: 12px;\n",
              "    }\n",
              "\n",
              "    .colab-df-convert {\n",
              "      background-color: #E8F0FE;\n",
              "      border: none;\n",
              "      border-radius: 50%;\n",
              "      cursor: pointer;\n",
              "      display: none;\n",
              "      fill: #1967D2;\n",
              "      height: 32px;\n",
              "      padding: 0 0 0 0;\n",
              "      width: 32px;\n",
              "    }\n",
              "\n",
              "    .colab-df-convert:hover {\n",
              "      background-color: #E2EBFA;\n",
              "      box-shadow: 0px 1px 2px rgba(60, 64, 67, 0.3), 0px 1px 3px 1px rgba(60, 64, 67, 0.15);\n",
              "      fill: #174EA6;\n",
              "    }\n",
              "\n",
              "    .colab-df-buttons div {\n",
              "      margin-bottom: 4px;\n",
              "    }\n",
              "\n",
              "    [theme=dark] .colab-df-convert {\n",
              "      background-color: #3B4455;\n",
              "      fill: #D2E3FC;\n",
              "    }\n",
              "\n",
              "    [theme=dark] .colab-df-convert:hover {\n",
              "      background-color: #434B5C;\n",
              "      box-shadow: 0px 1px 3px 1px rgba(0, 0, 0, 0.15);\n",
              "      filter: drop-shadow(0px 1px 2px rgba(0, 0, 0, 0.3));\n",
              "      fill: #FFFFFF;\n",
              "    }\n",
              "  </style>\n",
              "\n",
              "    <script>\n",
              "      const buttonEl =\n",
              "        document.querySelector('#df-1ba6381c-964d-4fc8-b43e-f2a5e81efd32 button.colab-df-convert');\n",
              "      buttonEl.style.display =\n",
              "        google.colab.kernel.accessAllowed ? 'block' : 'none';\n",
              "\n",
              "      async function convertToInteractive(key) {\n",
              "        const element = document.querySelector('#df-1ba6381c-964d-4fc8-b43e-f2a5e81efd32');\n",
              "        const dataTable =\n",
              "          await google.colab.kernel.invokeFunction('convertToInteractive',\n",
              "                                                    [key], {});\n",
              "        if (!dataTable) return;\n",
              "\n",
              "        const docLinkHtml = 'Like what you see? Visit the ' +\n",
              "          '<a target=\"_blank\" href=https://colab.research.google.com/notebooks/data_table.ipynb>data table notebook</a>'\n",
              "          + ' to learn more about interactive tables.';\n",
              "        element.innerHTML = '';\n",
              "        dataTable['output_type'] = 'display_data';\n",
              "        await google.colab.output.renderOutput(dataTable, element);\n",
              "        const docLink = document.createElement('div');\n",
              "        docLink.innerHTML = docLinkHtml;\n",
              "        element.appendChild(docLink);\n",
              "      }\n",
              "    </script>\n",
              "  </div>\n",
              "\n",
              "\n",
              "<div id=\"df-53e52fd8-1e71-42f0-b089-6f02ad371a32\">\n",
              "  <button class=\"colab-df-quickchart\" onclick=\"quickchart('df-53e52fd8-1e71-42f0-b089-6f02ad371a32')\"\n",
              "            title=\"Suggest charts\"\n",
              "            style=\"display:none;\">\n",
              "\n",
              "<svg xmlns=\"http://www.w3.org/2000/svg\" height=\"24px\"viewBox=\"0 0 24 24\"\n",
              "     width=\"24px\">\n",
              "    <g>\n",
              "        <path d=\"M19 3H5c-1.1 0-2 .9-2 2v14c0 1.1.9 2 2 2h14c1.1 0 2-.9 2-2V5c0-1.1-.9-2-2-2zM9 17H7v-7h2v7zm4 0h-2V7h2v10zm4 0h-2v-4h2v4z\"/>\n",
              "    </g>\n",
              "</svg>\n",
              "  </button>\n",
              "\n",
              "<style>\n",
              "  .colab-df-quickchart {\n",
              "      --bg-color: #E8F0FE;\n",
              "      --fill-color: #1967D2;\n",
              "      --hover-bg-color: #E2EBFA;\n",
              "      --hover-fill-color: #174EA6;\n",
              "      --disabled-fill-color: #AAA;\n",
              "      --disabled-bg-color: #DDD;\n",
              "  }\n",
              "\n",
              "  [theme=dark] .colab-df-quickchart {\n",
              "      --bg-color: #3B4455;\n",
              "      --fill-color: #D2E3FC;\n",
              "      --hover-bg-color: #434B5C;\n",
              "      --hover-fill-color: #FFFFFF;\n",
              "      --disabled-bg-color: #3B4455;\n",
              "      --disabled-fill-color: #666;\n",
              "  }\n",
              "\n",
              "  .colab-df-quickchart {\n",
              "    background-color: var(--bg-color);\n",
              "    border: none;\n",
              "    border-radius: 50%;\n",
              "    cursor: pointer;\n",
              "    display: none;\n",
              "    fill: var(--fill-color);\n",
              "    height: 32px;\n",
              "    padding: 0;\n",
              "    width: 32px;\n",
              "  }\n",
              "\n",
              "  .colab-df-quickchart:hover {\n",
              "    background-color: var(--hover-bg-color);\n",
              "    box-shadow: 0 1px 2px rgba(60, 64, 67, 0.3), 0 1px 3px 1px rgba(60, 64, 67, 0.15);\n",
              "    fill: var(--button-hover-fill-color);\n",
              "  }\n",
              "\n",
              "  .colab-df-quickchart-complete:disabled,\n",
              "  .colab-df-quickchart-complete:disabled:hover {\n",
              "    background-color: var(--disabled-bg-color);\n",
              "    fill: var(--disabled-fill-color);\n",
              "    box-shadow: none;\n",
              "  }\n",
              "\n",
              "  .colab-df-spinner {\n",
              "    border: 2px solid var(--fill-color);\n",
              "    border-color: transparent;\n",
              "    border-bottom-color: var(--fill-color);\n",
              "    animation:\n",
              "      spin 1s steps(1) infinite;\n",
              "  }\n",
              "\n",
              "  @keyframes spin {\n",
              "    0% {\n",
              "      border-color: transparent;\n",
              "      border-bottom-color: var(--fill-color);\n",
              "      border-left-color: var(--fill-color);\n",
              "    }\n",
              "    20% {\n",
              "      border-color: transparent;\n",
              "      border-left-color: var(--fill-color);\n",
              "      border-top-color: var(--fill-color);\n",
              "    }\n",
              "    30% {\n",
              "      border-color: transparent;\n",
              "      border-left-color: var(--fill-color);\n",
              "      border-top-color: var(--fill-color);\n",
              "      border-right-color: var(--fill-color);\n",
              "    }\n",
              "    40% {\n",
              "      border-color: transparent;\n",
              "      border-right-color: var(--fill-color);\n",
              "      border-top-color: var(--fill-color);\n",
              "    }\n",
              "    60% {\n",
              "      border-color: transparent;\n",
              "      border-right-color: var(--fill-color);\n",
              "    }\n",
              "    80% {\n",
              "      border-color: transparent;\n",
              "      border-right-color: var(--fill-color);\n",
              "      border-bottom-color: var(--fill-color);\n",
              "    }\n",
              "    90% {\n",
              "      border-color: transparent;\n",
              "      border-bottom-color: var(--fill-color);\n",
              "    }\n",
              "  }\n",
              "</style>\n",
              "\n",
              "  <script>\n",
              "    async function quickchart(key) {\n",
              "      const quickchartButtonEl =\n",
              "        document.querySelector('#' + key + ' button');\n",
              "      quickchartButtonEl.disabled = true;  // To prevent multiple clicks.\n",
              "      quickchartButtonEl.classList.add('colab-df-spinner');\n",
              "      try {\n",
              "        const charts = await google.colab.kernel.invokeFunction(\n",
              "            'suggestCharts', [key], {});\n",
              "      } catch (error) {\n",
              "        console.error('Error during call to suggestCharts:', error);\n",
              "      }\n",
              "      quickchartButtonEl.classList.remove('colab-df-spinner');\n",
              "      quickchartButtonEl.classList.add('colab-df-quickchart-complete');\n",
              "    }\n",
              "    (() => {\n",
              "      let quickchartButtonEl =\n",
              "        document.querySelector('#df-53e52fd8-1e71-42f0-b089-6f02ad371a32 button');\n",
              "      quickchartButtonEl.style.display =\n",
              "        google.colab.kernel.accessAllowed ? 'block' : 'none';\n",
              "    })();\n",
              "  </script>\n",
              "</div>\n",
              "    </div>\n",
              "  </div>\n"
            ],
            "application/vnd.google.colaboratory.intrinsic+json": {
              "type": "dataframe",
              "variable_name": "df_train",
              "summary": "{\n  \"name\": \"df_train\",\n  \"rows\": 5166,\n  \"fields\": [\n    {\n      \"column\": \"Age\",\n      \"properties\": {\n        \"dtype\": \"number\",\n        \"std\": 14,\n        \"min\": 22,\n        \"max\": 93,\n        \"num_unique_values\": 71,\n        \"samples\": [\n          45,\n          35,\n          74\n        ],\n        \"semantic_type\": \"\",\n        \"description\": \"\"\n      }\n    },\n    {\n      \"column\": \"Gender\",\n      \"properties\": {\n        \"dtype\": \"number\",\n        \"std\": 0,\n        \"min\": 0,\n        \"max\": 1,\n        \"num_unique_values\": 2,\n        \"samples\": [\n          0,\n          1\n        ],\n        \"semantic_type\": \"\",\n        \"description\": \"\"\n      }\n    },\n    {\n      \"column\": \"BMI\",\n      \"properties\": {\n        \"dtype\": \"number\",\n        \"std\": 3.3808743598248823,\n        \"min\": 15.0,\n        \"max\": 45.0,\n        \"num_unique_values\": 1104,\n        \"samples\": [\n          27.596769656140694,\n          25.899253638337655\n        ],\n        \"semantic_type\": \"\",\n        \"description\": \"\"\n      }\n    },\n    {\n      \"column\": \"Chol\",\n      \"properties\": {\n        \"dtype\": \"number\",\n        \"std\": 0.8946175250329,\n        \"min\": 1.65,\n        \"max\": 11.65,\n        \"num_unique_values\": 1836,\n        \"samples\": [\n          5.438926721584337,\n          5.394598517831605\n        ],\n        \"semantic_type\": \"\",\n        \"description\": \"\"\n      }\n    },\n    {\n      \"column\": \"TG\",\n      \"properties\": {\n        \"dtype\": \"number\",\n        \"std\": 1.221865016115831,\n        \"min\": 0.0,\n        \"max\": 32.64,\n        \"num_unique_values\": 1823,\n        \"samples\": [\n          0.7312458570198994,\n          2.7895137020576937\n        ],\n        \"semantic_type\": \"\",\n        \"description\": \"\"\n      }\n    },\n    {\n      \"column\": \"HDL\",\n      \"properties\": {\n        \"dtype\": \"number\",\n        \"std\": 1.2761568202894018,\n        \"min\": 0.0,\n        \"max\": 4.860753,\n        \"num_unique_values\": 1235,\n        \"samples\": [\n          1.6524643504561831,\n          1.2616319024779072\n        ],\n        \"semantic_type\": \"\",\n        \"description\": \"\"\n      }\n    },\n    {\n      \"column\": \"LDL\",\n      \"properties\": {\n        \"dtype\": \"number\",\n        \"std\": 0.9434584219522547,\n        \"min\": 0.54,\n        \"max\": 6.27,\n        \"num_unique_values\": 1449,\n        \"samples\": [\n          2.3007022108491366,\n          3.2767291936762195\n        ],\n        \"semantic_type\": \"\",\n        \"description\": \"\"\n      }\n    },\n    {\n      \"column\": \"Cr\",\n      \"properties\": {\n        \"dtype\": \"number\",\n        \"std\": 18.276203381666605,\n        \"min\": 4.860753,\n        \"max\": 307.0,\n        \"num_unique_values\": 1967,\n        \"samples\": [\n          61.9597856722788,\n          59.05925487058077\n        ],\n        \"semantic_type\": \"\",\n        \"description\": \"\"\n      }\n    },\n    {\n      \"column\": \"BUN\",\n      \"properties\": {\n        \"dtype\": \"number\",\n        \"std\": 1.225936666635918,\n        \"min\": 1.38,\n        \"max\": 17.73,\n        \"num_unique_values\": 1893,\n        \"samples\": [\n          4.455002071254837,\n          5.488160258839214\n        ],\n        \"semantic_type\": \"\",\n        \"description\": \"\"\n      }\n    },\n    {\n      \"column\": \"Diagnosis\",\n      \"properties\": {\n        \"dtype\": \"number\",\n        \"std\": 0.5000484003679562,\n        \"min\": 0.0,\n        \"max\": 1.0,\n        \"num_unique_values\": 2,\n        \"samples\": [\n          1.0,\n          0.0\n        ],\n        \"semantic_type\": \"\",\n        \"description\": \"\"\n      }\n    }\n  ]\n}"
            }
          },
          "metadata": {},
          "execution_count": 46
        }
      ],
      "source": [
        "df_train['Age'] = df_train['Age'].astype(int)\n",
        "df_train"
      ]
    },
    {
      "cell_type": "code",
      "execution_count": 47,
      "metadata": {
        "colab": {
          "base_uri": "https://localhost:8080/"
        },
        "id": "FLPsyOUqsnkM",
        "outputId": "d41aae28-ff25-4e5f-91fd-cd5b06c93787"
      },
      "outputs": [
        {
          "output_type": "stream",
          "name": "stdout",
          "text": [
            "<class 'pandas.core.frame.DataFrame'>\n",
            "RangeIndex: 5166 entries, 0 to 5165\n",
            "Data columns (total 10 columns):\n",
            " #   Column     Non-Null Count  Dtype  \n",
            "---  ------     --------------  -----  \n",
            " 0   Age        5166 non-null   int64  \n",
            " 1   Gender     5166 non-null   int64  \n",
            " 2   BMI        5166 non-null   float64\n",
            " 3   Chol       5166 non-null   float64\n",
            " 4   TG         5166 non-null   float64\n",
            " 5   HDL        5166 non-null   float64\n",
            " 6   LDL        5166 non-null   float64\n",
            " 7   Cr         5166 non-null   float64\n",
            " 8   BUN        5166 non-null   float64\n",
            " 9   Diagnosis  5166 non-null   float64\n",
            "dtypes: float64(8), int64(2)\n",
            "memory usage: 403.7 KB\n"
          ]
        }
      ],
      "source": [
        "df_train.info()"
      ]
    },
    {
      "cell_type": "code",
      "execution_count": 48,
      "metadata": {
        "colab": {
          "base_uri": "https://localhost:8080/"
        },
        "id": "CizYPoKrsv1H",
        "outputId": "b3714a80-b195-4878-f937-36133d6643cf"
      },
      "outputs": [
        {
          "output_type": "execute_result",
          "data": {
            "text/plain": [
              "Diagnosis\n",
              "0.0          2583\n",
              "1.0          2583\n",
              "Name: count, dtype: int64"
            ]
          },
          "metadata": {},
          "execution_count": 48
        }
      ],
      "source": [
        "label_train.value_counts()"
      ]
    },
    {
      "cell_type": "code",
      "execution_count": 49,
      "metadata": {
        "colab": {
          "base_uri": "https://localhost:8080/",
          "height": 0
        },
        "id": "sQrwRi9TqMeG",
        "outputId": "7af6107d-fbfe-4033-b379-22f53f81d659"
      },
      "outputs": [
        {
          "output_type": "display_data",
          "data": {
            "text/plain": [
              "<Figure size 640x480 with 1 Axes>"
            ],
            "image/png": "[encoded data removed]"
          },
          "metadata": {}
        }
      ],
      "source": [
        "plt.pie(label_train.value_counts())\n",
        "plt.show()"
      ]
    },
    {
      "cell_type": "code",
      "execution_count": 50,
      "metadata": {
        "colab": {
          "base_uri": "https://localhost:8080/"
        },
        "id": "Ue18qi4hfe2v",
        "outputId": "b8657993-e1ec-46e2-b825-43dbd792598f"
      },
      "outputs": [
        {
          "output_type": "stream",
          "name": "stdout",
          "text": [
            "0\n"
          ]
        }
      ],
      "source": [
        "duplicated_rows = df_train[df_train.duplicated()]\n",
        "print(len(duplicated_rows))"
      ]
    },
    {
      "cell_type": "markdown",
      "metadata": {
        "id": "XMKgWA-u3Hbx"
      },
      "source": [
        "# The dataset after pre-processing"
      ]
    },
    {
      "cell_type": "code",
      "execution_count": 51,
      "metadata": {
        "colab": {
          "base_uri": "https://localhost:8080/",
          "height": 0
        },
        "id": "oDsZD1MYqIHm",
        "outputId": "4a1a1806-a658-4f20-bdf5-256da63d09ae"
      },
      "outputs": [
        {
          "output_type": "execute_result",
          "data": {
            "text/plain": [
              "      Age  Gender        BMI      Chol        TG       HDL       LDL  \\\n",
              "0      35       1  24.000000  5.070000  3.110000  1.030000  3.180000   \n",
              "1      30       1  23.000000  4.820000  1.180000  1.450000  2.810000   \n",
              "2      40       0  20.000000  4.600000  0.500000  1.250000  2.620000   \n",
              "3      35       1  26.000000  4.900000  2.530000  1.390000  2.080000   \n",
              "4      50       1  21.000000  4.410000  0.870000  1.100000  2.650000   \n",
              "...   ...     ...        ...       ...       ...       ...       ...   \n",
              "5161   73       1  24.372123  5.310000  0.850230  1.492788  3.113248   \n",
              "5162   56       1  24.000000  4.864041  2.544863  1.279429  2.478493   \n",
              "5163   62       1  26.367078  4.172526  1.289102  1.126840  2.421259   \n",
              "5164   59       0  24.000000  5.311134  1.242901  4.765272  4.858932   \n",
              "5165   74       0  19.000000  6.024264  1.366722  4.860753  4.860753   \n",
              "\n",
              "              Cr       BUN  Diagnosis  \n",
              "0      81.200000  3.380000        0.0  \n",
              "1      97.100000  4.800000        0.0  \n",
              "2      79.000000  3.790000        0.0  \n",
              "3      86.000000  6.100000        0.0  \n",
              "4      81.300000  6.420000        0.0  \n",
              "...          ...       ...        ...  \n",
              "5161   77.460486  4.640026        1.0  \n",
              "5162   70.818493  3.281849        1.0  \n",
              "5163  102.531690  5.716972        1.0  \n",
              "5164   42.494854  4.461392        1.0  \n",
              "5165    4.860753  4.060160        1.0  \n",
              "\n",
              "[5166 rows x 10 columns]"
            ],
            "text/html": [
              "\n",
              "  <div id=\"df-2b425dff-4239-4048-b19e-5456bc60e37e\" class=\"colab-df-container\">\n",
              "    <div>\n",
              "<style scoped>\n",
              "    .dataframe tbody tr th:only-of-type {\n",
              "        vertical-align: middle;\n",
              "    }\n",
              "\n",
              "    .dataframe tbody tr th {\n",
              "        vertical-align: top;\n",
              "    }\n",
              "\n",
              "    .dataframe thead th {\n",
              "        text-align: right;\n",
              "    }\n",
              "</style>\n",
              "<table border=\"1\" class=\"dataframe\">\n",
              "  <thead>\n",
              "    <tr style=\"text-align: right;\">\n",
              "      <th></th>\n",
              "      <th>Age</th>\n",
              "      <th>Gender</th>\n",
              "      <th>BMI</th>\n",
              "      <th>Chol</th>\n",
              "      <th>TG</th>\n",
              "      <th>HDL</th>\n",
              "      <th>LDL</th>\n",
              "      <th>Cr</th>\n",
              "      <th>BUN</th>\n",
              "      <th>Diagnosis</th>\n",
              "    </tr>\n",
              "  </thead>\n",
              "  <tbody>\n",
              "    <tr>\n",
              "      <th>0</th>\n",
              "      <td>35</td>\n",
              "      <td>1</td>\n",
              "      <td>24.000000</td>\n",
              "      <td>5.070000</td>\n",
              "      <td>3.110000</td>\n",
              "      <td>1.030000</td>\n",
              "      <td>3.180000</td>\n",
              "      <td>81.200000</td>\n",
              "      <td>3.380000</td>\n",
              "      <td>0.0</td>\n",
              "    </tr>\n",
              "    <tr>\n",
              "      <th>1</th>\n",
              "      <td>30</td>\n",
              "      <td>1</td>\n",
              "      <td>23.000000</td>\n",
              "      <td>4.820000</td>\n",
              "      <td>1.180000</td>\n",
              "      <td>1.450000</td>\n",
              "      <td>2.810000</td>\n",
              "      <td>97.100000</td>\n",
              "      <td>4.800000</td>\n",
              "      <td>0.0</td>\n",
              "    </tr>\n",
              "    <tr>\n",
              "      <th>2</th>\n",
              "      <td>40</td>\n",
              "      <td>0</td>\n",
              "      <td>20.000000</td>\n",
              "      <td>4.600000</td>\n",
              "      <td>0.500000</td>\n",
              "      <td>1.250000</td>\n",
              "      <td>2.620000</td>\n",
              "      <td>79.000000</td>\n",
              "      <td>3.790000</td>\n",
              "      <td>0.0</td>\n",
              "    </tr>\n",
              "    <tr>\n",
              "      <th>3</th>\n",
              "      <td>35</td>\n",
              "      <td>1</td>\n",
              "      <td>26.000000</td>\n",
              "      <td>4.900000</td>\n",
              "      <td>2.530000</td>\n",
              "      <td>1.390000</td>\n",
              "      <td>2.080000</td>\n",
              "      <td>86.000000</td>\n",
              "      <td>6.100000</td>\n",
              "      <td>0.0</td>\n",
              "    </tr>\n",
              "    <tr>\n",
              "      <th>4</th>\n",
              "      <td>50</td>\n",
              "      <td>1</td>\n",
              "      <td>21.000000</td>\n",
              "      <td>4.410000</td>\n",
              "      <td>0.870000</td>\n",
              "      <td>1.100000</td>\n",
              "      <td>2.650000</td>\n",
              "      <td>81.300000</td>\n",
              "      <td>6.420000</td>\n",
              "      <td>0.0</td>\n",
              "    </tr>\n",
              "    <tr>\n",
              "      <th>...</th>\n",
              "      <td>...</td>\n",
              "      <td>...</td>\n",
              "      <td>...</td>\n",
              "      <td>...</td>\n",
              "      <td>...</td>\n",
              "      <td>...</td>\n",
              "      <td>...</td>\n",
              "      <td>...</td>\n",
              "      <td>...</td>\n",
              "      <td>...</td>\n",
              "    </tr>\n",
              "    <tr>\n",
              "      <th>5161</th>\n",
              "      <td>73</td>\n",
              "      <td>1</td>\n",
              "      <td>24.372123</td>\n",
              "      <td>5.310000</td>\n",
              "      <td>0.850230</td>\n",
              "      <td>1.492788</td>\n",
              "      <td>3.113248</td>\n",
              "      <td>77.460486</td>\n",
              "      <td>4.640026</td>\n",
              "      <td>1.0</td>\n",
              "    </tr>\n",
              "    <tr>\n",
              "      <th>5162</th>\n",
              "      <td>56</td>\n",
              "      <td>1</td>\n",
              "      <td>24.000000</td>\n",
              "      <td>4.864041</td>\n",
              "      <td>2.544863</td>\n",
              "      <td>1.279429</td>\n",
              "      <td>2.478493</td>\n",
              "      <td>70.818493</td>\n",
              "      <td>3.281849</td>\n",
              "      <td>1.0</td>\n",
              "    </tr>\n",
              "    <tr>\n",
              "      <th>5163</th>\n",
              "      <td>62</td>\n",
              "      <td>1</td>\n",
              "      <td>26.367078</td>\n",
              "      <td>4.172526</td>\n",
              "      <td>1.289102</td>\n",
              "      <td>1.126840</td>\n",
              "      <td>2.421259</td>\n",
              "      <td>102.531690</td>\n",
              "      <td>5.716972</td>\n",
              "      <td>1.0</td>\n",
              "    </tr>\n",
              "    <tr>\n",
              "      <th>5164</th>\n",
              "      <td>59</td>\n",
              "      <td>0</td>\n",
              "      <td>24.000000</td>\n",
              "      <td>5.311134</td>\n",
              "      <td>1.242901</td>\n",
              "      <td>4.765272</td>\n",
              "      <td>4.858932</td>\n",
              "      <td>42.494854</td>\n",
              "      <td>4.461392</td>\n",
              "      <td>1.0</td>\n",
              "    </tr>\n",
              "    <tr>\n",
              "      <th>5165</th>\n",
              "      <td>74</td>\n",
              "      <td>0</td>\n",
              "      <td>19.000000</td>\n",
              "      <td>6.024264</td>\n",
              "      <td>1.366722</td>\n",
              "      <td>4.860753</td>\n",
              "      <td>4.860753</td>\n",
              "      <td>4.860753</td>\n",
              "      <td>4.060160</td>\n",
              "      <td>1.0</td>\n",
              "    </tr>\n",
              "  </tbody>\n",
              "</table>\n",
              "<p>5166 rows × 10 columns</p>\n",
              "</div>\n",
              "    <div class=\"colab-df-buttons\">\n",
              "\n",
              "  <div class=\"colab-df-container\">\n",
              "    <button class=\"colab-df-convert\" onclick=\"convertToInteractive('df-2b425dff-4239-4048-b19e-5456bc60e37e')\"\n",
              "            title=\"Convert this dataframe to an interactive table.\"\n",
              "            style=\"display:none;\">\n",
              "\n",
              "  <svg xmlns=\"http://www.w3.org/2000/svg\" height=\"24px\" viewBox=\"0 -960 960 960\">\n",
              "    <path d=\"M120-120v-720h720v720H120Zm60-500h600v-160H180v160Zm220 220h160v-160H400v160Zm0 220h160v-160H400v160ZM180-400h160v-160H180v160Zm440 0h160v-160H620v160ZM180-180h160v-160H180v160Zm440 0h160v-160H620v160Z\"/>\n",
              "  </svg>\n",
              "    </button>\n",
              "\n",
              "  <style>\n",
              "    .colab-df-container {\n",
              "      display:flex;\n",
              "      gap: 12px;\n",
              "    }\n",
              "\n",
              "    .colab-df-convert {\n",
              "      background-color: #E8F0FE;\n",
              "      border: none;\n",
              "      border-radius: 50%;\n",
              "      cursor: pointer;\n",
              "      display: none;\n",
              "      fill: #1967D2;\n",
              "      height: 32px;\n",
              "      padding: 0 0 0 0;\n",
              "      width: 32px;\n",
              "    }\n",
              "\n",
              "    .colab-df-convert:hover {\n",
              "      background-color: #E2EBFA;\n",
              "      box-shadow: 0px 1px 2px rgba(60, 64, 67, 0.3), 0px 1px 3px 1px rgba(60, 64, 67, 0.15);\n",
              "      fill: #174EA6;\n",
              "    }\n",
              "\n",
              "    .colab-df-buttons div {\n",
              "      margin-bottom: 4px;\n",
              "    }\n",
              "\n",
              "    [theme=dark] .colab-df-convert {\n",
              "      background-color: #3B4455;\n",
              "      fill: #D2E3FC;\n",
              "    }\n",
              "\n",
              "    [theme=dark] .colab-df-convert:hover {\n",
              "      background-color: #434B5C;\n",
              "      box-shadow: 0px 1px 3px 1px rgba(0, 0, 0, 0.15);\n",
              "      filter: drop-shadow(0px 1px 2px rgba(0, 0, 0, 0.3));\n",
              "      fill: #FFFFFF;\n",
              "    }\n",
              "  </style>\n",
              "\n",
              "    <script>\n",
              "      const buttonEl =\n",
              "        document.querySelector('#df-2b425dff-4239-4048-b19e-5456bc60e37e button.colab-df-convert');\n",
              "      buttonEl.style.display =\n",
              "        google.colab.kernel.accessAllowed ? 'block' : 'none';\n",
              "\n",
              "      async function convertToInteractive(key) {\n",
              "        const element = document.querySelector('#df-2b425dff-4239-4048-b19e-5456bc60e37e');\n",
              "        const dataTable =\n",
              "          await google.colab.kernel.invokeFunction('convertToInteractive',\n",
              "                                                    [key], {});\n",
              "        if (!dataTable) return;\n",
              "\n",
              "        const docLinkHtml = 'Like what you see? Visit the ' +\n",
              "          '<a target=\"_blank\" href=https://colab.research.google.com/notebooks/data_table.ipynb>data table notebook</a>'\n",
              "          + ' to learn more about interactive tables.';\n",
              "        element.innerHTML = '';\n",
              "        dataTable['output_type'] = 'display_data';\n",
              "        await google.colab.output.renderOutput(dataTable, element);\n",
              "        const docLink = document.createElement('div');\n",
              "        docLink.innerHTML = docLinkHtml;\n",
              "        element.appendChild(docLink);\n",
              "      }\n",
              "    </script>\n",
              "  </div>\n",
              "\n",
              "\n",
              "<div id=\"df-d063531c-e811-4737-8cc4-b16a38ec7600\">\n",
              "  <button class=\"colab-df-quickchart\" onclick=\"quickchart('df-d063531c-e811-4737-8cc4-b16a38ec7600')\"\n",
              "            title=\"Suggest charts\"\n",
              "            style=\"display:none;\">\n",
              "\n",
              "<svg xmlns=\"http://www.w3.org/2000/svg\" height=\"24px\"viewBox=\"0 0 24 24\"\n",
              "     width=\"24px\">\n",
              "    <g>\n",
              "        <path d=\"M19 3H5c-1.1 0-2 .9-2 2v14c0 1.1.9 2 2 2h14c1.1 0 2-.9 2-2V5c0-1.1-.9-2-2-2zM9 17H7v-7h2v7zm4 0h-2V7h2v10zm4 0h-2v-4h2v4z\"/>\n",
              "    </g>\n",
              "</svg>\n",
              "  </button>\n",
              "\n",
              "<style>\n",
              "  .colab-df-quickchart {\n",
              "      --bg-color: #E8F0FE;\n",
              "      --fill-color: #1967D2;\n",
              "      --hover-bg-color: #E2EBFA;\n",
              "      --hover-fill-color: #174EA6;\n",
              "      --disabled-fill-color: #AAA;\n",
              "      --disabled-bg-color: #DDD;\n",
              "  }\n",
              "\n",
              "  [theme=dark] .colab-df-quickchart {\n",
              "      --bg-color: #3B4455;\n",
              "      --fill-color: #D2E3FC;\n",
              "      --hover-bg-color: #434B5C;\n",
              "      --hover-fill-color: #FFFFFF;\n",
              "      --disabled-bg-color: #3B4455;\n",
              "      --disabled-fill-color: #666;\n",
              "  }\n",
              "\n",
              "  .colab-df-quickchart {\n",
              "    background-color: var(--bg-color);\n",
              "    border: none;\n",
              "    border-radius: 50%;\n",
              "    cursor: pointer;\n",
              "    display: none;\n",
              "    fill: var(--fill-color);\n",
              "    height: 32px;\n",
              "    padding: 0;\n",
              "    width: 32px;\n",
              "  }\n",
              "\n",
              "  .colab-df-quickchart:hover {\n",
              "    background-color: var(--hover-bg-color);\n",
              "    box-shadow: 0 1px 2px rgba(60, 64, 67, 0.3), 0 1px 3px 1px rgba(60, 64, 67, 0.15);\n",
              "    fill: var(--button-hover-fill-color);\n",
              "  }\n",
              "\n",
              "  .colab-df-quickchart-complete:disabled,\n",
              "  .colab-df-quickchart-complete:disabled:hover {\n",
              "    background-color: var(--disabled-bg-color);\n",
              "    fill: var(--disabled-fill-color);\n",
              "    box-shadow: none;\n",
              "  }\n",
              "\n",
              "  .colab-df-spinner {\n",
              "    border: 2px solid var(--fill-color);\n",
              "    border-color: transparent;\n",
              "    border-bottom-color: var(--fill-color);\n",
              "    animation:\n",
              "      spin 1s steps(1) infinite;\n",
              "  }\n",
              "\n",
              "  @keyframes spin {\n",
              "    0% {\n",
              "      border-color: transparent;\n",
              "      border-bottom-color: var(--fill-color);\n",
              "      border-left-color: var(--fill-color);\n",
              "    }\n",
              "    20% {\n",
              "      border-color: transparent;\n",
              "      border-left-color: var(--fill-color);\n",
              "      border-top-color: var(--fill-color);\n",
              "    }\n",
              "    30% {\n",
              "      border-color: transparent;\n",
              "      border-left-color: var(--fill-color);\n",
              "      border-top-color: var(--fill-color);\n",
              "      border-right-color: var(--fill-color);\n",
              "    }\n",
              "    40% {\n",
              "      border-color: transparent;\n",
              "      border-right-color: var(--fill-color);\n",
              "      border-top-color: var(--fill-color);\n",
              "    }\n",
              "    60% {\n",
              "      border-color: transparent;\n",
              "      border-right-color: var(--fill-color);\n",
              "    }\n",
              "    80% {\n",
              "      border-color: transparent;\n",
              "      border-right-color: var(--fill-color);\n",
              "      border-bottom-color: var(--fill-color);\n",
              "    }\n",
              "    90% {\n",
              "      border-color: transparent;\n",
              "      border-bottom-color: var(--fill-color);\n",
              "    }\n",
              "  }\n",
              "</style>\n",
              "\n",
              "  <script>\n",
              "    async function quickchart(key) {\n",
              "      const quickchartButtonEl =\n",
              "        document.querySelector('#' + key + ' button');\n",
              "      quickchartButtonEl.disabled = true;  // To prevent multiple clicks.\n",
              "      quickchartButtonEl.classList.add('colab-df-spinner');\n",
              "      try {\n",
              "        const charts = await google.colab.kernel.invokeFunction(\n",
              "            'suggestCharts', [key], {});\n",
              "      } catch (error) {\n",
              "        console.error('Error during call to suggestCharts:', error);\n",
              "      }\n",
              "      quickchartButtonEl.classList.remove('colab-df-spinner');\n",
              "      quickchartButtonEl.classList.add('colab-df-quickchart-complete');\n",
              "    }\n",
              "    (() => {\n",
              "      let quickchartButtonEl =\n",
              "        document.querySelector('#df-d063531c-e811-4737-8cc4-b16a38ec7600 button');\n",
              "      quickchartButtonEl.style.display =\n",
              "        google.colab.kernel.accessAllowed ? 'block' : 'none';\n",
              "    })();\n",
              "  </script>\n",
              "</div>\n",
              "    </div>\n",
              "  </div>\n"
            ],
            "application/vnd.google.colaboratory.intrinsic+json": {
              "type": "dataframe",
              "variable_name": "df_train",
              "summary": "{\n  \"name\": \"df_train\",\n  \"rows\": 5166,\n  \"fields\": [\n    {\n      \"column\": \"Age\",\n      \"properties\": {\n        \"dtype\": \"number\",\n        \"std\": 14,\n        \"min\": 22,\n        \"max\": 93,\n        \"num_unique_values\": 71,\n        \"samples\": [\n          45,\n          35,\n          74\n        ],\n        \"semantic_type\": \"\",\n        \"description\": \"\"\n      }\n    },\n    {\n      \"column\": \"Gender\",\n      \"properties\": {\n        \"dtype\": \"number\",\n        \"std\": 0,\n        \"min\": 0,\n        \"max\": 1,\n        \"num_unique_values\": 2,\n        \"samples\": [\n          0,\n          1\n        ],\n        \"semantic_type\": \"\",\n        \"description\": \"\"\n      }\n    },\n    {\n      \"column\": \"BMI\",\n      \"properties\": {\n        \"dtype\": \"number\",\n        \"std\": 3.3808743598248823,\n        \"min\": 15.0,\n        \"max\": 45.0,\n        \"num_unique_values\": 1104,\n        \"samples\": [\n          27.596769656140694,\n          25.899253638337655\n        ],\n        \"semantic_type\": \"\",\n        \"description\": \"\"\n      }\n    },\n    {\n      \"column\": \"Chol\",\n      \"properties\": {\n        \"dtype\": \"number\",\n        \"std\": 0.8946175250329,\n        \"min\": 1.65,\n        \"max\": 11.65,\n        \"num_unique_values\": 1836,\n        \"samples\": [\n          5.438926721584337,\n          5.394598517831605\n        ],\n        \"semantic_type\": \"\",\n        \"description\": \"\"\n      }\n    },\n    {\n      \"column\": \"TG\",\n      \"properties\": {\n        \"dtype\": \"number\",\n        \"std\": 1.221865016115831,\n        \"min\": 0.0,\n        \"max\": 32.64,\n        \"num_unique_values\": 1823,\n        \"samples\": [\n          0.7312458570198994,\n          2.7895137020576937\n        ],\n        \"semantic_type\": \"\",\n        \"description\": \"\"\n      }\n    },\n    {\n      \"column\": \"HDL\",\n      \"properties\": {\n        \"dtype\": \"number\",\n        \"std\": 1.2761568202894018,\n        \"min\": 0.0,\n        \"max\": 4.860753,\n        \"num_unique_values\": 1235,\n        \"samples\": [\n          1.6524643504561831,\n          1.2616319024779072\n        ],\n        \"semantic_type\": \"\",\n        \"description\": \"\"\n      }\n    },\n    {\n      \"column\": \"LDL\",\n      \"properties\": {\n        \"dtype\": \"number\",\n        \"std\": 0.9434584219522547,\n        \"min\": 0.54,\n        \"max\": 6.27,\n        \"num_unique_values\": 1449,\n        \"samples\": [\n          2.3007022108491366,\n          3.2767291936762195\n        ],\n        \"semantic_type\": \"\",\n        \"description\": \"\"\n      }\n    },\n    {\n      \"column\": \"Cr\",\n      \"properties\": {\n        \"dtype\": \"number\",\n        \"std\": 18.276203381666605,\n        \"min\": 4.860753,\n        \"max\": 307.0,\n        \"num_unique_values\": 1967,\n        \"samples\": [\n          61.9597856722788,\n          59.05925487058077\n        ],\n        \"semantic_type\": \"\",\n        \"description\": \"\"\n      }\n    },\n    {\n      \"column\": \"BUN\",\n      \"properties\": {\n        \"dtype\": \"number\",\n        \"std\": 1.225936666635918,\n        \"min\": 1.38,\n        \"max\": 17.73,\n        \"num_unique_values\": 1893,\n        \"samples\": [\n          4.455002071254837,\n          5.488160258839214\n        ],\n        \"semantic_type\": \"\",\n        \"description\": \"\"\n      }\n    },\n    {\n      \"column\": \"Diagnosis\",\n      \"properties\": {\n        \"dtype\": \"number\",\n        \"std\": 0.5000484003679562,\n        \"min\": 0.0,\n        \"max\": 1.0,\n        \"num_unique_values\": 2,\n        \"samples\": [\n          1.0,\n          0.0\n        ],\n        \"semantic_type\": \"\",\n        \"description\": \"\"\n      }\n    }\n  ]\n}"
            }
          },
          "metadata": {},
          "execution_count": 51
        }
      ],
      "source": [
        "df_train"
      ]
    },
    {
      "cell_type": "code",
      "execution_count": 52,
      "metadata": {
        "colab": {
          "base_uri": "https://localhost:8080/",
          "height": 0
        },
        "id": "u3jH_biaF_4x",
        "outputId": "1b406b4d-45f1-489f-a534-82d17e8f7331"
      },
      "outputs": [
        {
          "output_type": "execute_result",
          "data": {
            "text/plain": [
              "            Age    Gender       BMI      Chol        TG       HDL       LDL  \\\n",
              "count  5166.000  5166.000  5166.000  5166.000  5166.000  5166.000  5166.000   \n",
              "mean     51.292     0.624    24.050     4.917     1.667     1.856     3.122   \n",
              "std      14.750     0.485     3.381     0.895     1.222     1.276     0.943   \n",
              "min      22.000     0.000    15.000     1.650     0.000     0.000     0.540   \n",
              "25%      38.000     0.000    22.000     4.296     0.940     1.150     2.437   \n",
              "50%      52.000     1.000    24.000     4.866     1.380     1.360     2.934   \n",
              "75%      62.000     1.000    26.000     5.470     2.054     1.690     3.610   \n",
              "max      93.000     1.000    45.000    11.650    32.640     4.861     6.270   \n",
              "\n",
              "             Cr       BUN  Diagnosis  \n",
              "count  5166.000  5166.000     5166.0  \n",
              "mean     71.178     4.916        0.5  \n",
              "std      18.276     1.226        0.5  \n",
              "min       4.861     1.380        0.0  \n",
              "25%      59.708     4.076        0.0  \n",
              "50%      71.434     4.830        0.5  \n",
              "75%      82.191     5.600        1.0  \n",
              "max     307.000    17.730        1.0  "
            ],
            "text/html": [
              "\n",
              "  <div id=\"df-cb523e32-c5e0-420f-819b-27fd984dae1d\" class=\"colab-df-container\">\n",
              "    <div>\n",
              "<style scoped>\n",
              "    .dataframe tbody tr th:only-of-type {\n",
              "        vertical-align: middle;\n",
              "    }\n",
              "\n",
              "    .dataframe tbody tr th {\n",
              "        vertical-align: top;\n",
              "    }\n",
              "\n",
              "    .dataframe thead th {\n",
              "        text-align: right;\n",
              "    }\n",
              "</style>\n",
              "<table border=\"1\" class=\"dataframe\">\n",
              "  <thead>\n",
              "    <tr style=\"text-align: right;\">\n",
              "      <th></th>\n",
              "      <th>Age</th>\n",
              "      <th>Gender</th>\n",
              "      <th>BMI</th>\n",
              "      <th>Chol</th>\n",
              "      <th>TG</th>\n",
              "      <th>HDL</th>\n",
              "      <th>LDL</th>\n",
              "      <th>Cr</th>\n",
              "      <th>BUN</th>\n",
              "      <th>Diagnosis</th>\n",
              "    </tr>\n",
              "  </thead>\n",
              "  <tbody>\n",
              "    <tr>\n",
              "      <th>count</th>\n",
              "      <td>5166.000</td>\n",
              "      <td>5166.000</td>\n",
              "      <td>5166.000</td>\n",
              "      <td>5166.000</td>\n",
              "      <td>5166.000</td>\n",
              "      <td>5166.000</td>\n",
              "      <td>5166.000</td>\n",
              "      <td>5166.000</td>\n",
              "      <td>5166.000</td>\n",
              "      <td>5166.0</td>\n",
              "    </tr>\n",
              "    <tr>\n",
              "      <th>mean</th>\n",
              "      <td>51.292</td>\n",
              "      <td>0.624</td>\n",
              "      <td>24.050</td>\n",
              "      <td>4.917</td>\n",
              "      <td>1.667</td>\n",
              "      <td>1.856</td>\n",
              "      <td>3.122</td>\n",
              "      <td>71.178</td>\n",
              "      <td>4.916</td>\n",
              "      <td>0.5</td>\n",
              "    </tr>\n",
              "    <tr>\n",
              "      <th>std</th>\n",
              "      <td>14.750</td>\n",
              "      <td>0.485</td>\n",
              "      <td>3.381</td>\n",
              "      <td>0.895</td>\n",
              "      <td>1.222</td>\n",
              "      <td>1.276</td>\n",
              "      <td>0.943</td>\n",
              "      <td>18.276</td>\n",
              "      <td>1.226</td>\n",
              "      <td>0.5</td>\n",
              "    </tr>\n",
              "    <tr>\n",
              "      <th>min</th>\n",
              "      <td>22.000</td>\n",
              "      <td>0.000</td>\n",
              "      <td>15.000</td>\n",
              "      <td>1.650</td>\n",
              "      <td>0.000</td>\n",
              "      <td>0.000</td>\n",
              "      <td>0.540</td>\n",
              "      <td>4.861</td>\n",
              "      <td>1.380</td>\n",
              "      <td>0.0</td>\n",
              "    </tr>\n",
              "    <tr>\n",
              "      <th>25%</th>\n",
              "      <td>38.000</td>\n",
              "      <td>0.000</td>\n",
              "      <td>22.000</td>\n",
              "      <td>4.296</td>\n",
              "      <td>0.940</td>\n",
              "      <td>1.150</td>\n",
              "      <td>2.437</td>\n",
              "      <td>59.708</td>\n",
              "      <td>4.076</td>\n",
              "      <td>0.0</td>\n",
              "    </tr>\n",
              "    <tr>\n",
              "      <th>50%</th>\n",
              "      <td>52.000</td>\n",
              "      <td>1.000</td>\n",
              "      <td>24.000</td>\n",
              "      <td>4.866</td>\n",
              "      <td>1.380</td>\n",
              "      <td>1.360</td>\n",
              "      <td>2.934</td>\n",
              "      <td>71.434</td>\n",
              "      <td>4.830</td>\n",
              "      <td>0.5</td>\n",
              "    </tr>\n",
              "    <tr>\n",
              "      <th>75%</th>\n",
              "      <td>62.000</td>\n",
              "      <td>1.000</td>\n",
              "      <td>26.000</td>\n",
              "      <td>5.470</td>\n",
              "      <td>2.054</td>\n",
              "      <td>1.690</td>\n",
              "      <td>3.610</td>\n",
              "      <td>82.191</td>\n",
              "      <td>5.600</td>\n",
              "      <td>1.0</td>\n",
              "    </tr>\n",
              "    <tr>\n",
              "      <th>max</th>\n",
              "      <td>93.000</td>\n",
              "      <td>1.000</td>\n",
              "      <td>45.000</td>\n",
              "      <td>11.650</td>\n",
              "      <td>32.640</td>\n",
              "      <td>4.861</td>\n",
              "      <td>6.270</td>\n",
              "      <td>307.000</td>\n",
              "      <td>17.730</td>\n",
              "      <td>1.0</td>\n",
              "    </tr>\n",
              "  </tbody>\n",
              "</table>\n",
              "</div>\n",
              "    <div class=\"colab-df-buttons\">\n",
              "\n",
              "  <div class=\"colab-df-container\">\n",
              "    <button class=\"colab-df-convert\" onclick=\"convertToInteractive('df-cb523e32-c5e0-420f-819b-27fd984dae1d')\"\n",
              "            title=\"Convert this dataframe to an interactive table.\"\n",
              "            style=\"display:none;\">\n",
              "\n",
              "  <svg xmlns=\"http://www.w3.org/2000/svg\" height=\"24px\" viewBox=\"0 -960 960 960\">\n",
              "    <path d=\"M120-120v-720h720v720H120Zm60-500h600v-160H180v160Zm220 220h160v-160H400v160Zm0 220h160v-160H400v160ZM180-400h160v-160H180v160Zm440 0h160v-160H620v160ZM180-180h160v-160H180v160Zm440 0h160v-160H620v160Z\"/>\n",
              "  </svg>\n",
              "    </button>\n",
              "\n",
              "  <style>\n",
              "    .colab-df-container {\n",
              "      display:flex;\n",
              "      gap: 12px;\n",
              "    }\n",
              "\n",
              "    .colab-df-convert {\n",
              "      background-color: #E8F0FE;\n",
              "      border: none;\n",
              "      border-radius: 50%;\n",
              "      cursor: pointer;\n",
              "      display: none;\n",
              "      fill: #1967D2;\n",
              "      height: 32px;\n",
              "      padding: 0 0 0 0;\n",
              "      width: 32px;\n",
              "    }\n",
              "\n",
              "    .colab-df-convert:hover {\n",
              "      background-color: #E2EBFA;\n",
              "      box-shadow: 0px 1px 2px rgba(60, 64, 67, 0.3), 0px 1px 3px 1px rgba(60, 64, 67, 0.15);\n",
              "      fill: #174EA6;\n",
              "    }\n",
              "\n",
              "    .colab-df-buttons div {\n",
              "      margin-bottom: 4px;\n",
              "    }\n",
              "\n",
              "    [theme=dark] .colab-df-convert {\n",
              "      background-color: #3B4455;\n",
              "      fill: #D2E3FC;\n",
              "    }\n",
              "\n",
              "    [theme=dark] .colab-df-convert:hover {\n",
              "      background-color: #434B5C;\n",
              "      box-shadow: 0px 1px 3px 1px rgba(0, 0, 0, 0.15);\n",
              "      filter: drop-shadow(0px 1px 2px rgba(0, 0, 0, 0.3));\n",
              "      fill: #FFFFFF;\n",
              "    }\n",
              "  </style>\n",
              "\n",
              "    <script>\n",
              "      const buttonEl =\n",
              "        document.querySelector('#df-cb523e32-c5e0-420f-819b-27fd984dae1d button.colab-df-convert');\n",
              "      buttonEl.style.display =\n",
              "        google.colab.kernel.accessAllowed ? 'block' : 'none';\n",
              "\n",
              "      async function convertToInteractive(key) {\n",
              "        const element = document.querySelector('#df-cb523e32-c5e0-420f-819b-27fd984dae1d');\n",
              "        const dataTable =\n",
              "          await google.colab.kernel.invokeFunction('convertToInteractive',\n",
              "                                                    [key], {});\n",
              "        if (!dataTable) return;\n",
              "\n",
              "        const docLinkHtml = 'Like what you see? Visit the ' +\n",
              "          '<a target=\"_blank\" href=https://colab.research.google.com/notebooks/data_table.ipynb>data table notebook</a>'\n",
              "          + ' to learn more about interactive tables.';\n",
              "        element.innerHTML = '';\n",
              "        dataTable['output_type'] = 'display_data';\n",
              "        await google.colab.output.renderOutput(dataTable, element);\n",
              "        const docLink = document.createElement('div');\n",
              "        docLink.innerHTML = docLinkHtml;\n",
              "        element.appendChild(docLink);\n",
              "      }\n",
              "    </script>\n",
              "  </div>\n",
              "\n",
              "\n",
              "<div id=\"df-5d1f98ff-0477-4e95-9af8-f0072fa7aae1\">\n",
              "  <button class=\"colab-df-quickchart\" onclick=\"quickchart('df-5d1f98ff-0477-4e95-9af8-f0072fa7aae1')\"\n",
              "            title=\"Suggest charts\"\n",
              "            style=\"display:none;\">\n",
              "\n",
              "<svg xmlns=\"http://www.w3.org/2000/svg\" height=\"24px\"viewBox=\"0 0 24 24\"\n",
              "     width=\"24px\">\n",
              "    <g>\n",
              "        <path d=\"M19 3H5c-1.1 0-2 .9-2 2v14c0 1.1.9 2 2 2h14c1.1 0 2-.9 2-2V5c0-1.1-.9-2-2-2zM9 17H7v-7h2v7zm4 0h-2V7h2v10zm4 0h-2v-4h2v4z\"/>\n",
              "    </g>\n",
              "</svg>\n",
              "  </button>\n",
              "\n",
              "<style>\n",
              "  .colab-df-quickchart {\n",
              "      --bg-color: #E8F0FE;\n",
              "      --fill-color: #1967D2;\n",
              "      --hover-bg-color: #E2EBFA;\n",
              "      --hover-fill-color: #174EA6;\n",
              "      --disabled-fill-color: #AAA;\n",
              "      --disabled-bg-color: #DDD;\n",
              "  }\n",
              "\n",
              "  [theme=dark] .colab-df-quickchart {\n",
              "      --bg-color: #3B4455;\n",
              "      --fill-color: #D2E3FC;\n",
              "      --hover-bg-color: #434B5C;\n",
              "      --hover-fill-color: #FFFFFF;\n",
              "      --disabled-bg-color: #3B4455;\n",
              "      --disabled-fill-color: #666;\n",
              "  }\n",
              "\n",
              "  .colab-df-quickchart {\n",
              "    background-color: var(--bg-color);\n",
              "    border: none;\n",
              "    border-radius: 50%;\n",
              "    cursor: pointer;\n",
              "    display: none;\n",
              "    fill: var(--fill-color);\n",
              "    height: 32px;\n",
              "    padding: 0;\n",
              "    width: 32px;\n",
              "  }\n",
              "\n",
              "  .colab-df-quickchart:hover {\n",
              "    background-color: var(--hover-bg-color);\n",
              "    box-shadow: 0 1px 2px rgba(60, 64, 67, 0.3), 0 1px 3px 1px rgba(60, 64, 67, 0.15);\n",
              "    fill: var(--button-hover-fill-color);\n",
              "  }\n",
              "\n",
              "  .colab-df-quickchart-complete:disabled,\n",
              "  .colab-df-quickchart-complete:disabled:hover {\n",
              "    background-color: var(--disabled-bg-color);\n",
              "    fill: var(--disabled-fill-color);\n",
              "    box-shadow: none;\n",
              "  }\n",
              "\n",
              "  .colab-df-spinner {\n",
              "    border: 2px solid var(--fill-color);\n",
              "    border-color: transparent;\n",
              "    border-bottom-color: var(--fill-color);\n",
              "    animation:\n",
              "      spin 1s steps(1) infinite;\n",
              "  }\n",
              "\n",
              "  @keyframes spin {\n",
              "    0% {\n",
              "      border-color: transparent;\n",
              "      border-bottom-color: var(--fill-color);\n",
              "      border-left-color: var(--fill-color);\n",
              "    }\n",
              "    20% {\n",
              "      border-color: transparent;\n",
              "      border-left-color: var(--fill-color);\n",
              "      border-top-color: var(--fill-color);\n",
              "    }\n",
              "    30% {\n",
              "      border-color: transparent;\n",
              "      border-left-color: var(--fill-color);\n",
              "      border-top-color: var(--fill-color);\n",
              "      border-right-color: var(--fill-color);\n",
              "    }\n",
              "    40% {\n",
              "      border-color: transparent;\n",
              "      border-right-color: var(--fill-color);\n",
              "      border-top-color: var(--fill-color);\n",
              "    }\n",
              "    60% {\n",
              "      border-color: transparent;\n",
              "      border-right-color: var(--fill-color);\n",
              "    }\n",
              "    80% {\n",
              "      border-color: transparent;\n",
              "      border-right-color: var(--fill-color);\n",
              "      border-bottom-color: var(--fill-color);\n",
              "    }\n",
              "    90% {\n",
              "      border-color: transparent;\n",
              "      border-bottom-color: var(--fill-color);\n",
              "    }\n",
              "  }\n",
              "</style>\n",
              "\n",
              "  <script>\n",
              "    async function quickchart(key) {\n",
              "      const quickchartButtonEl =\n",
              "        document.querySelector('#' + key + ' button');\n",
              "      quickchartButtonEl.disabled = true;  // To prevent multiple clicks.\n",
              "      quickchartButtonEl.classList.add('colab-df-spinner');\n",
              "      try {\n",
              "        const charts = await google.colab.kernel.invokeFunction(\n",
              "            'suggestCharts', [key], {});\n",
              "      } catch (error) {\n",
              "        console.error('Error during call to suggestCharts:', error);\n",
              "      }\n",
              "      quickchartButtonEl.classList.remove('colab-df-spinner');\n",
              "      quickchartButtonEl.classList.add('colab-df-quickchart-complete');\n",
              "    }\n",
              "    (() => {\n",
              "      let quickchartButtonEl =\n",
              "        document.querySelector('#df-5d1f98ff-0477-4e95-9af8-f0072fa7aae1 button');\n",
              "      quickchartButtonEl.style.display =\n",
              "        google.colab.kernel.accessAllowed ? 'block' : 'none';\n",
              "    })();\n",
              "  </script>\n",
              "</div>\n",
              "    </div>\n",
              "  </div>\n"
            ],
            "application/vnd.google.colaboratory.intrinsic+json": {
              "type": "dataframe",
              "summary": "{\n  \"name\": \"df_train\",\n  \"rows\": 8,\n  \"fields\": [\n    {\n      \"column\": \"Age\",\n      \"properties\": {\n        \"dtype\": \"number\",\n        \"std\": 1809.7985904926193,\n        \"min\": 14.75,\n        \"max\": 5166.0,\n        \"num_unique_values\": 8,\n        \"samples\": [\n          51.292,\n          52.0,\n          5166.0\n        ],\n        \"semantic_type\": \"\",\n        \"description\": \"\"\n      }\n    },\n    {\n      \"column\": \"Gender\",\n      \"properties\": {\n        \"dtype\": \"number\",\n        \"std\": 1826.2493273926943,\n        \"min\": 0.0,\n        \"max\": 5166.0,\n        \"num_unique_values\": 5,\n        \"samples\": [\n          0.624,\n          1.0,\n          0.485\n        ],\n        \"semantic_type\": \"\",\n        \"description\": \"\"\n      }\n    },\n    {\n      \"column\": \"BMI\",\n      \"properties\": {\n        \"dtype\": \"number\",\n        \"std\": 1818.4414408533983,\n        \"min\": 3.381,\n        \"max\": 5166.0,\n        \"num_unique_values\": 8,\n        \"samples\": [\n          24.05,\n          24.0,\n          5166.0\n        ],\n        \"semantic_type\": \"\",\n        \"description\": \"\"\n      }\n    },\n    {\n      \"column\": \"Chol\",\n      \"properties\": {\n        \"dtype\": \"number\",\n        \"std\": 1824.7553366016734,\n        \"min\": 0.895,\n        \"max\": 5166.0,\n        \"num_unique_values\": 8,\n        \"samples\": [\n          4.917,\n          4.866,\n          5166.0\n        ],\n        \"semantic_type\": \"\",\n        \"description\": \"\"\n      }\n    },\n    {\n      \"column\": \"TG\",\n      \"properties\": {\n        \"dtype\": \"number\",\n        \"std\": 1824.4746560120836,\n        \"min\": 0.0,\n        \"max\": 5166.0,\n        \"num_unique_values\": 8,\n        \"samples\": [\n          1.667,\n          1.38,\n          5166.0\n        ],\n        \"semantic_type\": \"\",\n        \"description\": \"\"\n      }\n    },\n    {\n      \"column\": \"HDL\",\n      \"properties\": {\n        \"dtype\": \"number\",\n        \"std\": 1825.8415041241697,\n        \"min\": 0.0,\n        \"max\": 5166.0,\n        \"num_unique_values\": 8,\n        \"samples\": [\n          1.856,\n          1.36,\n          5166.0\n        ],\n        \"semantic_type\": \"\",\n        \"description\": \"\"\n      }\n    },\n    {\n      \"column\": \"LDL\",\n      \"properties\": {\n        \"dtype\": \"number\",\n        \"std\": 1825.4547775228114,\n        \"min\": 0.54,\n        \"max\": 5166.0,\n        \"num_unique_values\": 8,\n        \"samples\": [\n          3.122,\n          2.934,\n          5166.0\n        ],\n        \"semantic_type\": \"\",\n        \"description\": \"\"\n      }\n    },\n    {\n      \"column\": \"Cr\",\n      \"properties\": {\n        \"dtype\": \"number\",\n        \"std\": 1797.8425864190667,\n        \"min\": 4.861,\n        \"max\": 5166.0,\n        \"num_unique_values\": 8,\n        \"samples\": [\n          71.178,\n          71.434,\n          5166.0\n        ],\n        \"semantic_type\": \"\",\n        \"description\": \"\"\n      }\n    },\n    {\n      \"column\": \"BUN\",\n      \"properties\": {\n        \"dtype\": \"number\",\n        \"std\": 1824.4560710284309,\n        \"min\": 1.226,\n        \"max\": 5166.0,\n        \"num_unique_values\": 8,\n        \"samples\": [\n          4.916,\n          4.83,\n          5166.0\n        ],\n        \"semantic_type\": \"\",\n        \"description\": \"\"\n      }\n    },\n    {\n      \"column\": \"Diagnosis\",\n      \"properties\": {\n        \"dtype\": \"number\",\n        \"std\": 1826.2800782210659,\n        \"min\": 0.0,\n        \"max\": 5166.0,\n        \"num_unique_values\": 4,\n        \"samples\": [\n          0.5,\n          1.0,\n          5166.0\n        ],\n        \"semantic_type\": \"\",\n        \"description\": \"\"\n      }\n    }\n  ]\n}"
            }
          },
          "metadata": {},
          "execution_count": 52
        }
      ],
      "source": [
        "df_train.describe().round(3)"
      ]
    },
    {
      "cell_type": "code",
      "execution_count": 53,
      "metadata": {
        "colab": {
          "base_uri": "https://localhost:8080/",
          "height": 0
        },
        "id": "QJZGO0xitx-1",
        "outputId": "7c8b124f-88e8-4774-bf4c-084b7ea74cca"
      },
      "outputs": [
        {
          "output_type": "display_data",
          "data": {
            "text/plain": [
              "<Figure size 640x480 with 1 Axes>"
            ],
            "image/png": "[encoded data removed]"
          },
          "metadata": {}
        }
      ],
      "source": [
        "from matplotlib import pyplot as plt\n",
        "df_train['Age'].plot(kind='hist', bins=20, title='Age')\n",
        "plt.gca().spines[['top', 'right',]].set_visible(False)"
      ]
    },
    {
      "cell_type": "code",
      "execution_count": 54,
      "metadata": {
        "colab": {
          "base_uri": "https://localhost:8080/",
          "height": 0
        },
        "id": "snd8z-ngtzQs",
        "outputId": "e2726565-3420-4425-be8b-fed7ed964061"
      },
      "outputs": [
        {
          "output_type": "display_data",
          "data": {
            "text/plain": [
              "<Figure size 640x480 with 1 Axes>"
            ],
            "image/png": "[encoded data removed]"
          },
          "metadata": {}
        }
      ],
      "source": [
        "from matplotlib import pyplot as plt\n",
        "df_train['BMI'].plot(kind='hist', bins=20, title='BMI')\n",
        "plt.gca().spines[['top', 'right',]].set_visible(False)"
      ]
    },
    {
      "cell_type": "code",
      "execution_count": 55,
      "metadata": {
        "colab": {
          "base_uri": "https://localhost:8080/",
          "height": 0
        },
        "id": "KXr3EaHztz-u",
        "outputId": "62d44e6c-fb4e-4b29-ebec-fd4376a05ec9"
      },
      "outputs": [
        {
          "output_type": "display_data",
          "data": {
            "text/plain": [
              "<Figure size 640x480 with 1 Axes>"
            ],
            "image/png": "[encoded data removed]"
          },
          "metadata": {}
        }
      ],
      "source": [
        "from matplotlib import pyplot as plt\n",
        "df_train['Chol'].plot(kind='hist', bins=20, title='Chol')\n",
        "plt.gca().spines[['top', 'right',]].set_visible(False)"
      ]
    },
    {
      "cell_type": "code",
      "execution_count": 56,
      "metadata": {
        "colab": {
          "base_uri": "https://localhost:8080/",
          "height": 0
        },
        "id": "0k0iyYJrt8q7",
        "outputId": "a4e74a8b-f564-49aa-8a76-35cf308cd0a5"
      },
      "outputs": [
        {
          "output_type": "display_data",
          "data": {
            "text/plain": [
              "<Figure size 640x480 with 1 Axes>"
            ],
            "image/png": "[encoded data removed]"
          },
          "metadata": {}
        }
      ],
      "source": [
        "from matplotlib import pyplot as plt\n",
        "df_train['TG'].plot(kind='hist', bins=20, title='TG')\n",
        "plt.gca().spines[['top', 'right',]].set_visible(False)"
      ]
    },
    {
      "cell_type": "code",
      "execution_count": 57,
      "metadata": {
        "colab": {
          "base_uri": "https://localhost:8080/",
          "height": 0
        },
        "id": "JtUZrAnxuBiT",
        "outputId": "5fb2794a-9e0a-47f5-ec29-ec425cf335c6"
      },
      "outputs": [
        {
          "output_type": "display_data",
          "data": {
            "text/plain": [
              "<Figure size 640x480 with 1 Axes>"
            ],
            "image/png": "[encoded data removed]"
          },
          "metadata": {}
        }
      ],
      "source": [
        "from matplotlib import pyplot as plt\n",
        "df_train['HDL'].plot(kind='hist', bins=20, title='HDL')\n",
        "plt.gca().spines[['top', 'right',]].set_visible(False)"
      ]
    },
    {
      "cell_type": "code",
      "execution_count": 58,
      "metadata": {
        "colab": {
          "base_uri": "https://localhost:8080/",
          "height": 0
        },
        "id": "6d2mJZzPuElW",
        "outputId": "3bfb757d-e620-435e-df93-3ed7344094dd"
      },
      "outputs": [
        {
          "output_type": "display_data",
          "data": {
            "text/plain": [
              "<Figure size 640x480 with 1 Axes>"
            ],
            "image/png": "[encoded data removed]"
          },
          "metadata": {}
        }
      ],
      "source": [
        "from matplotlib import pyplot as plt\n",
        "df_train['LDL'].plot(kind='hist', bins=20, title='LDL')\n",
        "plt.gca().spines[['top', 'right',]].set_visible(False)"
      ]
    },
    {
      "cell_type": "code",
      "execution_count": 59,
      "metadata": {
        "colab": {
          "base_uri": "https://localhost:8080/",
          "height": 0
        },
        "id": "1hM75cA5uHgC",
        "outputId": "66bad9af-66bb-4099-e47f-f0413fc5626c"
      },
      "outputs": [
        {
          "output_type": "display_data",
          "data": {
            "text/plain": [
              "<Figure size 640x480 with 1 Axes>"
            ],
            "image/png": "[encoded data removed]"
          },
          "metadata": {}
        }
      ],
      "source": [
        "from matplotlib import pyplot as plt\n",
        "df_train['Cr'].plot(kind='hist', bins=20, title='Cr')\n",
        "plt.gca().spines[['top', 'right',]].set_visible(False)"
      ]
    },
    {
      "cell_type": "code",
      "execution_count": 60,
      "metadata": {
        "colab": {
          "base_uri": "https://localhost:8080/",
          "height": 0
        },
        "id": "Clz7bBxfuMVk",
        "outputId": "c951e580-d6a6-4a5d-b286-19b6d399928a"
      },
      "outputs": [
        {
          "output_type": "display_data",
          "data": {
            "text/plain": [
              "<Figure size 640x480 with 1 Axes>"
            ],
            "image/png": "[encoded data removed]"
          },
          "metadata": {}
        }
      ],
      "source": [
        "from matplotlib import pyplot as plt\n",
        "df_train['BUN'].plot(kind='hist', bins=20, title='BUN')\n",
        "plt.gca().spines[['top', 'right',]].set_visible(False)"
      ]
    },
    {
      "cell_type": "markdown",
      "source": [
        "# Association Rule"
      ],
      "metadata": {
        "id": "1ZsfOceWD9H2"
      }
    },
    {
      "cell_type": "code",
      "source": [],
      "metadata": {
        "id": "OkOuqqZ0D7cd"
      },
      "execution_count": null,
      "outputs": []
    },
    {
      "cell_type": "markdown",
      "metadata": {
        "id": "kfbw7gLURRk3"
      },
      "source": [
        "# Clustering"
      ]
    },
    {
      "cell_type": "markdown",
      "source": [
        "Kmeans"
      ],
      "metadata": {
        "id": "KklIUZho66qM"
      }
    },
    {
      "cell_type": "code",
      "execution_count": 136,
      "metadata": {
        "id": "5oVkFdDWRV-I"
      },
      "outputs": [],
      "source": [
        "from sklearn.cluster import KMeans\n",
        "from sklearn.metrics import silhouette_score, confusion_matrix, classification_report"
      ]
    },
    {
      "cell_type": "code",
      "execution_count": 137,
      "metadata": {
        "id": "yCFAX67_YXAq"
      },
      "outputs": [],
      "source": [
        "df_kmeans = df_train.copy(deep = True)"
      ]
    },
    {
      "cell_type": "code",
      "execution_count": 158,
      "metadata": {
        "colab": {
          "base_uri": "https://localhost:8080/",
          "height": 1000
        },
        "id": "PnoGlWeoYO4d",
        "outputId": "d23f6a11-9408-4553-fe82-786f83d9d723"
      },
      "outputs": [
        {
          "output_type": "stream",
          "name": "stderr",
          "text": [
            "/usr/local/lib/python3.10/dist-packages/sklearn/cluster/_kmeans.py:870: FutureWarning: The default value of `n_init` will change from 10 to 'auto' in 1.4. Set the value of `n_init` explicitly to suppress the warning\n",
            "  warnings.warn(\n",
            "/usr/local/lib/python3.10/dist-packages/sklearn/cluster/_kmeans.py:870: FutureWarning: The default value of `n_init` will change from 10 to 'auto' in 1.4. Set the value of `n_init` explicitly to suppress the warning\n",
            "  warnings.warn(\n",
            "/usr/local/lib/python3.10/dist-packages/sklearn/cluster/_kmeans.py:870: FutureWarning: The default value of `n_init` will change from 10 to 'auto' in 1.4. Set the value of `n_init` explicitly to suppress the warning\n",
            "  warnings.warn(\n",
            "/usr/local/lib/python3.10/dist-packages/sklearn/cluster/_kmeans.py:870: FutureWarning: The default value of `n_init` will change from 10 to 'auto' in 1.4. Set the value of `n_init` explicitly to suppress the warning\n",
            "  warnings.warn(\n",
            "/usr/local/lib/python3.10/dist-packages/sklearn/cluster/_kmeans.py:870: FutureWarning: The default value of `n_init` will change from 10 to 'auto' in 1.4. Set the value of `n_init` explicitly to suppress the warning\n",
            "  warnings.warn(\n",
            "/usr/local/lib/python3.10/dist-packages/sklearn/cluster/_kmeans.py:870: FutureWarning: The default value of `n_init` will change from 10 to 'auto' in 1.4. Set the value of `n_init` explicitly to suppress the warning\n",
            "  warnings.warn(\n",
            "/usr/local/lib/python3.10/dist-packages/sklearn/cluster/_kmeans.py:870: FutureWarning: The default value of `n_init` will change from 10 to 'auto' in 1.4. Set the value of `n_init` explicitly to suppress the warning\n",
            "  warnings.warn(\n",
            "/usr/local/lib/python3.10/dist-packages/sklearn/cluster/_kmeans.py:870: FutureWarning: The default value of `n_init` will change from 10 to 'auto' in 1.4. Set the value of `n_init` explicitly to suppress the warning\n",
            "  warnings.warn(\n",
            "/usr/local/lib/python3.10/dist-packages/sklearn/cluster/_kmeans.py:870: FutureWarning: The default value of `n_init` will change from 10 to 'auto' in 1.4. Set the value of `n_init` explicitly to suppress the warning\n",
            "  warnings.warn(\n",
            "/usr/local/lib/python3.10/dist-packages/sklearn/cluster/_kmeans.py:870: FutureWarning: The default value of `n_init` will change from 10 to 'auto' in 1.4. Set the value of `n_init` explicitly to suppress the warning\n",
            "  warnings.warn(\n",
            "/usr/local/lib/python3.10/dist-packages/sklearn/cluster/_kmeans.py:870: FutureWarning: The default value of `n_init` will change from 10 to 'auto' in 1.4. Set the value of `n_init` explicitly to suppress the warning\n",
            "  warnings.warn(\n",
            "/usr/local/lib/python3.10/dist-packages/sklearn/cluster/_kmeans.py:870: FutureWarning: The default value of `n_init` will change from 10 to 'auto' in 1.4. Set the value of `n_init` explicitly to suppress the warning\n",
            "  warnings.warn(\n",
            "/usr/local/lib/python3.10/dist-packages/sklearn/cluster/_kmeans.py:870: FutureWarning: The default value of `n_init` will change from 10 to 'auto' in 1.4. Set the value of `n_init` explicitly to suppress the warning\n",
            "  warnings.warn(\n",
            "/usr/local/lib/python3.10/dist-packages/sklearn/cluster/_kmeans.py:870: FutureWarning: The default value of `n_init` will change from 10 to 'auto' in 1.4. Set the value of `n_init` explicitly to suppress the warning\n",
            "  warnings.warn(\n",
            "/usr/local/lib/python3.10/dist-packages/sklearn/cluster/_kmeans.py:870: FutureWarning: The default value of `n_init` will change from 10 to 'auto' in 1.4. Set the value of `n_init` explicitly to suppress the warning\n",
            "  warnings.warn(\n",
            "/usr/local/lib/python3.10/dist-packages/sklearn/cluster/_kmeans.py:870: FutureWarning: The default value of `n_init` will change from 10 to 'auto' in 1.4. Set the value of `n_init` explicitly to suppress the warning\n",
            "  warnings.warn(\n",
            "/usr/local/lib/python3.10/dist-packages/sklearn/cluster/_kmeans.py:870: FutureWarning: The default value of `n_init` will change from 10 to 'auto' in 1.4. Set the value of `n_init` explicitly to suppress the warning\n",
            "  warnings.warn(\n",
            "/usr/local/lib/python3.10/dist-packages/sklearn/cluster/_kmeans.py:870: FutureWarning: The default value of `n_init` will change from 10 to 'auto' in 1.4. Set the value of `n_init` explicitly to suppress the warning\n",
            "  warnings.warn(\n",
            "/usr/local/lib/python3.10/dist-packages/sklearn/cluster/_kmeans.py:870: FutureWarning: The default value of `n_init` will change from 10 to 'auto' in 1.4. Set the value of `n_init` explicitly to suppress the warning\n",
            "  warnings.warn(\n",
            "/usr/local/lib/python3.10/dist-packages/sklearn/cluster/_kmeans.py:870: FutureWarning: The default value of `n_init` will change from 10 to 'auto' in 1.4. Set the value of `n_init` explicitly to suppress the warning\n",
            "  warnings.warn(\n",
            "/usr/local/lib/python3.10/dist-packages/sklearn/cluster/_kmeans.py:870: FutureWarning: The default value of `n_init` will change from 10 to 'auto' in 1.4. Set the value of `n_init` explicitly to suppress the warning\n",
            "  warnings.warn(\n",
            "/usr/local/lib/python3.10/dist-packages/sklearn/cluster/_kmeans.py:870: FutureWarning: The default value of `n_init` will change from 10 to 'auto' in 1.4. Set the value of `n_init` explicitly to suppress the warning\n",
            "  warnings.warn(\n",
            "/usr/local/lib/python3.10/dist-packages/sklearn/cluster/_kmeans.py:870: FutureWarning: The default value of `n_init` will change from 10 to 'auto' in 1.4. Set the value of `n_init` explicitly to suppress the warning\n",
            "  warnings.warn(\n",
            "/usr/local/lib/python3.10/dist-packages/sklearn/cluster/_kmeans.py:870: FutureWarning: The default value of `n_init` will change from 10 to 'auto' in 1.4. Set the value of `n_init` explicitly to suppress the warning\n",
            "  warnings.warn(\n",
            "/usr/local/lib/python3.10/dist-packages/sklearn/cluster/_kmeans.py:870: FutureWarning: The default value of `n_init` will change from 10 to 'auto' in 1.4. Set the value of `n_init` explicitly to suppress the warning\n",
            "  warnings.warn(\n",
            "/usr/local/lib/python3.10/dist-packages/sklearn/cluster/_kmeans.py:870: FutureWarning: The default value of `n_init` will change from 10 to 'auto' in 1.4. Set the value of `n_init` explicitly to suppress the warning\n",
            "  warnings.warn(\n",
            "/usr/local/lib/python3.10/dist-packages/sklearn/cluster/_kmeans.py:870: FutureWarning: The default value of `n_init` will change from 10 to 'auto' in 1.4. Set the value of `n_init` explicitly to suppress the warning\n",
            "  warnings.warn(\n",
            "/usr/local/lib/python3.10/dist-packages/sklearn/cluster/_kmeans.py:870: FutureWarning: The default value of `n_init` will change from 10 to 'auto' in 1.4. Set the value of `n_init` explicitly to suppress the warning\n",
            "  warnings.warn(\n",
            "/usr/local/lib/python3.10/dist-packages/sklearn/cluster/_kmeans.py:870: FutureWarning: The default value of `n_init` will change from 10 to 'auto' in 1.4. Set the value of `n_init` explicitly to suppress the warning\n",
            "  warnings.warn(\n",
            "/usr/local/lib/python3.10/dist-packages/sklearn/cluster/_kmeans.py:870: FutureWarning: The default value of `n_init` will change from 10 to 'auto' in 1.4. Set the value of `n_init` explicitly to suppress the warning\n",
            "  warnings.warn(\n"
          ]
        },
        {
          "output_type": "display_data",
          "data": {
            "text/plain": [
              "<Figure size 640x480 with 1 Axes>"
            ],
            "image/png": "[encoded data removed]"
          },
          "metadata": {}
        }
      ],
      "source": [
        "max_clusters = 30\n",
        "sse = []\n",
        "for k in range(1, max_clusters + 1):\n",
        "    kmeans = KMeans(n_clusters=k, random_state=42)\n",
        "    kmeans.fit(df_kmeans)\n",
        "    sse.append(kmeans.inertia_)\n",
        "\n",
        "plt.plot(range(1, max_clusters + 1), sse, marker='o')\n",
        "plt.xlabel('Số lượng cụm')\n",
        "plt.ylabel('SSE')\n",
        "plt.title('Phương pháp Elbow')\n",
        "plt.show()"
      ]
    },
    {
      "cell_type": "code",
      "execution_count": 161,
      "metadata": {
        "id": "aoDiNVFpYa31",
        "colab": {
          "base_uri": "https://localhost:8080/"
        },
        "outputId": "81572289-7cb8-4698-8185-bb03810c147b"
      },
      "outputs": [
        {
          "output_type": "stream",
          "name": "stderr",
          "text": [
            "/usr/local/lib/python3.10/dist-packages/sklearn/cluster/_kmeans.py:870: FutureWarning: The default value of `n_init` will change from 10 to 'auto' in 1.4. Set the value of `n_init` explicitly to suppress the warning\n",
            "  warnings.warn(\n"
          ]
        }
      ],
      "source": [
        "# Số cụm tối ưu dựa trên biểu đồ Elbow\n",
        "num_clusters = 10\n",
        "\n",
        "# Áp dụng thuật toán K-means\n",
        "kmeans = KMeans(n_clusters=num_clusters, random_state=42)\n",
        "kmeans.fit(df_kmeans)\n",
        "\n",
        "# Gán nhãn cụm cho dữ liệu\n",
        "df_kmeans['Cluster'] = kmeans.labels_"
      ]
    },
    {
      "cell_type": "code",
      "source": [
        "df_kmeans"
      ],
      "metadata": {
        "id": "jFXmEL3-tme0"
      },
      "execution_count": null,
      "outputs": []
    },
    {
      "cell_type": "code",
      "source": [
        "sns.heatmap(df_kmeans.pivot_table(values = ['Age', 'Gender', 'BMI', 'Chol', 'TG', 'HDL', 'LDL', 'Cr', 'BUN'], aggfunc='sum', index = 'Cluster'), cmap='BuPu')\n",
        "plt.show()"
      ],
      "metadata": {
        "colab": {
          "base_uri": "https://localhost:8080/",
          "height": 433
        },
        "id": "IXFD2dasyBXv",
        "outputId": "317719c9-cfe6-429b-b0e3-38c29dffdbaf"
      },
      "execution_count": 162,
      "outputs": [
        {
          "output_type": "display_data",
          "data": {
            "text/plain": [
              "<Figure size 640x480 with 2 Axes>"
            ],
            "image/png": "[encoded data removed]"
          },
          "metadata": {}
        }
      ]
    },
    {
      "cell_type": "markdown",
      "source": [
        "Hierarchical"
      ],
      "metadata": {
        "id": "ISGuiHxA69_P"
      }
    },
    {
      "cell_type": "code",
      "source": [
        "from sklearn.cluster import AgglomerativeClustering"
      ],
      "metadata": {
        "id": "yEfLjFCrBAui"
      },
      "execution_count": 134,
      "outputs": []
    },
    {
      "cell_type": "code",
      "source": [
        "df_hier = df_train.copy(deep = True)"
      ],
      "metadata": {
        "id": "aU-AwpPQBM8f"
      },
      "execution_count": 135,
      "outputs": []
    },
    {
      "cell_type": "code",
      "source": [
        "num_clusters =\n",
        "\n",
        "hier = AgglomerativeClustering(n_clusters = num_clusters, compute_distances = True)\n",
        "hier.fit(df_hier)\n",
        "\n",
        "df_hier['Cluster'] = hier.labels_"
      ],
      "metadata": {
        "id": "X57uljd1BnLf"
      },
      "execution_count": 143,
      "outputs": []
    },
    {
      "cell_type": "code",
      "source": [
        "df_hier"
      ],
      "metadata": {
        "colab": {
          "base_uri": "https://localhost:8080/",
          "height": 423
        },
        "id": "G6lrkY2YCn6V",
        "outputId": "7914314c-dd57-4828-c45b-4631ca87f82b"
      },
      "execution_count": 144,
      "outputs": [
        {
          "output_type": "execute_result",
          "data": {
            "text/plain": [
              "      Age  Gender        BMI      Chol        TG       HDL       LDL  \\\n",
              "0      35       1  24.000000  5.070000  3.110000  1.030000  3.180000   \n",
              "1      30       1  23.000000  4.820000  1.180000  1.450000  2.810000   \n",
              "2      40       0  20.000000  4.600000  0.500000  1.250000  2.620000   \n",
              "3      35       1  26.000000  4.900000  2.530000  1.390000  2.080000   \n",
              "4      50       1  21.000000  4.410000  0.870000  1.100000  2.650000   \n",
              "...   ...     ...        ...       ...       ...       ...       ...   \n",
              "5161   73       1  24.372123  5.310000  0.850230  1.492788  3.113248   \n",
              "5162   56       1  24.000000  4.864041  2.544863  1.279429  2.478493   \n",
              "5163   62       1  26.367078  4.172526  1.289102  1.126840  2.421259   \n",
              "5164   59       0  24.000000  5.311134  1.242901  4.765272  4.858932   \n",
              "5165   74       0  19.000000  6.024264  1.366722  4.860753  4.860753   \n",
              "\n",
              "              Cr       BUN  Diagnosis  Cluster  \n",
              "0      81.200000  3.380000        0.0        2  \n",
              "1      97.100000  4.800000        0.0        2  \n",
              "2      79.000000  3.790000        0.0        2  \n",
              "3      86.000000  6.100000        0.0        2  \n",
              "4      81.300000  6.420000        0.0        1  \n",
              "...          ...       ...        ...      ...  \n",
              "5161   77.460486  4.640026        1.0        1  \n",
              "5162   70.818493  3.281849        1.0        1  \n",
              "5163  102.531690  5.716972        1.0        4  \n",
              "5164   42.494854  4.461392        1.0        0  \n",
              "5165    4.860753  4.060160        1.0        0  \n",
              "\n",
              "[5166 rows x 11 columns]"
            ],
            "text/html": [
              "\n",
              "  <div id=\"df-f63797f0-4fa4-43b6-8ea1-6cb5407316f5\" class=\"colab-df-container\">\n",
              "    <div>\n",
              "<style scoped>\n",
              "    .dataframe tbody tr th:only-of-type {\n",
              "        vertical-align: middle;\n",
              "    }\n",
              "\n",
              "    .dataframe tbody tr th {\n",
              "        vertical-align: top;\n",
              "    }\n",
              "\n",
              "    .dataframe thead th {\n",
              "        text-align: right;\n",
              "    }\n",
              "</style>\n",
              "<table border=\"1\" class=\"dataframe\">\n",
              "  <thead>\n",
              "    <tr style=\"text-align: right;\">\n",
              "      <th></th>\n",
              "      <th>Age</th>\n",
              "      <th>Gender</th>\n",
              "      <th>BMI</th>\n",
              "      <th>Chol</th>\n",
              "      <th>TG</th>\n",
              "      <th>HDL</th>\n",
              "      <th>LDL</th>\n",
              "      <th>Cr</th>\n",
              "      <th>BUN</th>\n",
              "      <th>Diagnosis</th>\n",
              "      <th>Cluster</th>\n",
              "    </tr>\n",
              "  </thead>\n",
              "  <tbody>\n",
              "    <tr>\n",
              "      <th>0</th>\n",
              "      <td>35</td>\n",
              "      <td>1</td>\n",
              "      <td>24.000000</td>\n",
              "      <td>5.070000</td>\n",
              "      <td>3.110000</td>\n",
              "      <td>1.030000</td>\n",
              "      <td>3.180000</td>\n",
              "      <td>81.200000</td>\n",
              "      <td>3.380000</td>\n",
              "      <td>0.0</td>\n",
              "      <td>2</td>\n",
              "    </tr>\n",
              "    <tr>\n",
              "      <th>1</th>\n",
              "      <td>30</td>\n",
              "      <td>1</td>\n",
              "      <td>23.000000</td>\n",
              "      <td>4.820000</td>\n",
              "      <td>1.180000</td>\n",
              "      <td>1.450000</td>\n",
              "      <td>2.810000</td>\n",
              "      <td>97.100000</td>\n",
              "      <td>4.800000</td>\n",
              "      <td>0.0</td>\n",
              "      <td>2</td>\n",
              "    </tr>\n",
              "    <tr>\n",
              "      <th>2</th>\n",
              "      <td>40</td>\n",
              "      <td>0</td>\n",
              "      <td>20.000000</td>\n",
              "      <td>4.600000</td>\n",
              "      <td>0.500000</td>\n",
              "      <td>1.250000</td>\n",
              "      <td>2.620000</td>\n",
              "      <td>79.000000</td>\n",
              "      <td>3.790000</td>\n",
              "      <td>0.0</td>\n",
              "      <td>2</td>\n",
              "    </tr>\n",
              "    <tr>\n",
              "      <th>3</th>\n",
              "      <td>35</td>\n",
              "      <td>1</td>\n",
              "      <td>26.000000</td>\n",
              "      <td>4.900000</td>\n",
              "      <td>2.530000</td>\n",
              "      <td>1.390000</td>\n",
              "      <td>2.080000</td>\n",
              "      <td>86.000000</td>\n",
              "      <td>6.100000</td>\n",
              "      <td>0.0</td>\n",
              "      <td>2</td>\n",
              "    </tr>\n",
              "    <tr>\n",
              "      <th>4</th>\n",
              "      <td>50</td>\n",
              "      <td>1</td>\n",
              "      <td>21.000000</td>\n",
              "      <td>4.410000</td>\n",
              "      <td>0.870000</td>\n",
              "      <td>1.100000</td>\n",
              "      <td>2.650000</td>\n",
              "      <td>81.300000</td>\n",
              "      <td>6.420000</td>\n",
              "      <td>0.0</td>\n",
              "      <td>1</td>\n",
              "    </tr>\n",
              "    <tr>\n",
              "      <th>...</th>\n",
              "      <td>...</td>\n",
              "      <td>...</td>\n",
              "      <td>...</td>\n",
              "      <td>...</td>\n",
              "      <td>...</td>\n",
              "      <td>...</td>\n",
              "      <td>...</td>\n",
              "      <td>...</td>\n",
              "      <td>...</td>\n",
              "      <td>...</td>\n",
              "      <td>...</td>\n",
              "    </tr>\n",
              "    <tr>\n",
              "      <th>5161</th>\n",
              "      <td>73</td>\n",
              "      <td>1</td>\n",
              "      <td>24.372123</td>\n",
              "      <td>5.310000</td>\n",
              "      <td>0.850230</td>\n",
              "      <td>1.492788</td>\n",
              "      <td>3.113248</td>\n",
              "      <td>77.460486</td>\n",
              "      <td>4.640026</td>\n",
              "      <td>1.0</td>\n",
              "      <td>1</td>\n",
              "    </tr>\n",
              "    <tr>\n",
              "      <th>5162</th>\n",
              "      <td>56</td>\n",
              "      <td>1</td>\n",
              "      <td>24.000000</td>\n",
              "      <td>4.864041</td>\n",
              "      <td>2.544863</td>\n",
              "      <td>1.279429</td>\n",
              "      <td>2.478493</td>\n",
              "      <td>70.818493</td>\n",
              "      <td>3.281849</td>\n",
              "      <td>1.0</td>\n",
              "      <td>1</td>\n",
              "    </tr>\n",
              "    <tr>\n",
              "      <th>5163</th>\n",
              "      <td>62</td>\n",
              "      <td>1</td>\n",
              "      <td>26.367078</td>\n",
              "      <td>4.172526</td>\n",
              "      <td>1.289102</td>\n",
              "      <td>1.126840</td>\n",
              "      <td>2.421259</td>\n",
              "      <td>102.531690</td>\n",
              "      <td>5.716972</td>\n",
              "      <td>1.0</td>\n",
              "      <td>4</td>\n",
              "    </tr>\n",
              "    <tr>\n",
              "      <th>5164</th>\n",
              "      <td>59</td>\n",
              "      <td>0</td>\n",
              "      <td>24.000000</td>\n",
              "      <td>5.311134</td>\n",
              "      <td>1.242901</td>\n",
              "      <td>4.765272</td>\n",
              "      <td>4.858932</td>\n",
              "      <td>42.494854</td>\n",
              "      <td>4.461392</td>\n",
              "      <td>1.0</td>\n",
              "      <td>0</td>\n",
              "    </tr>\n",
              "    <tr>\n",
              "      <th>5165</th>\n",
              "      <td>74</td>\n",
              "      <td>0</td>\n",
              "      <td>19.000000</td>\n",
              "      <td>6.024264</td>\n",
              "      <td>1.366722</td>\n",
              "      <td>4.860753</td>\n",
              "      <td>4.860753</td>\n",
              "      <td>4.860753</td>\n",
              "      <td>4.060160</td>\n",
              "      <td>1.0</td>\n",
              "      <td>0</td>\n",
              "    </tr>\n",
              "  </tbody>\n",
              "</table>\n",
              "<p>5166 rows × 11 columns</p>\n",
              "</div>\n",
              "    <div class=\"colab-df-buttons\">\n",
              "\n",
              "  <div class=\"colab-df-container\">\n",
              "    <button class=\"colab-df-convert\" onclick=\"convertToInteractive('df-f63797f0-4fa4-43b6-8ea1-6cb5407316f5')\"\n",
              "            title=\"Convert this dataframe to an interactive table.\"\n",
              "            style=\"display:none;\">\n",
              "\n",
              "  <svg xmlns=\"http://www.w3.org/2000/svg\" height=\"24px\" viewBox=\"0 -960 960 960\">\n",
              "    <path d=\"M120-120v-720h720v720H120Zm60-500h600v-160H180v160Zm220 220h160v-160H400v160Zm0 220h160v-160H400v160ZM180-400h160v-160H180v160Zm440 0h160v-160H620v160ZM180-180h160v-160H180v160Zm440 0h160v-160H620v160Z\"/>\n",
              "  </svg>\n",
              "    </button>\n",
              "\n",
              "  <style>\n",
              "    .colab-df-container {\n",
              "      display:flex;\n",
              "      gap: 12px;\n",
              "    }\n",
              "\n",
              "    .colab-df-convert {\n",
              "      background-color: #E8F0FE;\n",
              "      border: none;\n",
              "      border-radius: 50%;\n",
              "      cursor: pointer;\n",
              "      display: none;\n",
              "      fill: #1967D2;\n",
              "      height: 32px;\n",
              "      padding: 0 0 0 0;\n",
              "      width: 32px;\n",
              "    }\n",
              "\n",
              "    .colab-df-convert:hover {\n",
              "      background-color: #E2EBFA;\n",
              "      box-shadow: 0px 1px 2px rgba(60, 64, 67, 0.3), 0px 1px 3px 1px rgba(60, 64, 67, 0.15);\n",
              "      fill: #174EA6;\n",
              "    }\n",
              "\n",
              "    .colab-df-buttons div {\n",
              "      margin-bottom: 4px;\n",
              "    }\n",
              "\n",
              "    [theme=dark] .colab-df-convert {\n",
              "      background-color: #3B4455;\n",
              "      fill: #D2E3FC;\n",
              "    }\n",
              "\n",
              "    [theme=dark] .colab-df-convert:hover {\n",
              "      background-color: #434B5C;\n",
              "      box-shadow: 0px 1px 3px 1px rgba(0, 0, 0, 0.15);\n",
              "      filter: drop-shadow(0px 1px 2px rgba(0, 0, 0, 0.3));\n",
              "      fill: #FFFFFF;\n",
              "    }\n",
              "  </style>\n",
              "\n",
              "    <script>\n",
              "      const buttonEl =\n",
              "        document.querySelector('#df-f63797f0-4fa4-43b6-8ea1-6cb5407316f5 button.colab-df-convert');\n",
              "      buttonEl.style.display =\n",
              "        google.colab.kernel.accessAllowed ? 'block' : 'none';\n",
              "\n",
              "      async function convertToInteractive(key) {\n",
              "        const element = document.querySelector('#df-f63797f0-4fa4-43b6-8ea1-6cb5407316f5');\n",
              "        const dataTable =\n",
              "          await google.colab.kernel.invokeFunction('convertToInteractive',\n",
              "                                                    [key], {});\n",
              "        if (!dataTable) return;\n",
              "\n",
              "        const docLinkHtml = 'Like what you see? Visit the ' +\n",
              "          '<a target=\"_blank\" href=https://colab.research.google.com/notebooks/data_table.ipynb>data table notebook</a>'\n",
              "          + ' to learn more about interactive tables.';\n",
              "        element.innerHTML = '';\n",
              "        dataTable['output_type'] = 'display_data';\n",
              "        await google.colab.output.renderOutput(dataTable, element);\n",
              "        const docLink = document.createElement('div');\n",
              "        docLink.innerHTML = docLinkHtml;\n",
              "        element.appendChild(docLink);\n",
              "      }\n",
              "    </script>\n",
              "  </div>\n",
              "\n",
              "\n",
              "<div id=\"df-c11ef1e6-82fb-41ce-bf69-7824a70cfe50\">\n",
              "  <button class=\"colab-df-quickchart\" onclick=\"quickchart('df-c11ef1e6-82fb-41ce-bf69-7824a70cfe50')\"\n",
              "            title=\"Suggest charts\"\n",
              "            style=\"display:none;\">\n",
              "\n",
              "<svg xmlns=\"http://www.w3.org/2000/svg\" height=\"24px\"viewBox=\"0 0 24 24\"\n",
              "     width=\"24px\">\n",
              "    <g>\n",
              "        <path d=\"M19 3H5c-1.1 0-2 .9-2 2v14c0 1.1.9 2 2 2h14c1.1 0 2-.9 2-2V5c0-1.1-.9-2-2-2zM9 17H7v-7h2v7zm4 0h-2V7h2v10zm4 0h-2v-4h2v4z\"/>\n",
              "    </g>\n",
              "</svg>\n",
              "  </button>\n",
              "\n",
              "<style>\n",
              "  .colab-df-quickchart {\n",
              "      --bg-color: #E8F0FE;\n",
              "      --fill-color: #1967D2;\n",
              "      --hover-bg-color: #E2EBFA;\n",
              "      --hover-fill-color: #174EA6;\n",
              "      --disabled-fill-color: #AAA;\n",
              "      --disabled-bg-color: #DDD;\n",
              "  }\n",
              "\n",
              "  [theme=dark] .colab-df-quickchart {\n",
              "      --bg-color: #3B4455;\n",
              "      --fill-color: #D2E3FC;\n",
              "      --hover-bg-color: #434B5C;\n",
              "      --hover-fill-color: #FFFFFF;\n",
              "      --disabled-bg-color: #3B4455;\n",
              "      --disabled-fill-color: #666;\n",
              "  }\n",
              "\n",
              "  .colab-df-quickchart {\n",
              "    background-color: var(--bg-color);\n",
              "    border: none;\n",
              "    border-radius: 50%;\n",
              "    cursor: pointer;\n",
              "    display: none;\n",
              "    fill: var(--fill-color);\n",
              "    height: 32px;\n",
              "    padding: 0;\n",
              "    width: 32px;\n",
              "  }\n",
              "\n",
              "  .colab-df-quickchart:hover {\n",
              "    background-color: var(--hover-bg-color);\n",
              "    box-shadow: 0 1px 2px rgba(60, 64, 67, 0.3), 0 1px 3px 1px rgba(60, 64, 67, 0.15);\n",
              "    fill: var(--button-hover-fill-color);\n",
              "  }\n",
              "\n",
              "  .colab-df-quickchart-complete:disabled,\n",
              "  .colab-df-quickchart-complete:disabled:hover {\n",
              "    background-color: var(--disabled-bg-color);\n",
              "    fill: var(--disabled-fill-color);\n",
              "    box-shadow: none;\n",
              "  }\n",
              "\n",
              "  .colab-df-spinner {\n",
              "    border: 2px solid var(--fill-color);\n",
              "    border-color: transparent;\n",
              "    border-bottom-color: var(--fill-color);\n",
              "    animation:\n",
              "      spin 1s steps(1) infinite;\n",
              "  }\n",
              "\n",
              "  @keyframes spin {\n",
              "    0% {\n",
              "      border-color: transparent;\n",
              "      border-bottom-color: var(--fill-color);\n",
              "      border-left-color: var(--fill-color);\n",
              "    }\n",
              "    20% {\n",
              "      border-color: transparent;\n",
              "      border-left-color: var(--fill-color);\n",
              "      border-top-color: var(--fill-color);\n",
              "    }\n",
              "    30% {\n",
              "      border-color: transparent;\n",
              "      border-left-color: var(--fill-color);\n",
              "      border-top-color: var(--fill-color);\n",
              "      border-right-color: var(--fill-color);\n",
              "    }\n",
              "    40% {\n",
              "      border-color: transparent;\n",
              "      border-right-color: var(--fill-color);\n",
              "      border-top-color: var(--fill-color);\n",
              "    }\n",
              "    60% {\n",
              "      border-color: transparent;\n",
              "      border-right-color: var(--fill-color);\n",
              "    }\n",
              "    80% {\n",
              "      border-color: transparent;\n",
              "      border-right-color: var(--fill-color);\n",
              "      border-bottom-color: var(--fill-color);\n",
              "    }\n",
              "    90% {\n",
              "      border-color: transparent;\n",
              "      border-bottom-color: var(--fill-color);\n",
              "    }\n",
              "  }\n",
              "</style>\n",
              "\n",
              "  <script>\n",
              "    async function quickchart(key) {\n",
              "      const quickchartButtonEl =\n",
              "        document.querySelector('#' + key + ' button');\n",
              "      quickchartButtonEl.disabled = true;  // To prevent multiple clicks.\n",
              "      quickchartButtonEl.classList.add('colab-df-spinner');\n",
              "      try {\n",
              "        const charts = await google.colab.kernel.invokeFunction(\n",
              "            'suggestCharts', [key], {});\n",
              "      } catch (error) {\n",
              "        console.error('Error during call to suggestCharts:', error);\n",
              "      }\n",
              "      quickchartButtonEl.classList.remove('colab-df-spinner');\n",
              "      quickchartButtonEl.classList.add('colab-df-quickchart-complete');\n",
              "    }\n",
              "    (() => {\n",
              "      let quickchartButtonEl =\n",
              "        document.querySelector('#df-c11ef1e6-82fb-41ce-bf69-7824a70cfe50 button');\n",
              "      quickchartButtonEl.style.display =\n",
              "        google.colab.kernel.accessAllowed ? 'block' : 'none';\n",
              "    })();\n",
              "  </script>\n",
              "</div>\n",
              "    </div>\n",
              "  </div>\n"
            ],
            "application/vnd.google.colaboratory.intrinsic+json": {
              "type": "dataframe",
              "variable_name": "df_hier",
              "summary": "{\n  \"name\": \"df_hier\",\n  \"rows\": 5166,\n  \"fields\": [\n    {\n      \"column\": \"Age\",\n      \"properties\": {\n        \"dtype\": \"number\",\n        \"std\": 14,\n        \"min\": 22,\n        \"max\": 93,\n        \"num_unique_values\": 71,\n        \"samples\": [\n          45,\n          35,\n          74\n        ],\n        \"semantic_type\": \"\",\n        \"description\": \"\"\n      }\n    },\n    {\n      \"column\": \"Gender\",\n      \"properties\": {\n        \"dtype\": \"number\",\n        \"std\": 0,\n        \"min\": 0,\n        \"max\": 1,\n        \"num_unique_values\": 2,\n        \"samples\": [\n          0,\n          1\n        ],\n        \"semantic_type\": \"\",\n        \"description\": \"\"\n      }\n    },\n    {\n      \"column\": \"BMI\",\n      \"properties\": {\n        \"dtype\": \"number\",\n        \"std\": 3.3808743598248823,\n        \"min\": 15.0,\n        \"max\": 45.0,\n        \"num_unique_values\": 1104,\n        \"samples\": [\n          27.596769656140694,\n          25.899253638337655\n        ],\n        \"semantic_type\": \"\",\n        \"description\": \"\"\n      }\n    },\n    {\n      \"column\": \"Chol\",\n      \"properties\": {\n        \"dtype\": \"number\",\n        \"std\": 0.8946175250329,\n        \"min\": 1.65,\n        \"max\": 11.65,\n        \"num_unique_values\": 1836,\n        \"samples\": [\n          5.438926721584337,\n          5.394598517831605\n        ],\n        \"semantic_type\": \"\",\n        \"description\": \"\"\n      }\n    },\n    {\n      \"column\": \"TG\",\n      \"properties\": {\n        \"dtype\": \"number\",\n        \"std\": 1.221865016115831,\n        \"min\": 0.0,\n        \"max\": 32.64,\n        \"num_unique_values\": 1823,\n        \"samples\": [\n          0.7312458570198994,\n          2.7895137020576937\n        ],\n        \"semantic_type\": \"\",\n        \"description\": \"\"\n      }\n    },\n    {\n      \"column\": \"HDL\",\n      \"properties\": {\n        \"dtype\": \"number\",\n        \"std\": 1.2761568202894018,\n        \"min\": 0.0,\n        \"max\": 4.860753,\n        \"num_unique_values\": 1235,\n        \"samples\": [\n          1.6524643504561831,\n          1.2616319024779072\n        ],\n        \"semantic_type\": \"\",\n        \"description\": \"\"\n      }\n    },\n    {\n      \"column\": \"LDL\",\n      \"properties\": {\n        \"dtype\": \"number\",\n        \"std\": 0.9434584219522547,\n        \"min\": 0.54,\n        \"max\": 6.27,\n        \"num_unique_values\": 1449,\n        \"samples\": [\n          2.3007022108491366,\n          3.2767291936762195\n        ],\n        \"semantic_type\": \"\",\n        \"description\": \"\"\n      }\n    },\n    {\n      \"column\": \"Cr\",\n      \"properties\": {\n        \"dtype\": \"number\",\n        \"std\": 18.276203381666605,\n        \"min\": 4.860753,\n        \"max\": 307.0,\n        \"num_unique_values\": 1967,\n        \"samples\": [\n          61.9597856722788,\n          59.05925487058077\n        ],\n        \"semantic_type\": \"\",\n        \"description\": \"\"\n      }\n    },\n    {\n      \"column\": \"BUN\",\n      \"properties\": {\n        \"dtype\": \"number\",\n        \"std\": 1.225936666635918,\n        \"min\": 1.38,\n        \"max\": 17.73,\n        \"num_unique_values\": 1893,\n        \"samples\": [\n          4.455002071254837,\n          5.488160258839214\n        ],\n        \"semantic_type\": \"\",\n        \"description\": \"\"\n      }\n    },\n    {\n      \"column\": \"Diagnosis\",\n      \"properties\": {\n        \"dtype\": \"number\",\n        \"std\": 0.5000484003679562,\n        \"min\": 0.0,\n        \"max\": 1.0,\n        \"num_unique_values\": 2,\n        \"samples\": [\n          1.0,\n          0.0\n        ],\n        \"semantic_type\": \"\",\n        \"description\": \"\"\n      }\n    },\n    {\n      \"column\": \"Cluster\",\n      \"properties\": {\n        \"dtype\": \"number\",\n        \"std\": 1,\n        \"min\": 0,\n        \"max\": 4,\n        \"num_unique_values\": 5,\n        \"samples\": [\n          1,\n          0\n        ],\n        \"semantic_type\": \"\",\n        \"description\": \"\"\n      }\n    }\n  ]\n}"
            }
          },
          "metadata": {},
          "execution_count": 144
        }
      ]
    },
    {
      "cell_type": "code",
      "source": [
        "plt.scatter(df_hier['Cluster'], df_hier['LDL'], c = df_hier['Cluster'], cmap = 'viridis')\n",
        "plt.xlabel('Cluster')\n",
        "plt.ylabel('Age')\n",
        "plt.title('Phân cụm Hierarchical')\n",
        "plt.show()"
      ],
      "metadata": {
        "colab": {
          "base_uri": "https://localhost:8080/",
          "height": 472
        },
        "id": "W1GS7Rp0DPnH",
        "outputId": "4c7f86a8-b637-4790-c0ee-6c4093b6484f"
      },
      "execution_count": 156,
      "outputs": [
        {
          "output_type": "display_data",
          "data": {
            "text/plain": [
              "<Figure size 640x480 with 1 Axes>"
            ],
            "image/png": "[encoded data removed]"
          },
          "metadata": {}
        }
      ]
    },
    {
      "cell_type": "code",
      "source": [
        "sns.heatmap(df_hier.pivot_table(values = ['Age', 'Gender', 'BMI', 'Chol', 'TG', 'HDL', 'LDL', 'Cr', 'BUN'], aggfunc='sum', index = 'Cluster'), cmap='BuPu')\n",
        "plt.show()"
      ],
      "metadata": {
        "colab": {
          "base_uri": "https://localhost:8080/",
          "height": 430
        },
        "id": "nu6dO7s2CuLw",
        "outputId": "99da68cb-4a0c-457c-abe2-b93968c366a7"
      },
      "execution_count": 146,
      "outputs": [
        {
          "output_type": "display_data",
          "data": {
            "text/plain": [
              "<Figure size 640x480 with 2 Axes>"
            ],
            "image/png": "[encoded data removed]"
          },
          "metadata": {}
        }
      ]
    },
    {
      "cell_type": "markdown",
      "source": [
        "# Classification"
      ],
      "metadata": {
        "id": "5eQS9cl6D0Va"
      }
    },
    {
      "cell_type": "code",
      "source": [],
      "metadata": {
        "id": "2ceiQweRD5np"
      },
      "execution_count": null,
      "outputs": []
    }
  ],
  "metadata": {
    "colab": {
      "toc_visible": true,
      "provenance": [],
      "include_colab_link": true
    },
    "kernelspec": {
      "display_name": "Python 3",
      "name": "python3"
    },
    "language_info": {
      "name": "python"
    }
  },
  "nbformat": 4,
  "nbformat_minor": 0
}